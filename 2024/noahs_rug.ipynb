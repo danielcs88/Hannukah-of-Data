{
 "cells": [
  {
   "cell_type": "markdown",
   "id": "4dfde379",
   "metadata": {},
   "source": [
    "# [Noah's Rug](https://www.whereinthedata.com/noahsrug/)\n",
    "\n",
    "## 0. Noah's Market\n",
    "\n",
    "Welcome to \"Noah's Market\", a bustling mom-and-pop everything store in\n",
    "Manhattan. In recent years it’s become quite an operation, but Noah and family\n",
    "still own and manage it.\n",
    "\n",
    "This morning, while waiting for your breakfast bagel, your Aunt Sarah pulled\n",
    "you aside in a hustle.\n",
    "\n",
    "\"You know how Grandpa Noah has been talking recently about that rug we used to\n",
    "have?\"\n",
    "\n",
    "She looked over at Noah, who was talking to a customer: \"Such a beautiful\n",
    "carpet, with the most intricate design! I miss having it in my den. It has\n",
    "this vibrant beehive buzzing in the corner…\"\n",
    "\n",
    "Sarah explained, \"He entrusted me with that rug when he was remodeling his den\n",
    "a few years ago. It was so old and filthy, that I sent it to the cleaners, but\n",
    "then I completely forgot about it. Now, with him retiring and me taking over\n",
    "the store, he wants it back. So yesterday I freaked out and combed my\n",
    "apartment, and I finally found a claim ticket saying, 'All items must be\n",
    "picked up within 90 days.' At the cleaners, they didn't have the rug, just the\n",
    "other half of the ticket.\"\n",
    "\n",
    "Sarah added, \"I need to find that rug before your grandpa comes over on the\n",
    "last night of Hanukkah. I have an idea involving a customer in our\n",
    "database--we can look up customers by name, of course, but this one is a\n",
    "little tricky because I don't know their name exactly. So I called Alex, you\n",
    "know how he set up the database when he was just a freshman? But now that he's\n",
    "working for a big corporation, little Alexander Carpenter has no time to help\n",
    "his mother.\"\n",
    "\n",
    "She brings you into the back office and shows you a computer terminal.\n",
    "\n",
    "\"But I was thinking, maybe you could do it? I mean here is the terminal where\n",
    "Alex did all of his stuff with the database. I can never find the time to\n",
    "figure it out, so you'll have to call Alex to learn how to use it.\"\n",
    "\n",
    "Sarah sighs and goes to talk with one of the cashiers.\n",
    "\n",
    "Can you find your cousin's phone number?"
   ]
  },
  {
   "cell_type": "code",
   "execution_count": 1,
   "id": "a4e5fbef",
   "metadata": {
    "execution": {
     "iopub.execute_input": "2024-12-24T15:38:27.728204Z",
     "iopub.status.busy": "2024-12-24T15:38:27.727845Z",
     "iopub.status.idle": "2024-12-24T15:38:27.733019Z",
     "shell.execute_reply": "2024-12-24T15:38:27.732755Z"
    }
   },
   "outputs": [],
   "source": [
    "from datetime import date, datetime\n",
    "from enum import Enum\n",
    "from zipfile import ZipFile\n",
    "\n",
    "import pandas as pd\n",
    "import polars as pl\n",
    "import polars.selectors as cs\n",
    "import pyperclip\n",
    "\n",
    "\n",
    "def get_zipped_csv(zipped_filename: str) -> bytes:\n",
    "    return ZipFile(zipped_filename).open(zipped_filename[:-4]).read()\n",
    "\n",
    "\n",
    "def answer(df: pl.DataFrame) -> str:\n",
    "    r\"\"\"\n",
    "    Returns answer, in this case, the phone number and copies to clipboard.\n",
    "\n",
    "    Parameters\n",
    "    ----------\n",
    "    df : Union[pd.DataFrame, pd.Series]\n",
    "\n",
    "    Returns\n",
    "    -------\n",
    "    str\n",
    "    \"\"\"\n",
    "    result = df.select(\"phone\").item()\n",
    "    pyperclip.copy(result)\n",
    "    return result\n",
    "\n",
    "\n",
    "def preview_dfs() -> None:\n",
    "    for df in [orders, customers, products, orders_items]:\n",
    "        print(df.pipe(z_namestr))\n",
    "        df.head().collect().pipe(z_classy_print)"
   ]
  },
  {
   "cell_type": "code",
   "execution_count": 2,
   "id": "b907673d",
   "metadata": {
    "execution": {
     "iopub.execute_input": "2024-12-24T15:38:27.734494Z",
     "iopub.status.busy": "2024-12-24T15:38:27.734398Z",
     "iopub.status.idle": "2024-12-24T15:38:27.809300Z",
     "shell.execute_reply": "2024-12-24T15:38:27.808983Z"
    }
   },
   "outputs": [],
   "source": [
    "products = pl.scan_csv(get_zipped_csv(\"noahs-products.csv.zip\"))\n",
    "customers = pl.scan_csv(get_zipped_csv(\"noahs-customers.csv.zip\"), try_parse_dates=True)\n",
    "orders = pl.scan_csv(get_zipped_csv(\"noahs-orders.csv.zip\"), try_parse_dates=True)\n",
    "orders_items = pl.scan_csv(get_zipped_csv(\"noahs-orders_items.csv.zip\"))"
   ]
  },
  {
   "cell_type": "code",
   "execution_count": 3,
   "id": "f61c3b76",
   "metadata": {
    "execution": {
     "iopub.execute_input": "2024-12-24T15:38:27.810632Z",
     "iopub.status.busy": "2024-12-24T15:38:27.810550Z",
     "iopub.status.idle": "2024-12-24T15:38:27.812318Z",
     "shell.execute_reply": "2024-12-24T15:38:27.812106Z"
    }
   },
   "outputs": [],
   "source": [
    "def one(customers_df: pl.LazyFrame) -> pl.DataFrame:\n",
    "    return customers_df.filter(\n",
    "        pl.col(\"name\").str.contains(\"Alexander Carpenter\")\n",
    "    ).collect()"
   ]
  },
  {
   "cell_type": "code",
   "execution_count": 4,
   "id": "0574bc28",
   "metadata": {
    "execution": {
     "iopub.execute_input": "2024-12-24T15:38:27.813408Z",
     "iopub.status.busy": "2024-12-24T15:38:27.813330Z",
     "iopub.status.idle": "2024-12-24T15:38:27.822804Z",
     "shell.execute_reply": "2024-12-24T15:38:27.822586Z"
    }
   },
   "outputs": [
    {
     "data": {
      "text/html": [
       "<div><style>\n",
       ".dataframe > thead > tr,\n",
       ".dataframe > tbody > tr {\n",
       "  text-align: right;\n",
       "  white-space: pre-wrap;\n",
       "}\n",
       "</style>\n",
       "<small>shape: (1, 9)</small><table border=\"1\" class=\"dataframe\"><thead><tr><th>customerid</th><th>name</th><th>address</th><th>citystatezip</th><th>birthdate</th><th>phone</th><th>timezone</th><th>lat</th><th>long</th></tr><tr><td>i64</td><td>str</td><td>str</td><td>str</td><td>date</td><td>str</td><td>str</td><td>f64</td><td>f64</td></tr></thead><tbody><tr><td>1908</td><td>&quot;Alexander Carpenter&quot;</td><td>&quot;201A Jersey St&quot;</td><td>&quot;Staten Island, NY 10301&quot;</td><td>1995-12-15</td><td>&quot;516-821-8454&quot;</td><td>&quot;America/New_York&quot;</td><td>40.64393</td><td>-74.08503</td></tr></tbody></table></div>"
      ],
      "text/plain": [
       "shape: (1, 9)\n",
       "┌───────────┬───────────┬───────────┬───────────┬───┬───────────┬───────────┬──────────┬───────────┐\n",
       "│ customeri ┆ name      ┆ address   ┆ citystate ┆ … ┆ phone     ┆ timezone  ┆ lat      ┆ long      │\n",
       "│ d         ┆ ---       ┆ ---       ┆ zip       ┆   ┆ ---       ┆ ---       ┆ ---      ┆ ---       │\n",
       "│ ---       ┆ str       ┆ str       ┆ ---       ┆   ┆ str       ┆ str       ┆ f64      ┆ f64       │\n",
       "│ i64       ┆           ┆           ┆ str       ┆   ┆           ┆           ┆          ┆           │\n",
       "╞═══════════╪═══════════╪═══════════╪═══════════╪═══╪═══════════╪═══════════╪══════════╪═══════════╡\n",
       "│ 1908      ┆ Alexander ┆ 201A      ┆ Staten    ┆ … ┆ 516-821-8 ┆ America/N ┆ 40.64393 ┆ -74.08503 │\n",
       "│           ┆ Carpenter ┆ Jersey St ┆ Island,   ┆   ┆ 454       ┆ ew_York   ┆          ┆           │\n",
       "│           ┆           ┆           ┆ NY 10301  ┆   ┆           ┆           ┆          ┆           │\n",
       "└───────────┴───────────┴───────────┴───────────┴───┴───────────┴───────────┴──────────┴───────────┘"
      ]
     },
     "execution_count": 4,
     "metadata": {},
     "output_type": "execute_result"
    }
   ],
   "source": [
    "customers.pipe(one)"
   ]
  },
  {
   "cell_type": "code",
   "execution_count": 5,
   "id": "e5e461d5",
   "metadata": {
    "execution": {
     "iopub.execute_input": "2024-12-24T15:38:27.824053Z",
     "iopub.status.busy": "2024-12-24T15:38:27.823973Z",
     "iopub.status.idle": "2024-12-24T15:38:27.841179Z",
     "shell.execute_reply": "2024-12-24T15:38:27.840813Z"
    },
    "lines_to_next_cell": 2
   },
   "outputs": [
    {
     "data": {
      "text/plain": [
       "'516-821-8454'"
      ]
     },
     "execution_count": 5,
     "metadata": {},
     "output_type": "execute_result"
    }
   ],
   "source": [
    "_.pipe(answer)"
   ]
  },
  {
   "cell_type": "markdown",
   "id": "7c7c8f0c",
   "metadata": {},
   "source": [
    "```sql\n",
    "SELECT phone\n",
    "FROM CUSTOMERS\n",
    "WHERE name LIKE \"Alexander Carpenter\"\n",
    "```"
   ]
  },
  {
   "cell_type": "markdown",
   "id": "df2e233f",
   "metadata": {
    "lines_to_next_cell": 2
   },
   "source": [
    "## 1. The Investigator\n",
    "\n",
    "You called Alex, and Alex gave you the lowdown on the terminal.\n",
    "\n",
    "\"It's just SQLite,\" he said. \"It's not that hard to figure out. I even made a\n",
    "nice little interface for it--everything you need to know should be in the\n",
    "Help tab. Anyway I have to go, I'm trying to solve the latest Advent of Code\n",
    "puzzle using CSS.\"\n",
    "\n",
    "Alex hung up just as Sarah brought a cashier into the office.\n",
    "\n",
    "She said, \"Joe here says that one of our customers is a skilled private\n",
    "investigator.\"\n",
    "\n",
    "Joe nodded, \"They showed me their business card, and that's what it said.\n",
    "Skilled Private Investigator. And their phone number was their last name\n",
    "spelled out. I didn't know what that meant, but apparently before there were\n",
    "smartphones, people had to remember phone numbers or write them down. If you\n",
    "wanted a phone number that was easy-to-remember, you could get a number that\n",
    "spelled something using the letters printed on the phone buttons: like 2 has\n",
    "\"ABC\", and 3 \"DEF\", etc. And I guess this person had done that, so if you\n",
    "dialed the numbers corresponding to the letters in their name, it would call\n",
    "their phone number!\n",
    "\n",
    "\"I thought that was pretty cool. But I don't remember their name, or anything\n",
    "else about them for that matter. I couldn't even tell you if they were male or\n",
    "female.\"\n",
    "\n",
    "Sarah said, \"This person seems like they are skilled at investigation. I need\n",
    "them to find Noah's rug before the Hanukkah dinner. I don't know how to\n",
    "contact them, but apparently they shop here at Noah's Market.\"\n",
    "\n",
    "\"So can you find this investigator's phone number?\""
   ]
  },
  {
   "cell_type": "code",
   "execution_count": 6,
   "id": "e06d1061",
   "metadata": {
    "execution": {
     "iopub.execute_input": "2024-12-24T15:38:27.842683Z",
     "iopub.status.busy": "2024-12-24T15:38:27.842570Z",
     "iopub.status.idle": "2024-12-24T15:38:27.845365Z",
     "shell.execute_reply": "2024-12-24T15:38:27.845141Z"
    }
   },
   "outputs": [],
   "source": [
    "def translate_to_phone_num(text: str) -> str:\n",
    "    \"\"\"\n",
    "    Translate string characters to phone numbers.\n",
    "\n",
    "    Parameters\n",
    "    ----------\n",
    "    text : str\n",
    "        Input string to be translated to phone numbers\n",
    "\n",
    "    Returns\n",
    "    -------\n",
    "    str\n",
    "        String of digits corresponding to the input text\n",
    "\n",
    "    Examples\n",
    "    --------\n",
    "    >>> translate_to_phone_num(\"a\")\n",
    "    \"2\"\n",
    "    >>> translate_to_phone_num(\"hello\")\n",
    "    \"43556\"\n",
    "    \"\"\"\n",
    "\n",
    "    def translate_char(char: str) -> str:\n",
    "        char = char.lower()\n",
    "        match char:\n",
    "            case \"a\" | \"b\" | \"c\":\n",
    "                digit = \"2\"\n",
    "            case \"d\" | \"e\" | \"f\":\n",
    "                digit = \"3\"\n",
    "            case \"g\" | \"h\" | \"i\":\n",
    "                digit = \"4\"\n",
    "            case \"j\" | \"k\" | \"l\":\n",
    "                digit = \"5\"\n",
    "            case \"m\" | \"n\" | \"o\":\n",
    "                digit = \"6\"\n",
    "            case \"p\" | \"q\" | \"r\" | \"s\":\n",
    "                digit = \"7\"\n",
    "            case \"t\" | \"u\" | \"v\":\n",
    "                digit = \"8\"\n",
    "            case \"w\" | \"x\" | \"y\" | \"z\":\n",
    "                digit = \"9\"\n",
    "            case _:\n",
    "                digit = char\n",
    "        return digit\n",
    "\n",
    "    return \"\".join(translate_char(char) for char in text)"
   ]
  },
  {
   "cell_type": "code",
   "execution_count": 7,
   "id": "4555bc5f",
   "metadata": {
    "execution": {
     "iopub.execute_input": "2024-12-24T15:38:27.846510Z",
     "iopub.status.busy": "2024-12-24T15:38:27.846415Z",
     "iopub.status.idle": "2024-12-24T15:38:27.848671Z",
     "shell.execute_reply": "2024-12-24T15:38:27.848464Z"
    }
   },
   "outputs": [],
   "source": [
    "def the_investigator(customers_df: pl.LazyFrame) -> pl.DataFrame:\n",
    "    return (\n",
    "        customers_df.filter(\n",
    "            ~pl.col(\"name\").str.contains_any([\"II\", \"III\", \"IV\", \"Jr.\"])\n",
    "        )\n",
    "        .with_columns(\n",
    "            lastname_translated=(\n",
    "                pl.col(\"name\")\n",
    "                .str.split(by=\" \")\n",
    "                .list.get(-1)\n",
    "                .str.to_lowercase()\n",
    "                .map_elements(translate_to_phone_num, return_dtype=pl.String)\n",
    "            )\n",
    "        )\n",
    "        .with_columns(\n",
    "            phone_test=(\n",
    "                pl.col(\"lastname_translated\").str.slice(0, length=3)\n",
    "                + \"-\"\n",
    "                + pl.col(\"lastname_translated\").str.slice(3, length=3)\n",
    "                + \"-\"\n",
    "                + pl.col(\"lastname_translated\").str.slice(6, length=4)\n",
    "            )\n",
    "        )\n",
    "        .filter(pl.col(\"phone\") == pl.col(\"phone_test\"))\n",
    "        .select(customers_df.collect_schema().names())\n",
    "        .collect()\n",
    "    )"
   ]
  },
  {
   "cell_type": "code",
   "execution_count": 8,
   "id": "fed01944",
   "metadata": {
    "execution": {
     "iopub.execute_input": "2024-12-24T15:38:27.849758Z",
     "iopub.status.busy": "2024-12-24T15:38:27.849664Z",
     "iopub.status.idle": "2024-12-24T15:38:27.923265Z",
     "shell.execute_reply": "2024-12-24T15:38:27.922996Z"
    }
   },
   "outputs": [
    {
     "data": {
      "text/html": [
       "<div><style>\n",
       ".dataframe > thead > tr,\n",
       ".dataframe > tbody > tr {\n",
       "  text-align: right;\n",
       "  white-space: pre-wrap;\n",
       "}\n",
       "</style>\n",
       "<small>shape: (1, 9)</small><table border=\"1\" class=\"dataframe\"><thead><tr><th>customerid</th><th>name</th><th>address</th><th>citystatezip</th><th>birthdate</th><th>phone</th><th>timezone</th><th>lat</th><th>long</th></tr><tr><td>i64</td><td>str</td><td>str</td><td>str</td><td>date</td><td>str</td><td>str</td><td>f64</td><td>f64</td></tr></thead><tbody><tr><td>4249</td><td>&quot;Tracy Rosenkranz&quot;</td><td>&quot;221 Banker St&quot;</td><td>&quot;Brooklyn, NY 11222&quot;</td><td>1954-06-12</td><td>&quot;767-365-7269&quot;</td><td>&quot;America/New_York&quot;</td><td>40.7257</td><td>-73.9555</td></tr></tbody></table></div>"
      ],
      "text/plain": [
       "shape: (1, 9)\n",
       "┌────────────┬────────────┬───────────┬───────────┬───┬───────────┬───────────┬─────────┬──────────┐\n",
       "│ customerid ┆ name       ┆ address   ┆ citystate ┆ … ┆ phone     ┆ timezone  ┆ lat     ┆ long     │\n",
       "│ ---        ┆ ---        ┆ ---       ┆ zip       ┆   ┆ ---       ┆ ---       ┆ ---     ┆ ---      │\n",
       "│ i64        ┆ str        ┆ str       ┆ ---       ┆   ┆ str       ┆ str       ┆ f64     ┆ f64      │\n",
       "│            ┆            ┆           ┆ str       ┆   ┆           ┆           ┆         ┆          │\n",
       "╞════════════╪════════════╪═══════════╪═══════════╪═══╪═══════════╪═══════════╪═════════╪══════════╡\n",
       "│ 4249       ┆ Tracy      ┆ 221       ┆ Brooklyn, ┆ … ┆ 767-365-7 ┆ America/N ┆ 40.7257 ┆ -73.9555 │\n",
       "│            ┆ Rosenkranz ┆ Banker St ┆ NY 11222  ┆   ┆ 269       ┆ ew_York   ┆         ┆          │\n",
       "└────────────┴────────────┴───────────┴───────────┴───┴───────────┴───────────┴─────────┴──────────┘"
      ]
     },
     "execution_count": 8,
     "metadata": {},
     "output_type": "execute_result"
    }
   ],
   "source": [
    "customers.pipe(the_investigator)"
   ]
  },
  {
   "cell_type": "code",
   "execution_count": 9,
   "id": "9ded02df",
   "metadata": {
    "execution": {
     "iopub.execute_input": "2024-12-24T15:38:27.925079Z",
     "iopub.status.busy": "2024-12-24T15:38:27.924910Z",
     "iopub.status.idle": "2024-12-24T15:38:27.942024Z",
     "shell.execute_reply": "2024-12-24T15:38:27.941770Z"
    },
    "lines_to_next_cell": 2
   },
   "outputs": [
    {
     "data": {
      "text/plain": [
       "'767-365-7269'"
      ]
     },
     "execution_count": 9,
     "metadata": {},
     "output_type": "execute_result"
    }
   ],
   "source": [
    "_.pipe(answer)"
   ]
  },
  {
   "cell_type": "markdown",
   "id": "4024f646",
   "metadata": {
    "lines_to_next_cell": 2
   },
   "source": [
    "## 2. The Contractor\n",
    "\n",
    "Thanks to your help, Sarah called the investigator that afternoon. The\n",
    "investigator went directly to the cleaners to see if they could get any more\n",
    "information about the unclaimed rug.\n",
    "\n",
    "While they were out, Sarah said, \"I tried cleaning the rug myself, but there\n",
    "was this snail on it that always seemed to leave a trail of slime behind it. I\n",
    "spent a few hours cleaning it, and the next day the slime trail was back.\"\n",
    "\n",
    "When the investigator returned, they said, \"Apparently, this cleaner had a\n",
    "special projects program, where they outsourced challenging cleaning projects\n",
    "to industrious contractors. As they're right across the street from Noah's,\n",
    "they usually talked about the project over coffee and bagels at Noah's before\n",
    "handing off the item to be cleaned. The contractors would pick up the tab and\n",
    "expense it, along with their cleaning supplies.\n",
    "\n",
    "\"So this rug was apparently one of those special projects. The claim ticket\n",
    "said '2017 DS'. '2017' is the year the item was brought in, and 'DS' is the\n",
    "initials of the contractor.\n",
    "\n",
    "\"But they stopped outsourcing a few years ago, and don't have contact\n",
    "information for any of these workers anymore.\"\n",
    "\n",
    "Sarah first seemed hopeless, and then glanced at the terminal you were just\n",
    "trying to get away from. She said, \"I know it's a long shot, but is there any\n",
    "chance you could find their phone number?\""
   ]
  },
  {
   "cell_type": "code",
   "execution_count": 10,
   "id": "ec6bdf4f",
   "metadata": {
    "execution": {
     "iopub.execute_input": "2024-12-24T15:38:27.943415Z",
     "iopub.status.busy": "2024-12-24T15:38:27.943324Z",
     "iopub.status.idle": "2024-12-24T15:38:27.945964Z",
     "shell.execute_reply": "2024-12-24T15:38:27.945762Z"
    }
   },
   "outputs": [],
   "source": [
    "def the_contractor(\n",
    "    products_df: pl.LazyFrame,\n",
    "    orders_items_df: pl.LazyFrame,\n",
    "    orders_df: pl.LazyFrame,\n",
    "    customers_df: pl.LazyFrame,\n",
    ") -> pl.DataFrame:\n",
    "    return (\n",
    "        products_df.filter(\n",
    "            pl.col(\"desc\").str.contains(\"(?i)bagel|(?i)coffee|(?i)clean\")\n",
    "        )\n",
    "        .join(orders_items_df, on=\"sku\")\n",
    "        .join(orders_df.filter(pl.col(\"ordered\").dt.year() == 2017), on=\"orderid\")\n",
    "        .join(\n",
    "            customers_df.filter(pl.col(\"name\").str.contains(r\"^D.*\\sS.*$\")),\n",
    "            on=\"customerid\",\n",
    "        )\n",
    "        .group_by([\"name\", \"phone\", \"ordered\"])\n",
    "        .agg(\n",
    "            bagel_coffee_clean=(pl.col(\"desc\").str.contains(\"(?i)coffee\").sum() > 0)\n",
    "            & (pl.col(\"desc\").str.contains(\"(?i)bagel\").sum() > 0)\n",
    "            & (pl.col(\"desc\").str.contains(\"(?i)clean\").sum() > 0)\n",
    "        )\n",
    "        .filter(\"bagel_coffee_clean\")\n",
    "        .join(customers, on=\"phone\")\n",
    "        .select(customers_df.collect_schema().names())\n",
    "    ).collect()"
   ]
  },
  {
   "cell_type": "code",
   "execution_count": 11,
   "id": "5eed47fb",
   "metadata": {
    "execution": {
     "iopub.execute_input": "2024-12-24T15:38:27.947101Z",
     "iopub.status.busy": "2024-12-24T15:38:27.947014Z",
     "iopub.status.idle": "2024-12-24T15:38:27.967198Z",
     "shell.execute_reply": "2024-12-24T15:38:27.966961Z"
    }
   },
   "outputs": [
    {
     "data": {
      "text/html": [
       "<div><style>\n",
       ".dataframe > thead > tr,\n",
       ".dataframe > tbody > tr {\n",
       "  text-align: right;\n",
       "  white-space: pre-wrap;\n",
       "}\n",
       "</style>\n",
       "<small>shape: (1, 9)</small><table border=\"1\" class=\"dataframe\"><thead><tr><th>customerid</th><th>name</th><th>address</th><th>citystatezip</th><th>birthdate</th><th>phone</th><th>timezone</th><th>lat</th><th>long</th></tr><tr><td>i64</td><td>str</td><td>str</td><td>str</td><td>date</td><td>str</td><td>str</td><td>f64</td><td>f64</td></tr></thead><tbody><tr><td>5745</td><td>&quot;David Swanson Jr.&quot;</td><td>&quot;86-84 214th St&quot;</td><td>&quot;Queens Village, NY 11427&quot;</td><td>1958-10-29</td><td>&quot;838-351-0370&quot;</td><td>&quot;America/New_York&quot;</td><td>40.73007</td><td>-73.74856</td></tr></tbody></table></div>"
      ],
      "text/plain": [
       "shape: (1, 9)\n",
       "┌───────────┬───────────┬───────────┬───────────┬───┬───────────┬───────────┬──────────┬───────────┐\n",
       "│ customeri ┆ name      ┆ address   ┆ citystate ┆ … ┆ phone     ┆ timezone  ┆ lat      ┆ long      │\n",
       "│ d         ┆ ---       ┆ ---       ┆ zip       ┆   ┆ ---       ┆ ---       ┆ ---      ┆ ---       │\n",
       "│ ---       ┆ str       ┆ str       ┆ ---       ┆   ┆ str       ┆ str       ┆ f64      ┆ f64       │\n",
       "│ i64       ┆           ┆           ┆ str       ┆   ┆           ┆           ┆          ┆           │\n",
       "╞═══════════╪═══════════╪═══════════╪═══════════╪═══╪═══════════╪═══════════╪══════════╪═══════════╡\n",
       "│ 5745      ┆ David     ┆ 86-84     ┆ Queens    ┆ … ┆ 838-351-0 ┆ America/N ┆ 40.73007 ┆ -73.74856 │\n",
       "│           ┆ Swanson   ┆ 214th St  ┆ Village,  ┆   ┆ 370       ┆ ew_York   ┆          ┆           │\n",
       "│           ┆ Jr.       ┆           ┆ NY 11427  ┆   ┆           ┆           ┆          ┆           │\n",
       "└───────────┴───────────┴───────────┴───────────┴───┴───────────┴───────────┴──────────┴───────────┘"
      ]
     },
     "execution_count": 11,
     "metadata": {},
     "output_type": "execute_result"
    }
   ],
   "source": [
    "products.pipe(the_contractor, orders_items, orders, customers)"
   ]
  },
  {
   "cell_type": "code",
   "execution_count": 12,
   "id": "40eb1319",
   "metadata": {
    "execution": {
     "iopub.execute_input": "2024-12-24T15:38:27.968385Z",
     "iopub.status.busy": "2024-12-24T15:38:27.968303Z",
     "iopub.status.idle": "2024-12-24T15:38:27.986186Z",
     "shell.execute_reply": "2024-12-24T15:38:27.985906Z"
    },
    "lines_to_next_cell": 2
   },
   "outputs": [
    {
     "data": {
      "text/plain": [
       "'838-351-0370'"
      ]
     },
     "execution_count": 12,
     "metadata": {},
     "output_type": "execute_result"
    }
   ],
   "source": [
    "_.pipe(answer)"
   ]
  },
  {
   "cell_type": "markdown",
   "id": "fcc87805",
   "metadata": {
    "lines_to_next_cell": 2
   },
   "source": [
    "## 3. The Neighbor\n",
    "\n",
    "Sarah and the investigator were very impressed with your data skills, as you\n",
    "were able to figure out the phone number of the contractor. They called up the\n",
    "cleaning contractor straight away and asked about the rug.\n",
    "\n",
    "\"Oh, yeah, I did some special projects for them a few years ago. I remember\n",
    "that rug unfortunately. I managed to clean one section, which revealed a giant\n",
    "spider that startled me whenever I tried to work on it.\n",
    "\n",
    "\"I already had a fear of spiders before this, but this spider was so realistic\n",
    "that I had a hard time making any more progress. I kept expecting the cleaners\n",
    "would call for the rug, but they never did. I felt so bad about it, I couldn't\n",
    "face them, and of course they never gave me another project.\n",
    "\n",
    "\"At last I couldn't deal with the rug taking up my whole bathtub, so I gave it\n",
    "to this guy who lived in my neighborhood. He said that he was naturally\n",
    "balanced because he was a Libra born in the year of the Goat, so maybe he was\n",
    "able to clean it.\n",
    "\n",
    "\"I don't remember his name. Last time I saw him, he was leaving the subway and\n",
    "carrying a bag from Noah's. I swore I saw a spider on his hat.\"\n",
    "\n",
    "Can you find the phone number of the person that the contractor gave the rug\n",
    "to?"
   ]
  },
  {
   "cell_type": "code",
   "execution_count": 13,
   "id": "951673fd",
   "metadata": {
    "execution": {
     "iopub.execute_input": "2024-12-24T15:38:27.987618Z",
     "iopub.status.busy": "2024-12-24T15:38:27.987508Z",
     "iopub.status.idle": "2024-12-24T15:38:27.990047Z",
     "shell.execute_reply": "2024-12-24T15:38:27.989836Z"
    }
   },
   "outputs": [],
   "source": [
    "class ZodiacSign(Enum):\n",
    "    \"\"\"\n",
    "    Represents the different zodiac signs.\n",
    "\n",
    "    Explanation\n",
    "    -----------\n",
    "    This class defines an enumeration of the twelve zodiac signs.\n",
    "    \"\"\"\n",
    "\n",
    "    Aries = \"Aries\"\n",
    "    Taurus = \"Taurus\"\n",
    "    Gemini = \"Gemini\"\n",
    "    Cancer = \"Cancer\"\n",
    "    Leo = \"Leo\"\n",
    "    Virgo = \"Virgo\"\n",
    "    Libra = \"Libra\"\n",
    "    Scorpio = \"Scorpio\"\n",
    "    Sagittarius = \"Sagittarius\"\n",
    "    Capricorn = \"Capricorn\"\n",
    "    Aquarius = \"Aquarius\"\n",
    "    Pisces = \"Pisces\"\n",
    "\n",
    "\n",
    "class ChineseZodiac(Enum):\n",
    "    \"\"\"\n",
    "    Represents the Chinese zodiac signs.\n",
    "\n",
    "    Explanation\n",
    "    -----------\n",
    "    This class defines an enumeration of the twelve Chinese zodiac signs and\n",
    "    return the respective Wikipedia link.\n",
    "    \"\"\"\n",
    "\n",
    "    Rat = \"https://en.wikipedia.org/wiki/Rat_(zodiac)\"\n",
    "    Ox = \"https://en.wikipedia.org/wiki/Ox_(zodiac)\"\n",
    "    Tiger = \"https://en.wikipedia.org/wiki/Tiger_(zodiac)\"\n",
    "    Rabbit = \"https://en.wikipedia.org/wiki/Rabbit_(zodiac)\"\n",
    "    Dragon = \"https://en.wikipedia.org/wiki/Dragon_(zodiac)\"\n",
    "    Snake = \"https://en.wikipedia.org/wiki/Snake_(zodiac)\"\n",
    "    Horse = \"https://en.wikipedia.org/wiki/Horse_(zodiac)\"\n",
    "    Goat = \"https://en.wikipedia.org/wiki/Goat_(zodiac)\"\n",
    "    Monkey = \"https://en.wikipedia.org/wiki/Monkey_(zodiac)\"\n",
    "    Rooster = \"https://en.wikipedia.org/wiki/Rooster_(zodiac)\"\n",
    "    Dog = \"https://en.wikipedia.org/wiki/Dog_(zodiac)\"\n",
    "    Pig = \"https://en.wikipedia.org/wiki/Pig_(zodiac)\""
   ]
  },
  {
   "cell_type": "code",
   "execution_count": 14,
   "id": "ad499b2d",
   "metadata": {
    "execution": {
     "iopub.execute_input": "2024-12-24T15:38:27.991140Z",
     "iopub.status.busy": "2024-12-24T15:38:27.991053Z",
     "iopub.status.idle": "2024-12-24T15:38:28.386474Z",
     "shell.execute_reply": "2024-12-24T15:38:28.386192Z"
    }
   },
   "outputs": [
    {
     "data": {
      "text/html": [
       "<div><style>\n",
       ".dataframe > thead > tr,\n",
       ".dataframe > tbody > tr {\n",
       "  text-align: right;\n",
       "  white-space: pre-wrap;\n",
       "}\n",
       "</style>\n",
       "<small>shape: (12, 15)</small><table border=\"1\" class=\"dataframe\"><thead><tr><th>Sign</th><th>Gloss</th><th>Symbol</th><th>Unicode Character</th><th>Approximate Sun Sign Start Dates[11]</th><th>Approximate Sun Sign End Dates[11]</th><th>Ecliptic Longitude (a ≤ λ &lt; b)</th><th>House</th><th>Polarity</th><th>Modality</th><th>Triplicity</th><th>Northern Hemisphere Season</th><th>Southern Hemisphere Season</th><th>Modern Ruler</th><th>Classic Ruler</th></tr><tr><td>str</td><td>str</td><td>f64</td><td>str</td><td>str</td><td>str</td><td>str</td><td>i64</td><td>str</td><td>str</td><td>str</td><td>str</td><td>str</td><td>str</td><td>str</td></tr></thead><tbody><tr><td>&quot;Aries&quot;</td><td>&quot;The Ram&quot;</td><td>null</td><td>&quot;♈︎&quot;</td><td>&quot;21 March&quot;</td><td>&quot;20 April&quot;</td><td>&quot;0° to 30°&quot;</td><td>1</td><td>&quot;Positive&quot;</td><td>&quot;Cardinal&quot;</td><td>&quot;Fire&quot;</td><td>&quot;Spring&quot;</td><td>&quot;Autumn&quot;</td><td>&quot;Mars&quot;</td><td>&quot;Mars&quot;</td></tr><tr><td>&quot;Taurus&quot;</td><td>&quot;The Bull&quot;</td><td>null</td><td>&quot;♉︎&quot;</td><td>&quot;21 April&quot;</td><td>&quot;21 May&quot;</td><td>&quot;30° to 60°&quot;</td><td>2</td><td>&quot;Negative&quot;</td><td>&quot;Fixed&quot;</td><td>&quot;Earth&quot;</td><td>&quot;Spring&quot;</td><td>&quot;Autumn&quot;</td><td>&quot;Venus&quot;</td><td>&quot;Venus&quot;</td></tr><tr><td>&quot;Gemini&quot;</td><td>&quot;The Twins&quot;</td><td>null</td><td>&quot;♊︎&quot;</td><td>&quot;22 May&quot;</td><td>&quot;21 June&quot;</td><td>&quot;60° to 90°&quot;</td><td>3</td><td>&quot;Positive&quot;</td><td>&quot;Mutable&quot;</td><td>&quot;Air&quot;</td><td>&quot;Spring&quot;</td><td>&quot;Autumn&quot;</td><td>&quot;Mercury&quot;</td><td>&quot;Mercury&quot;</td></tr><tr><td>&quot;Cancer&quot;</td><td>&quot;The Crab&quot;</td><td>null</td><td>&quot;♋︎&quot;</td><td>&quot;22 June&quot;</td><td>&quot;23 July&quot;</td><td>&quot;90° to 120°&quot;</td><td>4</td><td>&quot;Negative&quot;</td><td>&quot;Cardinal&quot;</td><td>&quot;Water&quot;</td><td>&quot;Summer&quot;</td><td>&quot;Winter&quot;</td><td>&quot;Moon&quot;</td><td>&quot;Moon&quot;</td></tr><tr><td>&quot;Leo&quot;</td><td>&quot;The Lion&quot;</td><td>null</td><td>&quot;♌︎&quot;</td><td>&quot;24 July&quot;</td><td>&quot;23 August&quot;</td><td>&quot;120° to 150°&quot;</td><td>5</td><td>&quot;Positive&quot;</td><td>&quot;Fixed&quot;</td><td>&quot;Fire&quot;</td><td>&quot;Summer&quot;</td><td>&quot;Winter&quot;</td><td>&quot;Sun&quot;</td><td>&quot;Sun&quot;</td></tr><tr><td>&hellip;</td><td>&hellip;</td><td>&hellip;</td><td>&hellip;</td><td>&hellip;</td><td>&hellip;</td><td>&hellip;</td><td>&hellip;</td><td>&hellip;</td><td>&hellip;</td><td>&hellip;</td><td>&hellip;</td><td>&hellip;</td><td>&hellip;</td><td>&hellip;</td></tr><tr><td>&quot;Scorpio&quot;</td><td>&quot;The Scorpion&quot;</td><td>null</td><td>&quot;♏︎&quot;</td><td>&quot;24 October&quot;</td><td>&quot;22 November&quot;</td><td>&quot;210° to 240°&quot;</td><td>8</td><td>&quot;Negative&quot;</td><td>&quot;Fixed&quot;</td><td>&quot;Water&quot;</td><td>&quot;Autumn&quot;</td><td>&quot;Spring&quot;</td><td>&quot;Pluto (or)&quot;</td><td>&quot;Mars&quot;</td></tr><tr><td>&quot;Sagittarius&quot;</td><td>&quot;The Archer (Centaur)&quot;</td><td>null</td><td>&quot;♐︎&quot;</td><td>&quot;23 November&quot;</td><td>&quot;21 December&quot;</td><td>&quot;240° to 270°&quot;</td><td>9</td><td>&quot;Positive&quot;</td><td>&quot;Mutable&quot;</td><td>&quot;Fire&quot;</td><td>&quot;Autumn&quot;</td><td>&quot;Spring&quot;</td><td>&quot;Jupiter&quot;</td><td>&quot;Jupiter&quot;</td></tr><tr><td>&quot;Capricorn&quot;</td><td>&quot;The Goat&quot;</td><td>null</td><td>&quot;♑︎&quot;</td><td>&quot;22 December&quot;</td><td>&quot;20 January&quot;</td><td>&quot;270° to 300°&quot;</td><td>10</td><td>&quot;Negative&quot;</td><td>&quot;Cardinal&quot;</td><td>&quot;Earth&quot;</td><td>&quot;Winter&quot;</td><td>&quot;Summer&quot;</td><td>&quot;Saturn&quot;</td><td>&quot;Saturn&quot;</td></tr><tr><td>&quot;Aquarius&quot;</td><td>&quot;The Water-bearer&quot;</td><td>null</td><td>&quot;♒︎&quot;</td><td>&quot;21 January&quot;</td><td>&quot;19 February&quot;</td><td>&quot;300° to 330°&quot;</td><td>11</td><td>&quot;Positive&quot;</td><td>&quot;Fixed&quot;</td><td>&quot;Air&quot;</td><td>&quot;Winter&quot;</td><td>&quot;Summer&quot;</td><td>&quot;Uranus&quot;</td><td>&quot;Saturn&quot;</td></tr><tr><td>&quot;Pisces&quot;</td><td>&quot;The Fish&quot;</td><td>null</td><td>&quot;♓︎&quot;</td><td>&quot;20 February&quot;</td><td>&quot;20 March&quot;</td><td>&quot;330° to 360°&quot;</td><td>12</td><td>&quot;Negative&quot;</td><td>&quot;Mutable&quot;</td><td>&quot;Water&quot;</td><td>&quot;Winter&quot;</td><td>&quot;Summer&quot;</td><td>&quot;Neptune&quot;</td><td>&quot;Jupiter&quot;</td></tr></tbody></table></div>"
      ],
      "text/plain": [
       "shape: (12, 15)\n",
       "┌────────────┬────────────┬────────┬───────────┬───┬───────────┬───────────┬───────────┬───────────┐\n",
       "│ Sign       ┆ Gloss      ┆ Symbol ┆ Unicode   ┆ … ┆ Northern  ┆ Southern  ┆ Modern    ┆ Classic   │\n",
       "│ ---        ┆ ---        ┆ ---    ┆ Character ┆   ┆ Hemispher ┆ Hemispher ┆ Ruler     ┆ Ruler     │\n",
       "│ str        ┆ str        ┆ f64    ┆ ---       ┆   ┆ e Season  ┆ e Season  ┆ ---       ┆ ---       │\n",
       "│            ┆            ┆        ┆ str       ┆   ┆ ---       ┆ ---       ┆ str       ┆ str       │\n",
       "│            ┆            ┆        ┆           ┆   ┆ str       ┆ str       ┆           ┆           │\n",
       "╞════════════╪════════════╪════════╪═══════════╪═══╪═══════════╪═══════════╪═══════════╪═══════════╡\n",
       "│ Aries      ┆ The Ram    ┆ null   ┆ ♈︎         ┆ … ┆ Spring    ┆ Autumn    ┆ Mars      ┆ Mars      │\n",
       "│ Taurus     ┆ The Bull   ┆ null   ┆ ♉︎         ┆ … ┆ Spring    ┆ Autumn    ┆ Venus     ┆ Venus     │\n",
       "│ Gemini     ┆ The Twins  ┆ null   ┆ ♊︎         ┆ … ┆ Spring    ┆ Autumn    ┆ Mercury   ┆ Mercury   │\n",
       "│ Cancer     ┆ The Crab   ┆ null   ┆ ♋︎         ┆ … ┆ Summer    ┆ Winter    ┆ Moon      ┆ Moon      │\n",
       "│ Leo        ┆ The Lion   ┆ null   ┆ ♌︎         ┆ … ┆ Summer    ┆ Winter    ┆ Sun       ┆ Sun       │\n",
       "│ …          ┆ …          ┆ …      ┆ …         ┆ … ┆ …         ┆ …         ┆ …         ┆ …         │\n",
       "│ Scorpio    ┆ The        ┆ null   ┆ ♏︎         ┆ … ┆ Autumn    ┆ Spring    ┆ Pluto     ┆ Mars      │\n",
       "│            ┆ Scorpion   ┆        ┆           ┆   ┆           ┆           ┆ (or)      ┆           │\n",
       "│ Sagittariu ┆ The Archer ┆ null   ┆ ♐︎         ┆ … ┆ Autumn    ┆ Spring    ┆ Jupiter   ┆ Jupiter   │\n",
       "│ s          ┆ (Centaur)  ┆        ┆           ┆   ┆           ┆           ┆           ┆           │\n",
       "│ Capricorn  ┆ The Goat   ┆ null   ┆ ♑︎         ┆ … ┆ Winter    ┆ Summer    ┆ Saturn    ┆ Saturn    │\n",
       "│ Aquarius   ┆ The Water- ┆ null   ┆ ♒︎         ┆ … ┆ Winter    ┆ Summer    ┆ Uranus    ┆ Saturn    │\n",
       "│            ┆ bearer     ┆        ┆           ┆   ┆           ┆           ┆           ┆           │\n",
       "│ Pisces     ┆ The Fish   ┆ null   ┆ ♓︎         ┆ … ┆ Winter    ┆ Summer    ┆ Neptune   ┆ Jupiter   │\n",
       "└────────────┴────────────┴────────┴───────────┴───┴───────────┴───────────┴───────────┴───────────┘"
      ]
     },
     "execution_count": 14,
     "metadata": {},
     "output_type": "execute_result"
    }
   ],
   "source": [
    "ZODIAC_LINK = \"https://en.wikipedia.org/wiki/Astrological_sign\"\n",
    "zodiac = pl.from_pandas(pd.read_html(ZODIAC_LINK)[0])\n",
    "\n",
    "zodiac"
   ]
  },
  {
   "cell_type": "code",
   "execution_count": 15,
   "id": "bc5285f1",
   "metadata": {
    "execution": {
     "iopub.execute_input": "2024-12-24T15:38:28.387977Z",
     "iopub.status.busy": "2024-12-24T15:38:28.387823Z",
     "iopub.status.idle": "2024-12-24T15:38:28.390756Z",
     "shell.execute_reply": "2024-12-24T15:38:28.390500Z"
    }
   },
   "outputs": [],
   "source": [
    "def zodiac_characteristics(\n",
    "    zodiac_df: pl.LazyFrame = zodiac, zodiac_sign: ZodiacSign = ZodiacSign.Libra\n",
    ") -> dict[str, list[str | int]]:\n",
    "    \"\"\"\n",
    "    Extracts zodiac characteristics from a DataFrame based on the specified\n",
    "    zodiac sign.\n",
    "\n",
    "    Parameters\n",
    "    ----------\n",
    "    zodiac_df : pl.LazyFrame, optional\n",
    "        The DataFrame containing zodiac information. By default, uses a\n",
    "        predefined zodiac DataFrame.\n",
    "    zodiac_sign : ZodiacSign, optional\n",
    "        The zodiac sign for which characteristics are extracted. By default,\n",
    "        uses ZodiacSign.Libra.\n",
    "\n",
    "    Returns\n",
    "    -------\n",
    "    dict[str, list[str | int]]\n",
    "        A dictionary containing zodiac characteristics:\n",
    "        - 'dates': List of date strings.\n",
    "        - 'month': List of month values.\n",
    "        - 'days': List of day values.\n",
    "    \"\"\"\n",
    "    return (\n",
    "        zodiac_df.filter(pl.col(\"Sign\") == zodiac_sign.value)\n",
    "        .select(cs.contains(\"Sun\"))\n",
    "        .transpose()\n",
    "        .rename({\"column_0\": \"dates\"})\n",
    "        .with_columns(\n",
    "            timestamp_fmt=pl.col(\"dates\").map_elements(\n",
    "                lambda _: datetime.strptime(f\"{_} 1900\", \"%d %B %Y\"),\n",
    "                return_dtype=pl.Datetime,\n",
    "            )\n",
    "        )\n",
    "        .with_columns(\n",
    "            month=pl.col(\"timestamp_fmt\").dt.month(),\n",
    "            days=pl.col(\"timestamp_fmt\").dt.day(),\n",
    "        )\n",
    "        .select([\"dates\", \"month\", \"days\"])\n",
    "        .to_dict(as_series=False)\n",
    "    )"
   ]
  },
  {
   "cell_type": "code",
   "execution_count": 16,
   "id": "9108d7a9",
   "metadata": {
    "execution": {
     "iopub.execute_input": "2024-12-24T15:38:28.392038Z",
     "iopub.status.busy": "2024-12-24T15:38:28.391932Z",
     "iopub.status.idle": "2024-12-24T15:38:28.396434Z",
     "shell.execute_reply": "2024-12-24T15:38:28.396160Z"
    }
   },
   "outputs": [
    {
     "data": {
      "text/plain": [
       "{'dates': ['24 September', '23 October'], 'month': [9, 10], 'days': [24, 23]}"
      ]
     },
     "execution_count": 16,
     "metadata": {},
     "output_type": "execute_result"
    }
   ],
   "source": [
    "zodiac_characteristics()"
   ]
  },
  {
   "cell_type": "code",
   "execution_count": 17,
   "id": "dcc238ea",
   "metadata": {
    "execution": {
     "iopub.execute_input": "2024-12-24T15:38:28.397763Z",
     "iopub.status.busy": "2024-12-24T15:38:28.397669Z",
     "iopub.status.idle": "2024-12-24T15:38:28.400706Z",
     "shell.execute_reply": "2024-12-24T15:38:28.400448Z"
    }
   },
   "outputs": [],
   "source": [
    "def chinese_sign_years(\n",
    "    customers_df: pl.LazyFrame = customers,\n",
    "    chinese_zodiac_animal: ChineseZodiac = ChineseZodiac.Goat,\n",
    ") -> set[int]:\n",
    "    \"\"\"\n",
    "    Retrieves the birth years of customers belonging to a specific Chinese\n",
    "    zodiac sign.\n",
    "\n",
    "    Parameters\n",
    "    ----------\n",
    "    customers_df : pd.DataFrame, optional\n",
    "        The DataFrame containing customer information. By default, uses a\n",
    "        predefined 'customers' DataFrame.\n",
    "    chinese_zodiac_animal : ChineseZodiac, optional\n",
    "        The Chinese zodiac animal for which to retrieve birth years.\n",
    "        By default, uses the ChineseZodiac.Rabbit.\n",
    "\n",
    "    Returns\n",
    "    -------\n",
    "    set[int]\n",
    "        A set of birth years corresponding to customers with the specified\n",
    "        Chinese zodiac sign.\n",
    "    \"\"\"\n",
    "\n",
    "    tables = [\n",
    "        pl.from_pandas(table) for table in pd.read_html(chinese_zodiac_animal.value)\n",
    "    ]\n",
    "\n",
    "    for i, d in enumerate(tables):\n",
    "        cols = list(d.columns)\n",
    "        if \"Start date\" in cols:\n",
    "            date_table_index = i\n",
    "\n",
    "    return (\n",
    "        tables[date_table_index]\n",
    "        .select(pl.col(\"Start date\").str.slice(-4).cast(pl.Int16))\n",
    "        .join(\n",
    "            customers.select(pl.col(\"birthdate\").dt.year().cast(pl.Int16)).collect(),\n",
    "            left_on=\"Start date\",\n",
    "            right_on=\"birthdate\",\n",
    "        )\n",
    "        .unique()\n",
    "        .rename({\"Start date\": \"Chinese Sign Years\"})\n",
    "        .sort(\"Chinese Sign Years\")\n",
    "        .to_series()\n",
    "        .to_list()\n",
    "    )"
   ]
  },
  {
   "cell_type": "code",
   "execution_count": 18,
   "id": "861d0856",
   "metadata": {
    "execution": {
     "iopub.execute_input": "2024-12-24T15:38:28.401977Z",
     "iopub.status.busy": "2024-12-24T15:38:28.401886Z",
     "iopub.status.idle": "2024-12-24T15:38:28.674234Z",
     "shell.execute_reply": "2024-12-24T15:38:28.673947Z"
    }
   },
   "outputs": [
    {
     "data": {
      "text/plain": [
       "[1943, 1955, 1967, 1979, 1991]"
      ]
     },
     "execution_count": 18,
     "metadata": {},
     "output_type": "execute_result"
    }
   ],
   "source": [
    "chinese_sign_years()"
   ]
  },
  {
   "cell_type": "code",
   "execution_count": 19,
   "id": "dcb68cee",
   "metadata": {
    "execution": {
     "iopub.execute_input": "2024-12-24T15:38:28.675614Z",
     "iopub.status.busy": "2024-12-24T15:38:28.675517Z",
     "iopub.status.idle": "2024-12-24T15:38:28.678489Z",
     "shell.execute_reply": "2024-12-24T15:38:28.678225Z"
    }
   },
   "outputs": [],
   "source": [
    "def western_astrology_with_chinese_dates(\n",
    "    western_astrology_sign: ZodiacSign = ZodiacSign.Libra,\n",
    "    chinese_astrology_animal: ChineseZodiac = ChineseZodiac.Goat,\n",
    ") -> pl.Series:\n",
    "    \"\"\"\n",
    "    Retrieves a list of timestamps representing the overlapping periods between\n",
    "    Western astrology sign dates and Chinese astrology birth years.\n",
    "\n",
    "    Parameters\n",
    "    ----------\n",
    "    western_astrology_sign : ZodiacSign, optional\n",
    "        The Western astrology sign for which to retrieve overlapping dates.\n",
    "        By default, uses ZodiacSign.Cancer.\n",
    "    chinese_astrology_animal : ChineseZodiac, optional\n",
    "        The Chinese astrology animal for which to retrieve overlapping dates.\n",
    "        By default, uses ChineseZodiac.Rabbit.\n",
    "\n",
    "    Returns\n",
    "    -------\n",
    "    list[pd.Timestamp]\n",
    "        A list of timestamps representing the overlapping periods between the\n",
    "        specified Western astrology sign and Chinese astrology birth years.\n",
    "    \"\"\"\n",
    "\n",
    "    sign_dict: dict[str, list[str | int]] = zodiac_characteristics(\n",
    "        zodiac_sign=western_astrology_sign\n",
    "    )\n",
    "    animal_years: list[int] = chinese_sign_years(\n",
    "        chinese_zodiac_animal=chinese_astrology_animal\n",
    "    )\n",
    "\n",
    "    months: list[int] = sign_dict[\"month\"]\n",
    "    start_month, end_month = months\n",
    "\n",
    "    days: list[int] = sign_dict[\"days\"]\n",
    "    start_day, end_day = days\n",
    "\n",
    "    return pl.concat(\n",
    "        [\n",
    "            pl.date_range(\n",
    "                start=date(year=animal_year, month=start_month, day=start_day),\n",
    "                end=date(year=animal_year, month=end_month, day=end_day),\n",
    "                eager=True,\n",
    "            )\n",
    "            for animal_year in animal_years\n",
    "        ]\n",
    "    ).unique()"
   ]
  },
  {
   "cell_type": "code",
   "execution_count": 20,
   "id": "c8f51a99",
   "metadata": {
    "execution": {
     "iopub.execute_input": "2024-12-24T15:38:28.679764Z",
     "iopub.status.busy": "2024-12-24T15:38:28.679675Z",
     "iopub.status.idle": "2024-12-24T15:38:28.682089Z",
     "shell.execute_reply": "2024-12-24T15:38:28.681853Z"
    }
   },
   "outputs": [],
   "source": [
    "def the_neighbor(\n",
    "    customers_df: pd.DataFrame = customers,\n",
    "    western_astrology_sign: ZodiacSign = ZodiacSign.Libra,\n",
    "    chinese_astrology_animal: ChineseZodiac = ChineseZodiac.Goat,\n",
    ") -> pd.DataFrame:\n",
    "    dates = western_astrology_with_chinese_dates(\n",
    "        western_astrology_sign, chinese_astrology_animal\n",
    "    )\n",
    "    the_contractor_contact = the_contractor(\n",
    "        products, orders_items, orders, customers_df\n",
    "    )\n",
    "    return (\n",
    "        customers_df.filter(pl.col(\"birthdate\").is_in(dates))\n",
    "        .with_columns(\n",
    "            zip_code=pl.col(\"citystatezip\").str.slice(-5),\n",
    "        )\n",
    "        .filter(\n",
    "            pl.col(\"zip_code\").is_in(\n",
    "                the_contractor_contact.select(pl.col(\"citystatezip\").str.slice(-5)),\n",
    "            )\n",
    "        )\n",
    "        .select(customers_df.collect_schema().names())\n",
    "    ).collect()"
   ]
  },
  {
   "cell_type": "code",
   "execution_count": 21,
   "id": "569e7696",
   "metadata": {
    "execution": {
     "iopub.execute_input": "2024-12-24T15:38:28.683334Z",
     "iopub.status.busy": "2024-12-24T15:38:28.683246Z",
     "iopub.status.idle": "2024-12-24T15:38:28.970078Z",
     "shell.execute_reply": "2024-12-24T15:38:28.969757Z"
    }
   },
   "outputs": [
    {
     "data": {
      "text/html": [
       "<div><style>\n",
       ".dataframe > thead > tr,\n",
       ".dataframe > tbody > tr {\n",
       "  text-align: right;\n",
       "  white-space: pre-wrap;\n",
       "}\n",
       "</style>\n",
       "<small>shape: (1, 9)</small><table border=\"1\" class=\"dataframe\"><thead><tr><th>customerid</th><th>name</th><th>address</th><th>citystatezip</th><th>birthdate</th><th>phone</th><th>timezone</th><th>lat</th><th>long</th></tr><tr><td>i64</td><td>str</td><td>str</td><td>str</td><td>date</td><td>str</td><td>str</td><td>f64</td><td>f64</td></tr></thead><tbody><tr><td>3864</td><td>&quot;David Perez&quot;</td><td>&quot;86-79 211th St&quot;</td><td>&quot;Queens Village, NY 11427&quot;</td><td>1979-09-29</td><td>&quot;914-594-5535&quot;</td><td>&quot;America/New_York&quot;</td><td>40.72626</td><td>-73.75752</td></tr></tbody></table></div>"
      ],
      "text/plain": [
       "shape: (1, 9)\n",
       "┌────────────┬───────┬────────────┬────────────┬───┬────────────┬───────────┬──────────┬───────────┐\n",
       "│ customerid ┆ name  ┆ address    ┆ citystatez ┆ … ┆ phone      ┆ timezone  ┆ lat      ┆ long      │\n",
       "│ ---        ┆ ---   ┆ ---        ┆ ip         ┆   ┆ ---        ┆ ---       ┆ ---      ┆ ---       │\n",
       "│ i64        ┆ str   ┆ str        ┆ ---        ┆   ┆ str        ┆ str       ┆ f64      ┆ f64       │\n",
       "│            ┆       ┆            ┆ str        ┆   ┆            ┆           ┆          ┆           │\n",
       "╞════════════╪═══════╪════════════╪════════════╪═══╪════════════╪═══════════╪══════════╪═══════════╡\n",
       "│ 3864       ┆ David ┆ 86-79      ┆ Queens     ┆ … ┆ 914-594-55 ┆ America/N ┆ 40.72626 ┆ -73.75752 │\n",
       "│            ┆ Perez ┆ 211th St   ┆ Village,   ┆   ┆ 35         ┆ ew_York   ┆          ┆           │\n",
       "│            ┆       ┆            ┆ NY 11427   ┆   ┆            ┆           ┆          ┆           │\n",
       "└────────────┴───────┴────────────┴────────────┴───┴────────────┴───────────┴──────────┴───────────┘"
      ]
     },
     "execution_count": 21,
     "metadata": {},
     "output_type": "execute_result"
    }
   ],
   "source": [
    "the_neighbor(customers)"
   ]
  },
  {
   "cell_type": "code",
   "execution_count": 22,
   "id": "6f041889",
   "metadata": {
    "execution": {
     "iopub.execute_input": "2024-12-24T15:38:28.971478Z",
     "iopub.status.busy": "2024-12-24T15:38:28.971386Z",
     "iopub.status.idle": "2024-12-24T15:38:28.991915Z",
     "shell.execute_reply": "2024-12-24T15:38:28.991596Z"
    },
    "lines_to_next_cell": 2
   },
   "outputs": [
    {
     "data": {
      "text/plain": [
       "'914-594-5535'"
      ]
     },
     "execution_count": 22,
     "metadata": {},
     "output_type": "execute_result"
    }
   ],
   "source": [
    "_.pipe(answer)"
   ]
  },
  {
   "cell_type": "markdown",
   "id": "85f66ba3",
   "metadata": {
    "lines_to_next_cell": 2
   },
   "source": [
    "## 4. The Early Bird\n",
    "\n",
    "The investigator called the phone number you found and left a message, and a\n",
    "man soon called back:\n",
    "\n",
    "\"Wow, that was years ago! It was quite an elegant tapestry.\n",
    "\n",
    "\"It took a lot of patience, but I did manage to get the dirt out of one\n",
    "section, which uncovered a superb owl. I put it up on my wall, and sometimes\n",
    "at night I swear I could hear the owl hooting.\n",
    "\n",
    "\"A few weeks later my bike chain broke on the way home, and I needed to get it\n",
    "fixed before work the next day. Thankfully, this woman I met on Tinder came\n",
    "over at 5am with her bike chain repair kit and some pastries from Noah's.\n",
    "Apparently she liked to get up before dawn and claim the first pastries that\n",
    "came out of the oven.\n",
    "\n",
    "\"I didn't have any money or I would've paid her for her trouble. She really\n",
    "liked the tapestry, though, so I wound up giving it to her.\n",
    "\n",
    "\"I don't remember her name or anything else about her.\"\n",
    "\n",
    "Can you find the bicycle fixer's phone number?"
   ]
  },
  {
   "cell_type": "code",
   "execution_count": 23,
   "id": "cc250e1d",
   "metadata": {
    "execution": {
     "iopub.execute_input": "2024-12-24T15:38:28.993423Z",
     "iopub.status.busy": "2024-12-24T15:38:28.993283Z",
     "iopub.status.idle": "2024-12-24T15:38:28.995792Z",
     "shell.execute_reply": "2024-12-24T15:38:28.995570Z"
    }
   },
   "outputs": [],
   "source": [
    "def the_early_bird(\n",
    "    products_df: pl.LazyFrame,\n",
    "    orders_items_df: pl.LazyFrame,\n",
    "    orders_df: pl.LazyFrame,\n",
    "    customers_df: pl.LazyFrame,\n",
    ") -> pl.DataFrame:\n",
    "    return (\n",
    "        products_df.filter(pl.col(\"sku\").str.contains(\"BKY\"))\n",
    "        .join(orders_items_df, on=\"sku\")\n",
    "        .join(\n",
    "            orders_df.filter(\n",
    "                pl.col(\"ordered\").dt.hour() < 5, pl.col(\"shipped\").dt.hour() < 5\n",
    "            ),\n",
    "            on=\"orderid\",\n",
    "        )\n",
    "        .group_by(\"customerid\")\n",
    "        .len()\n",
    "        .top_k(1, by=\"len\")\n",
    "        .join(customers_df, on=\"customerid\")\n",
    "        .select(customers_df.collect_schema().names())\n",
    "    ).collect()"
   ]
  },
  {
   "cell_type": "code",
   "execution_count": 24,
   "id": "a4f0535c",
   "metadata": {
    "execution": {
     "iopub.execute_input": "2024-12-24T15:38:28.997013Z",
     "iopub.status.busy": "2024-12-24T15:38:28.996912Z",
     "iopub.status.idle": "2024-12-24T15:38:29.014860Z",
     "shell.execute_reply": "2024-12-24T15:38:29.014616Z"
    }
   },
   "outputs": [
    {
     "data": {
      "text/html": [
       "<div><style>\n",
       ".dataframe > thead > tr,\n",
       ".dataframe > tbody > tr {\n",
       "  text-align: right;\n",
       "  white-space: pre-wrap;\n",
       "}\n",
       "</style>\n",
       "<small>shape: (1, 9)</small><table border=\"1\" class=\"dataframe\"><thead><tr><th>customerid</th><th>name</th><th>address</th><th>citystatezip</th><th>birthdate</th><th>phone</th><th>timezone</th><th>lat</th><th>long</th></tr><tr><td>i64</td><td>str</td><td>str</td><td>str</td><td>date</td><td>str</td><td>str</td><td>f64</td><td>f64</td></tr></thead><tbody><tr><td>6455</td><td>&quot;Brittany Harmon&quot;</td><td>&quot;8892A Shore Rd&quot;</td><td>&quot;Brooklyn, NY 11209&quot;</td><td>1967-01-12</td><td>&quot;716-789-4433&quot;</td><td>&quot;America/New_York&quot;</td><td>40.63201</td><td>-74.03621</td></tr></tbody></table></div>"
      ],
      "text/plain": [
       "shape: (1, 9)\n",
       "┌───────────┬───────────┬───────────┬───────────┬───┬───────────┬───────────┬──────────┬───────────┐\n",
       "│ customeri ┆ name      ┆ address   ┆ citystate ┆ … ┆ phone     ┆ timezone  ┆ lat      ┆ long      │\n",
       "│ d         ┆ ---       ┆ ---       ┆ zip       ┆   ┆ ---       ┆ ---       ┆ ---      ┆ ---       │\n",
       "│ ---       ┆ str       ┆ str       ┆ ---       ┆   ┆ str       ┆ str       ┆ f64      ┆ f64       │\n",
       "│ i64       ┆           ┆           ┆ str       ┆   ┆           ┆           ┆          ┆           │\n",
       "╞═══════════╪═══════════╪═══════════╪═══════════╪═══╪═══════════╪═══════════╪══════════╪═══════════╡\n",
       "│ 6455      ┆ Brittany  ┆ 8892A     ┆ Brooklyn, ┆ … ┆ 716-789-4 ┆ America/N ┆ 40.63201 ┆ -74.03621 │\n",
       "│           ┆ Harmon    ┆ Shore Rd  ┆ NY 11209  ┆   ┆ 433       ┆ ew_York   ┆          ┆           │\n",
       "└───────────┴───────────┴───────────┴───────────┴───┴───────────┴───────────┴──────────┴───────────┘"
      ]
     },
     "execution_count": 24,
     "metadata": {},
     "output_type": "execute_result"
    }
   ],
   "source": [
    "the_early_bird(products, orders_items, orders, customers)"
   ]
  },
  {
   "cell_type": "code",
   "execution_count": 25,
   "id": "ac196d46",
   "metadata": {
    "execution": {
     "iopub.execute_input": "2024-12-24T15:38:29.016019Z",
     "iopub.status.busy": "2024-12-24T15:38:29.015936Z",
     "iopub.status.idle": "2024-12-24T15:38:29.033038Z",
     "shell.execute_reply": "2024-12-24T15:38:29.032748Z"
    },
    "lines_to_next_cell": 2
   },
   "outputs": [
    {
     "data": {
      "text/plain": [
       "'716-789-4433'"
      ]
     },
     "execution_count": 25,
     "metadata": {},
     "output_type": "execute_result"
    }
   ],
   "source": [
    "_.pipe(answer)"
   ]
  },
  {
   "cell_type": "markdown",
   "id": "8453b8d1",
   "metadata": {
    "lines_to_next_cell": 2
   },
   "source": [
    "## 5. The Cat Lady\n",
    "\n",
    "\"Yes, I did have that tapestry for a little bit. I even cleaned a blotchy\n",
    "section that turned out to be a friendly koala.\n",
    "\n",
    "\"But it was still really dirty, so when I was going through a Marie Kondo\n",
    "phase, I decided it wasn't sparking joy anymore.\n",
    "\n",
    "\"I listed it on Freecycle, and a woman came to pick it up. She was wearing a\n",
    "'Noah's Market' sweatshirt, and it was just covered in cat hair. When I\n",
    "suggested that a clowder of cats might ruin such a fine tapestry, she looked\n",
    "at me funny. She said \"I only have ten or eleven cats, and anyway they are\n",
    "getting quite old now, so I doubt they'd care about some old rug.\"\n",
    "\n",
    "\"It took her 20 minutes to stuff the tapestry into some plastic bags she\n",
    "brought because it was raining. I spent the evening cleaning my apartment.\"\n",
    "\n",
    "What's the phone number of the woman from Freecycle?"
   ]
  },
  {
   "cell_type": "code",
   "execution_count": 26,
   "id": "0cffbb40",
   "metadata": {
    "execution": {
     "iopub.execute_input": "2024-12-24T15:38:29.034460Z",
     "iopub.status.busy": "2024-12-24T15:38:29.034350Z",
     "iopub.status.idle": "2024-12-24T15:38:29.036486Z",
     "shell.execute_reply": "2024-12-24T15:38:29.036267Z"
    }
   },
   "outputs": [],
   "source": [
    "def the_cat_lady(\n",
    "    products_df: pl.LazyFrame,\n",
    "    orders_items_df: pl.LazyFrame,\n",
    "    orders_df: pl.LazyFrame,\n",
    "    customers_df: pl.LazyFrame,\n",
    ") -> pl.DataFrame:\n",
    "    return (\n",
    "        products_df.filter(pl.col(\"desc\").str.contains(\"(?i)senior cat\"))\n",
    "        .join(orders_items_df, on=\"sku\")\n",
    "        .join(orders_df, on=\"orderid\")\n",
    "        .group_by(\"customerid\")\n",
    "        .len()\n",
    "        .top_k(1, by=\"len\")\n",
    "        .join(customers, on=\"customerid\")\n",
    "        .select(customers.collect_schema().names())\n",
    "    ).collect()"
   ]
  },
  {
   "cell_type": "code",
   "execution_count": 27,
   "id": "d4cc1504",
   "metadata": {
    "execution": {
     "iopub.execute_input": "2024-12-24T15:38:29.037667Z",
     "iopub.status.busy": "2024-12-24T15:38:29.037577Z",
     "iopub.status.idle": "2024-12-24T15:38:29.052569Z",
     "shell.execute_reply": "2024-12-24T15:38:29.052299Z"
    }
   },
   "outputs": [
    {
     "data": {
      "text/html": [
       "<div><style>\n",
       ".dataframe > thead > tr,\n",
       ".dataframe > tbody > tr {\n",
       "  text-align: right;\n",
       "  white-space: pre-wrap;\n",
       "}\n",
       "</style>\n",
       "<small>shape: (1, 9)</small><table border=\"1\" class=\"dataframe\"><thead><tr><th>customerid</th><th>name</th><th>address</th><th>citystatezip</th><th>birthdate</th><th>phone</th><th>timezone</th><th>lat</th><th>long</th></tr><tr><td>i64</td><td>str</td><td>str</td><td>str</td><td>date</td><td>str</td><td>str</td><td>f64</td><td>f64</td></tr></thead><tbody><tr><td>7957</td><td>&quot;Theresa Carter&quot;</td><td>&quot;1503 Plymouth Ave&quot;</td><td>&quot;Bronx, NY 10461&quot;</td><td>1961-12-13</td><td>&quot;347-835-2358&quot;</td><td>&quot;America/New_York&quot;</td><td>40.84315</td><td>-73.83169</td></tr></tbody></table></div>"
      ],
      "text/plain": [
       "shape: (1, 9)\n",
       "┌───────────┬───────────┬───────────┬───────────┬───┬───────────┬───────────┬──────────┬───────────┐\n",
       "│ customeri ┆ name      ┆ address   ┆ citystate ┆ … ┆ phone     ┆ timezone  ┆ lat      ┆ long      │\n",
       "│ d         ┆ ---       ┆ ---       ┆ zip       ┆   ┆ ---       ┆ ---       ┆ ---      ┆ ---       │\n",
       "│ ---       ┆ str       ┆ str       ┆ ---       ┆   ┆ str       ┆ str       ┆ f64      ┆ f64       │\n",
       "│ i64       ┆           ┆           ┆ str       ┆   ┆           ┆           ┆          ┆           │\n",
       "╞═══════════╪═══════════╪═══════════╪═══════════╪═══╪═══════════╪═══════════╪══════════╪═══════════╡\n",
       "│ 7957      ┆ Theresa   ┆ 1503      ┆ Bronx, NY ┆ … ┆ 347-835-2 ┆ America/N ┆ 40.84315 ┆ -73.83169 │\n",
       "│           ┆ Carter    ┆ Plymouth  ┆ 10461     ┆   ┆ 358       ┆ ew_York   ┆          ┆           │\n",
       "│           ┆           ┆ Ave       ┆           ┆   ┆           ┆           ┆          ┆           │\n",
       "└───────────┴───────────┴───────────┴───────────┴───┴───────────┴───────────┴──────────┴───────────┘"
      ]
     },
     "execution_count": 27,
     "metadata": {},
     "output_type": "execute_result"
    }
   ],
   "source": [
    "the_cat_lady(products, orders_items, orders, customers)"
   ]
  },
  {
   "cell_type": "code",
   "execution_count": 28,
   "id": "e36d9924",
   "metadata": {
    "execution": {
     "iopub.execute_input": "2024-12-24T15:38:29.054128Z",
     "iopub.status.busy": "2024-12-24T15:38:29.054051Z",
     "iopub.status.idle": "2024-12-24T15:38:29.071243Z",
     "shell.execute_reply": "2024-12-24T15:38:29.070970Z"
    }
   },
   "outputs": [
    {
     "data": {
      "text/plain": [
       "'347-835-2358'"
      ]
     },
     "execution_count": 28,
     "metadata": {},
     "output_type": "execute_result"
    }
   ],
   "source": [
    "_.pipe(answer)"
   ]
  },
  {
   "cell_type": "markdown",
   "id": "c16871c5",
   "metadata": {
    "lines_to_next_cell": 0
   },
   "source": [
    "## 6. The Bargain Hunter\n",
    "\n",
    "\"Why yes, I did have that rug for a little while in my living room! My cats\n",
    "can't see a thing but they sure chased after the squirrel on it like it was\n",
    "dancing in front of their noses.\n",
    "\n",
    "\"It was a nice rug and they were surely going to ruin it, so I gave it to my\n",
    "cousin, who was moving into a new place that had wood floors.\n",
    "\n",
    "\"She refused to buy a new rug for herself--she said they were way too\n",
    "expensive. She's always been very frugal, and she clips every coupon and shops\n",
    "every sale at Noah's Market. In fact I like to tease her that Noah actually\n",
    "loses money whenever she comes in the store.\n",
    "\n",
    "\"I think she's been taking it too far lately though. Once the subway fare\n",
    "increased, she stopped coming to visit me. And she's really slow to respond to\n",
    "my texts. I hope she remembers to invite me to the family reunion next year.\"\n",
    "\n",
    "Can you find her cousin's phone number?"
   ]
  },
  {
   "cell_type": "code",
   "execution_count": 29,
   "id": "697e1143",
   "metadata": {
    "execution": {
     "iopub.execute_input": "2024-12-24T15:38:29.072620Z",
     "iopub.status.busy": "2024-12-24T15:38:29.072512Z",
     "iopub.status.idle": "2024-12-24T15:38:29.074735Z",
     "shell.execute_reply": "2024-12-24T15:38:29.074530Z"
    }
   },
   "outputs": [],
   "source": [
    "def the_bargain_hunter(\n",
    "    customers_df: pl.LazyFrame = customers,\n",
    "    products_df: pl.LazyFrame = products,\n",
    "    orders_items_df: pl.LazyFrame = orders_items,\n",
    "    orders_df: pl.LazyFrame = orders,\n",
    ") -> pl.DataFrame:\n",
    "    return (\n",
    "        orders_items_df.join(products_df, on=\"sku\")\n",
    "        .filter(pl.col(\"unit_price\") < pl.col(\"wholesale_cost\"))\n",
    "        .join(orders_df, on=\"orderid\")\n",
    "        .join(customers_df, on=\"customerid\")\n",
    "        .group_by(\"customerid\")\n",
    "        .len()\n",
    "        .top_k(1, by=\"len\")\n",
    "        .join(customers_df, on=\"customerid\")\n",
    "        .select(customers_df.collect_schema().names())\n",
    "    ).collect()"
   ]
  },
  {
   "cell_type": "code",
   "execution_count": 30,
   "id": "0bbef1e0",
   "metadata": {
    "execution": {
     "iopub.execute_input": "2024-12-24T15:38:29.075886Z",
     "iopub.status.busy": "2024-12-24T15:38:29.075790Z",
     "iopub.status.idle": "2024-12-24T15:38:29.094435Z",
     "shell.execute_reply": "2024-12-24T15:38:29.094217Z"
    }
   },
   "outputs": [
    {
     "data": {
      "text/html": [
       "<div><style>\n",
       ".dataframe > thead > tr,\n",
       ".dataframe > tbody > tr {\n",
       "  text-align: right;\n",
       "  white-space: pre-wrap;\n",
       "}\n",
       "</style>\n",
       "<small>shape: (1, 9)</small><table border=\"1\" class=\"dataframe\"><thead><tr><th>customerid</th><th>name</th><th>address</th><th>citystatezip</th><th>birthdate</th><th>phone</th><th>timezone</th><th>lat</th><th>long</th></tr><tr><td>i64</td><td>str</td><td>str</td><td>str</td><td>date</td><td>str</td><td>str</td><td>f64</td><td>f64</td></tr></thead><tbody><tr><td>8884</td><td>&quot;Deborah Green&quot;</td><td>&quot;1095B Simpson St&quot;</td><td>&quot;Bronx, NY 10459&quot;</td><td>1987-05-16</td><td>&quot;838-295-7143&quot;</td><td>&quot;America/New_York&quot;</td><td>40.82314</td><td>-73.89254</td></tr></tbody></table></div>"
      ],
      "text/plain": [
       "shape: (1, 9)\n",
       "┌───────────┬───────────┬───────────┬───────────┬───┬───────────┬───────────┬──────────┬───────────┐\n",
       "│ customeri ┆ name      ┆ address   ┆ citystate ┆ … ┆ phone     ┆ timezone  ┆ lat      ┆ long      │\n",
       "│ d         ┆ ---       ┆ ---       ┆ zip       ┆   ┆ ---       ┆ ---       ┆ ---      ┆ ---       │\n",
       "│ ---       ┆ str       ┆ str       ┆ ---       ┆   ┆ str       ┆ str       ┆ f64      ┆ f64       │\n",
       "│ i64       ┆           ┆           ┆ str       ┆   ┆           ┆           ┆          ┆           │\n",
       "╞═══════════╪═══════════╪═══════════╪═══════════╪═══╪═══════════╪═══════════╪══════════╪═══════════╡\n",
       "│ 8884      ┆ Deborah   ┆ 1095B     ┆ Bronx, NY ┆ … ┆ 838-295-7 ┆ America/N ┆ 40.82314 ┆ -73.89254 │\n",
       "│           ┆ Green     ┆ Simpson   ┆ 10459     ┆   ┆ 143       ┆ ew_York   ┆          ┆           │\n",
       "│           ┆           ┆ St        ┆           ┆   ┆           ┆           ┆          ┆           │\n",
       "└───────────┴───────────┴───────────┴───────────┴───┴───────────┴───────────┴──────────┴───────────┘"
      ]
     },
     "execution_count": 30,
     "metadata": {},
     "output_type": "execute_result"
    }
   ],
   "source": [
    "customers.pipe(the_bargain_hunter)"
   ]
  },
  {
   "cell_type": "code",
   "execution_count": 31,
   "id": "a5525040",
   "metadata": {
    "execution": {
     "iopub.execute_input": "2024-12-24T15:38:29.095613Z",
     "iopub.status.busy": "2024-12-24T15:38:29.095541Z",
     "iopub.status.idle": "2024-12-24T15:38:29.111960Z",
     "shell.execute_reply": "2024-12-24T15:38:29.111680Z"
    },
    "lines_to_next_cell": 2
   },
   "outputs": [
    {
     "data": {
      "text/plain": [
       "'838-295-7143'"
      ]
     },
     "execution_count": 31,
     "metadata": {},
     "output_type": "execute_result"
    }
   ],
   "source": [
    "_.pipe(answer)"
   ]
  },
  {
   "cell_type": "markdown",
   "id": "6d6be70d",
   "metadata": {
    "lines_to_next_cell": 2
   },
   "source": [
    "## 7. The Meet Cute\n",
    "\n",
    "\"Oh that tapestry, with the colorful toucan on it! I'll tell you what happened\n",
    "to it.\n",
    "\n",
    "\"One day, I was at Noah's Market, and I was just about to leave when someone\n",
    "behind me said 'Miss! You dropped something!'\n",
    "\n",
    "\"Well I turned around to see this cute guy holding an item I had bought. He\n",
    "said, 'I got the same thing!' We laughed about it and wound up swapping items\n",
    "because I wanted the color he got. We had a moment when our eyes met and my\n",
    "heart stopped for a second. I asked him to get some food with me and we spent\n",
    "the rest of the day together.\n",
    "\n",
    "\"Before long I moved into his place, but the romance faded quickly, as he\n",
    "wasn't the prince I imagined. I left abruptly one night, forgetting the\n",
    "tapestry on his wall. But by then, it symbolized our love, and I wanted\n",
    "nothing more to do with it. For all I know, he still has it.\"\n",
    "\n",
    "Can you figure out her ex-boyfriend's phone number?"
   ]
  },
  {
   "cell_type": "code",
   "execution_count": 32,
   "id": "58a8b89b",
   "metadata": {
    "execution": {
     "iopub.execute_input": "2024-12-24T15:38:29.113292Z",
     "iopub.status.busy": "2024-12-24T15:38:29.113188Z",
     "iopub.status.idle": "2024-12-24T15:38:29.115376Z",
     "shell.execute_reply": "2024-12-24T15:38:29.115132Z"
    }
   },
   "outputs": [],
   "source": [
    "def color_agnostic_item_name(products_df: pl.LazyFrame = products) -> pl.DataFrame:\n",
    "    \"\"\"\n",
    "    Generates a new column for items, removing color information to create\n",
    "    color-agnostic names.\n",
    "\n",
    "    Parameters\n",
    "    ----------\n",
    "    products_df : pd.DataFrame, optional\n",
    "        DataFrame containing product information, by default products.\n",
    "\n",
    "    Returns\n",
    "    -------\n",
    "    pd.DataFrame\n",
    "        DataFrame with an additional 'desc_color_agnostic' column representing\n",
    "        color-agnostic item names.\n",
    "\n",
    "    Notes\n",
    "    -----\n",
    "    This function creates a new column 'desc_color_agnostic' by removing color\n",
    "    information from the 'desc' column. It ensures that item names are\n",
    "    represented without specific color details.\n",
    "\n",
    "    Examples\n",
    "    --------\n",
    "    >>> color_agnostic_item_name(df)\n",
    "    # Returns a DataFrame with 'desc_color_agnostic' column:\n",
    "    # 'Manual Mixer (orange)' -> 'Manual Mixer'\n",
    "\n",
    "    \"\"\"\n",
    "    return (\n",
    "        products_df.filter(pl.col(\"desc\").str.contains(r\"\\(\\w+\\)\"))\n",
    "        .with_columns(\n",
    "            color=pl.col(\"desc\")\n",
    "            .str.split(\"(\")\n",
    "            .list.last()\n",
    "            .str.replace_all(\")\", \"\", literal=True)\n",
    "        )\n",
    "        .with_columns(\n",
    "            color_agnostic_desc=pl.col(\"desc\").str.replace_all(r\"\\s(\\(\\w+\\))\", \"\")\n",
    "        )\n",
    "    )"
   ]
  },
  {
   "cell_type": "code",
   "execution_count": 33,
   "id": "16070ba4",
   "metadata": {
    "execution": {
     "iopub.execute_input": "2024-12-24T15:38:29.116496Z",
     "iopub.status.busy": "2024-12-24T15:38:29.116409Z",
     "iopub.status.idle": "2024-12-24T15:38:29.118187Z",
     "shell.execute_reply": "2024-12-24T15:38:29.117972Z"
    }
   },
   "outputs": [],
   "source": [
    "def date_hour_mm(orders_df: pl.LazyFrame = orders) -> pl.LazyFrame:\n",
    "    \"\"\"\n",
    "    Extracts and formats the date and hour from the 'ordered' column in a\n",
    "    DataFrame of order information.\n",
    "\n",
    "    Parameters\n",
    "    ----------\n",
    "    orders_df : pl.LazyFrame, optional\n",
    "        DataFrame containing order information, by default orders.\n",
    "\n",
    "    Returns\n",
    "    -------\n",
    "    pl.LazyFrame\n",
    "        DataFrame with an additional 'date_hour' column representing the\n",
    "        formatted date and hour.\n",
    "\n",
    "    Notes\n",
    "    -----\n",
    "    This function extracts the date and hour information from the 'ordered'\n",
    "    column and adds a new column 'date_hour' to the DataFrame. The 'date_hour'\n",
    "    column is formatted as 'MM/DD/YYYY HH:MM' to represent the month, day,\n",
    "    year, and hour of each order.\n",
    "    \"\"\"\n",
    "    return orders_df.with_columns(\n",
    "        date_hour=pl.col(\"ordered\").dt.strftime(\"%m/%d/%Y %H:%M\")\n",
    "    )"
   ]
  },
  {
   "cell_type": "code",
   "execution_count": 34,
   "id": "e0357f38",
   "metadata": {
    "execution": {
     "iopub.execute_input": "2024-12-24T15:38:29.119247Z",
     "iopub.status.busy": "2024-12-24T15:38:29.119179Z",
     "iopub.status.idle": "2024-12-24T15:38:29.120920Z",
     "shell.execute_reply": "2024-12-24T15:38:29.120740Z"
    }
   },
   "outputs": [],
   "source": [
    "def filter_in_store_orders(orders_df: pl.LazyFrame = orders) -> pl.LazyFrame:\n",
    "    \"\"\"\n",
    "    Filters out in-store orders from a DataFrame of order information.\n",
    "\n",
    "    Parameters\n",
    "    ----------\n",
    "    orders_df : pl.LazyFrame, optional\n",
    "        DataFrame containing order information, by default orders.\n",
    "\n",
    "    Returns\n",
    "    -------\n",
    "    pl.LazyFrame\n",
    "        DataFrame with in-store orders removed.\n",
    "\n",
    "    Notes\n",
    "    -----\n",
    "    This function filters out orders that were bought in-store by comparing the\n",
    "    'ordered' and 'shipped' columns. Only orders with distinct 'ordered' and\n",
    "    'shipped' timestamps are retained.\n",
    "\n",
    "    Example\n",
    "    -------\n",
    "    >>> filter_in_store_orders(df)\n",
    "    # Returns a DataFrame with in-store orders removed.\n",
    "    \"\"\"\n",
    "    return orders_df.filter(pl.col(\"ordered\") == pl.col(\"shipped\"))"
   ]
  },
  {
   "cell_type": "code",
   "execution_count": 35,
   "id": "b750e4a2",
   "metadata": {
    "execution": {
     "iopub.execute_input": "2024-12-24T15:38:29.122012Z",
     "iopub.status.busy": "2024-12-24T15:38:29.121944Z",
     "iopub.status.idle": "2024-12-24T15:38:29.123845Z",
     "shell.execute_reply": "2024-12-24T15:38:29.123651Z"
    }
   },
   "outputs": [],
   "source": [
    "def bargain_hunter_color_items(\n",
    "    products_df: pl.LazyFrame = products,\n",
    "    orders_items_df: pl.LazyFrame = orders_items,\n",
    "    orders_df: pl.LazyFrame = orders,\n",
    ") -> pl.DataFrame:\n",
    "    return (\n",
    "        products_df.pipe(color_agnostic_item_name)\n",
    "        .join(orders_items_df, on=\"sku\")\n",
    "        .join(orders_df, on=\"orderid\")\n",
    "        .filter(\n",
    "            pl.col(\"customerid\")\n",
    "            == customers.pipe(\n",
    "                the_bargain_hunter, products, orders_items, orders\n",
    "            ).select(\"customerid\")\n",
    "        )\n",
    "        .pipe(filter_in_store_orders)\n",
    "        .pipe(date_hour_mm)\n",
    "    )"
   ]
  },
  {
   "cell_type": "code",
   "execution_count": 36,
   "id": "bf2deb48",
   "metadata": {
    "execution": {
     "iopub.execute_input": "2024-12-24T15:38:29.124955Z",
     "iopub.status.busy": "2024-12-24T15:38:29.124892Z",
     "iopub.status.idle": "2024-12-24T15:38:29.127300Z",
     "shell.execute_reply": "2024-12-24T15:38:29.127097Z"
    }
   },
   "outputs": [],
   "source": [
    "def the_order_of_the_meet(\n",
    "    orders_df: pl.LazyFrame = orders,\n",
    "    orders_items_df: pl.LazyFrame = orders_items,\n",
    "    products_df: pl.LazyFrame = products,\n",
    ") -> pl.DataFrame:\n",
    "    bargain_hunter = bargain_hunter_color_items()\n",
    "\n",
    "    return (\n",
    "        orders_df.pipe(filter_in_store_orders)\n",
    "        .join(orders_items_df, on=\"orderid\")\n",
    "        .pipe(date_hour_mm)\n",
    "        .join(products_df.pipe(color_agnostic_item_name), on=\"sku\")\n",
    "        .join(\n",
    "            bargain_hunter.select([\"color_agnostic_desc\", \"date_hour\"]),\n",
    "            on=[\"color_agnostic_desc\", \"date_hour\"],\n",
    "        )\n",
    "        .filter(\n",
    "            ~pl.col(\"customerid\").is_in(\n",
    "                bargain_hunter.select(\"customerid\").collect().to_series()\n",
    "            )\n",
    "        )\n",
    "        .select(bargain_hunter.collect_schema().names())\n",
    "        .collect()\n",
    "        .pipe(\n",
    "            lambda cute_guy: pl.concat(\n",
    "                [\n",
    "                    bargain_hunter.collect().filter(\n",
    "                        pl.col(\"color_agnostic_desc\").is_in(\n",
    "                            cute_guy.select(\"color_agnostic_desc\").to_series()\n",
    "                        ),\n",
    "                        pl.col(\"date_hour\").is_in(\n",
    "                            cute_guy.select(\"date_hour\").to_series()\n",
    "                        ),\n",
    "                    ),\n",
    "                    cute_guy,\n",
    "                ]\n",
    "            )\n",
    "        )\n",
    "    )"
   ]
  },
  {
   "cell_type": "code",
   "execution_count": 37,
   "id": "3746d10a",
   "metadata": {
    "execution": {
     "iopub.execute_input": "2024-12-24T15:38:29.128345Z",
     "iopub.status.busy": "2024-12-24T15:38:29.128278Z",
     "iopub.status.idle": "2024-12-24T15:38:29.245161Z",
     "shell.execute_reply": "2024-12-24T15:38:29.244941Z"
    }
   },
   "outputs": [
    {
     "data": {
      "text/html": [
       "<div><style>\n",
       ".dataframe > thead > tr,\n",
       ".dataframe > tbody > tr {\n",
       "  text-align: right;\n",
       "  white-space: pre-wrap;\n",
       "}\n",
       "</style>\n",
       "<small>shape: (2, 15)</small><table border=\"1\" class=\"dataframe\"><thead><tr><th>sku</th><th>desc</th><th>wholesale_cost</th><th>dims_cm</th><th>color</th><th>color_agnostic_desc</th><th>orderid</th><th>qty</th><th>unit_price</th><th>customerid</th><th>ordered</th><th>shipped</th><th>items</th><th>total</th><th>date_hour</th></tr><tr><td>str</td><td>str</td><td>f64</td><td>str</td><td>str</td><td>str</td><td>i64</td><td>i64</td><td>f64</td><td>i64</td><td>datetime[μs]</td><td>datetime[μs]</td><td>str</td><td>f64</td><td>str</td></tr></thead><tbody><tr><td>&quot;HOM5135&quot;</td><td>&quot;Mini Machine (blue)&quot;</td><td>32.51</td><td>&quot;16.8|9.7|3.0&quot;</td><td>&quot;blue&quot;</td><td>&quot;Mini Machine&quot;</td><td>73257</td><td>1</td><td>16.25</td><td>8884</td><td>2019-01-25 12:01:41</td><td>2019-01-25 12:01:41</td><td>null</td><td>16.25</td><td>&quot;01/25/2019 12:01&quot;</td></tr><tr><td>&quot;HOM6259&quot;</td><td>&quot;Mini Machine (magenta)&quot;</td><td>34.07</td><td>&quot;18.1|13.5|4.7&quot;</td><td>&quot;magenta&quot;</td><td>&quot;Mini Machine&quot;</td><td>73256</td><td>1</td><td>46.52</td><td>9931</td><td>2019-01-25 12:01:30</td><td>2019-01-25 12:01:30</td><td>null</td><td>46.52</td><td>&quot;01/25/2019 12:01&quot;</td></tr></tbody></table></div>"
      ],
      "text/plain": [
       "shape: (2, 15)\n",
       "┌─────────┬─────────────┬─────────────┬─────────────┬───┬─────────────┬───────┬───────┬────────────┐\n",
       "│ sku     ┆ desc        ┆ wholesale_c ┆ dims_cm     ┆ … ┆ shipped     ┆ items ┆ total ┆ date_hour  │\n",
       "│ ---     ┆ ---         ┆ ost         ┆ ---         ┆   ┆ ---         ┆ ---   ┆ ---   ┆ ---        │\n",
       "│ str     ┆ str         ┆ ---         ┆ str         ┆   ┆ datetime[μs ┆ str   ┆ f64   ┆ str        │\n",
       "│         ┆             ┆ f64         ┆             ┆   ┆ ]           ┆       ┆       ┆            │\n",
       "╞═════════╪═════════════╪═════════════╪═════════════╪═══╪═════════════╪═══════╪═══════╪════════════╡\n",
       "│ HOM5135 ┆ Mini        ┆ 32.51       ┆ 16.8|9.7|3. ┆ … ┆ 2019-01-25  ┆ null  ┆ 16.25 ┆ 01/25/2019 │\n",
       "│         ┆ Machine     ┆             ┆ 0           ┆   ┆ 12:01:41    ┆       ┆       ┆ 12:01      │\n",
       "│         ┆ (blue)      ┆             ┆             ┆   ┆             ┆       ┆       ┆            │\n",
       "│ HOM6259 ┆ Mini        ┆ 34.07       ┆ 18.1|13.5|4 ┆ … ┆ 2019-01-25  ┆ null  ┆ 46.52 ┆ 01/25/2019 │\n",
       "│         ┆ Machine     ┆             ┆ .7          ┆   ┆ 12:01:30    ┆       ┆       ┆ 12:01      │\n",
       "│         ┆ (magenta)   ┆             ┆             ┆   ┆             ┆       ┆       ┆            │\n",
       "└─────────┴─────────────┴─────────────┴─────────────┴───┴─────────────┴───────┴───────┴────────────┘"
      ]
     },
     "execution_count": 37,
     "metadata": {},
     "output_type": "execute_result"
    }
   ],
   "source": [
    "the_order_of_the_meet()"
   ]
  },
  {
   "cell_type": "code",
   "execution_count": 38,
   "id": "1742ee91",
   "metadata": {
    "execution": {
     "iopub.execute_input": "2024-12-24T15:38:29.246370Z",
     "iopub.status.busy": "2024-12-24T15:38:29.246287Z",
     "iopub.status.idle": "2024-12-24T15:38:29.248279Z",
     "shell.execute_reply": "2024-12-24T15:38:29.248072Z"
    }
   },
   "outputs": [],
   "source": [
    "def the_meet_cute(customers_df: pl.LazyFrame = customers) -> pl.DataFrame:\n",
    "    the_meet = the_order_of_the_meet()\n",
    "    the_couple_customer_ids = the_meet.select(\"customerid\").to_series().to_list()\n",
    "    the_bargain_hunter_customer_id = (\n",
    "        customers_df.pipe(the_bargain_hunter).select(\"customerid\").to_series().to_list()\n",
    "    )\n",
    "    the_meet_cute_id = set(the_couple_customer_ids) - set(\n",
    "        the_bargain_hunter_customer_id\n",
    "    )\n",
    "    return customers_df.filter(\n",
    "        pl.col(\"customerid\").is_in(list(the_meet_cute_id))\n",
    "    ).collect()"
   ]
  },
  {
   "cell_type": "code",
   "execution_count": 39,
   "id": "e757d2ac",
   "metadata": {
    "execution": {
     "iopub.execute_input": "2024-12-24T15:38:29.249422Z",
     "iopub.status.busy": "2024-12-24T15:38:29.249352Z",
     "iopub.status.idle": "2024-12-24T15:38:29.373902Z",
     "shell.execute_reply": "2024-12-24T15:38:29.373673Z"
    }
   },
   "outputs": [
    {
     "data": {
      "text/html": [
       "<div><style>\n",
       ".dataframe > thead > tr,\n",
       ".dataframe > tbody > tr {\n",
       "  text-align: right;\n",
       "  white-space: pre-wrap;\n",
       "}\n",
       "</style>\n",
       "<small>shape: (1, 9)</small><table border=\"1\" class=\"dataframe\"><thead><tr><th>customerid</th><th>name</th><th>address</th><th>citystatezip</th><th>birthdate</th><th>phone</th><th>timezone</th><th>lat</th><th>long</th></tr><tr><td>i64</td><td>str</td><td>str</td><td>str</td><td>date</td><td>str</td><td>str</td><td>f64</td><td>f64</td></tr></thead><tbody><tr><td>9931</td><td>&quot;Jeremy Burch&quot;</td><td>&quot;28-83 36th St&quot;</td><td>&quot;Astoria, NY 11103&quot;</td><td>1973-05-22</td><td>&quot;516-544-4187&quot;</td><td>&quot;America/New_York&quot;</td><td>40.76774</td><td>-73.91405</td></tr></tbody></table></div>"
      ],
      "text/plain": [
       "shape: (1, 9)\n",
       "┌────────────┬────────┬────────────┬────────────┬───┬───────────┬───────────┬──────────┬───────────┐\n",
       "│ customerid ┆ name   ┆ address    ┆ citystatez ┆ … ┆ phone     ┆ timezone  ┆ lat      ┆ long      │\n",
       "│ ---        ┆ ---    ┆ ---        ┆ ip         ┆   ┆ ---       ┆ ---       ┆ ---      ┆ ---       │\n",
       "│ i64        ┆ str    ┆ str        ┆ ---        ┆   ┆ str       ┆ str       ┆ f64      ┆ f64       │\n",
       "│            ┆        ┆            ┆ str        ┆   ┆           ┆           ┆          ┆           │\n",
       "╞════════════╪════════╪════════════╪════════════╪═══╪═══════════╪═══════════╪══════════╪═══════════╡\n",
       "│ 9931       ┆ Jeremy ┆ 28-83 36th ┆ Astoria,   ┆ … ┆ 516-544-4 ┆ America/N ┆ 40.76774 ┆ -73.91405 │\n",
       "│            ┆ Burch  ┆ St         ┆ NY 11103   ┆   ┆ 187       ┆ ew_York   ┆          ┆           │\n",
       "└────────────┴────────┴────────────┴────────────┴───┴───────────┴───────────┴──────────┴───────────┘"
      ]
     },
     "execution_count": 39,
     "metadata": {},
     "output_type": "execute_result"
    }
   ],
   "source": [
    "customers.pipe(the_meet_cute)"
   ]
  },
  {
   "cell_type": "code",
   "execution_count": 40,
   "id": "96645dc2",
   "metadata": {
    "execution": {
     "iopub.execute_input": "2024-12-24T15:38:29.375105Z",
     "iopub.status.busy": "2024-12-24T15:38:29.375012Z",
     "iopub.status.idle": "2024-12-24T15:38:29.392706Z",
     "shell.execute_reply": "2024-12-24T15:38:29.392434Z"
    },
    "lines_to_next_cell": 2
   },
   "outputs": [
    {
     "data": {
      "text/plain": [
       "'516-544-4187'"
      ]
     },
     "execution_count": 40,
     "metadata": {},
     "output_type": "execute_result"
    }
   ],
   "source": [
    "_.pipe(answer)"
   ]
  },
  {
   "cell_type": "markdown",
   "id": "f972eb1f",
   "metadata": {
    "lines_to_next_cell": 2
   },
   "source": [
    "## 8. The Collector\n",
    "\n",
    "\"Oh that damned woman! She moved in, clogged my bathtub, left her coupons all\n",
    "over the kitchen, and then just vanished one night without leaving so much as\n",
    "a note.\n",
    "\n",
    "Except she did leave behind that nasty carpet. I spent months cleaning one\n",
    "corner, only to discover a snake hiding in the branches! I knew then that she\n",
    "was never coming back, and I had to get it out of my sight.\n",
    "\n",
    "\"Well, I don't have any storage here, and it didn't seem right to sell it, so\n",
    "I gave it to my sister. She wound up getting a newer and more expensive\n",
    "carpet, so she gave it to an acquaintance of hers who collects all sorts of\n",
    "junk. Apparently he owns an entire set of Noah's collectibles! He probably\n",
    "still has the carpet, even.\n",
    "\n",
    "\"My sister is away for the holidays, but I can have her call you in a few\n",
    "weeks.\"\n",
    "\n",
    "The family dinner is tonight! Can you find the collector's phone number in\n",
    "time?"
   ]
  },
  {
   "cell_type": "code",
   "execution_count": 41,
   "id": "1ac790d4",
   "metadata": {
    "execution": {
     "iopub.execute_input": "2024-12-24T15:38:29.394085Z",
     "iopub.status.busy": "2024-12-24T15:38:29.394001Z",
     "iopub.status.idle": "2024-12-24T15:38:29.396196Z",
     "shell.execute_reply": "2024-12-24T15:38:29.396002Z"
    }
   },
   "outputs": [],
   "source": [
    "def the_collector(\n",
    "    customers_df: pl.LazyFrame = customers,\n",
    "    products_df: pl.LazyFrame = products,\n",
    "    orders_items_df: pl.LazyFrame = orders_items,\n",
    "    orders_df: pl.LazyFrame = orders,\n",
    ") -> pl.DataFrame:\n",
    "    return (\n",
    "        products_df.filter(pl.col(\"desc\").str.contains(\"Noah\"))\n",
    "        .join(orders_items_df, on=\"sku\")\n",
    "        .join(orders_df, on=\"orderid\")\n",
    "        .join(customers_df, on=\"customerid\")\n",
    "        .group_by(\"customerid\")\n",
    "        .len()\n",
    "        .top_k(1, by=\"len\")\n",
    "        .join(customers_df, on=\"customerid\")\n",
    "        .select(customers_df.collect_schema().names())\n",
    "    ).collect()"
   ]
  },
  {
   "cell_type": "code",
   "execution_count": 42,
   "id": "5b6622a2",
   "metadata": {
    "execution": {
     "iopub.execute_input": "2024-12-24T15:38:29.397297Z",
     "iopub.status.busy": "2024-12-24T15:38:29.397211Z",
     "iopub.status.idle": "2024-12-24T15:38:29.414856Z",
     "shell.execute_reply": "2024-12-24T15:38:29.414580Z"
    }
   },
   "outputs": [
    {
     "data": {
      "text/html": [
       "<div><style>\n",
       ".dataframe > thead > tr,\n",
       ".dataframe > tbody > tr {\n",
       "  text-align: right;\n",
       "  white-space: pre-wrap;\n",
       "}\n",
       "</style>\n",
       "<small>shape: (1, 9)</small><table border=\"1\" class=\"dataframe\"><thead><tr><th>customerid</th><th>name</th><th>address</th><th>citystatezip</th><th>birthdate</th><th>phone</th><th>timezone</th><th>lat</th><th>long</th></tr><tr><td>i64</td><td>str</td><td>str</td><td>str</td><td>date</td><td>str</td><td>str</td><td>f64</td><td>f64</td></tr></thead><tbody><tr><td>2602</td><td>&quot;Daniel Wilson&quot;</td><td>&quot;376A E 89th St&quot;</td><td>&quot;Manhattan, NY 10128&quot;</td><td>1966-08-18</td><td>&quot;516-638-9966&quot;</td><td>&quot;America/New_York&quot;</td><td>40.77864</td><td>-73.94972</td></tr></tbody></table></div>"
      ],
      "text/plain": [
       "shape: (1, 9)\n",
       "┌────────────┬────────┬────────────┬────────────┬───┬───────────┬───────────┬──────────┬───────────┐\n",
       "│ customerid ┆ name   ┆ address    ┆ citystatez ┆ … ┆ phone     ┆ timezone  ┆ lat      ┆ long      │\n",
       "│ ---        ┆ ---    ┆ ---        ┆ ip         ┆   ┆ ---       ┆ ---       ┆ ---      ┆ ---       │\n",
       "│ i64        ┆ str    ┆ str        ┆ ---        ┆   ┆ str       ┆ str       ┆ f64      ┆ f64       │\n",
       "│            ┆        ┆            ┆ str        ┆   ┆           ┆           ┆          ┆           │\n",
       "╞════════════╪════════╪════════════╪════════════╪═══╪═══════════╪═══════════╪══════════╪═══════════╡\n",
       "│ 2602       ┆ Daniel ┆ 376A E     ┆ Manhattan, ┆ … ┆ 516-638-9 ┆ America/N ┆ 40.77864 ┆ -73.94972 │\n",
       "│            ┆ Wilson ┆ 89th St    ┆ NY 10128   ┆   ┆ 966       ┆ ew_York   ┆          ┆           │\n",
       "└────────────┴────────┴────────────┴────────────┴───┴───────────┴───────────┴──────────┴───────────┘"
      ]
     },
     "execution_count": 42,
     "metadata": {},
     "output_type": "execute_result"
    }
   ],
   "source": [
    "customers.pipe(the_collector)"
   ]
  },
  {
   "cell_type": "code",
   "execution_count": 43,
   "id": "0fb73292",
   "metadata": {
    "execution": {
     "iopub.execute_input": "2024-12-24T15:38:29.416036Z",
     "iopub.status.busy": "2024-12-24T15:38:29.415960Z",
     "iopub.status.idle": "2024-12-24T15:38:29.433349Z",
     "shell.execute_reply": "2024-12-24T15:38:29.433050Z"
    }
   },
   "outputs": [
    {
     "data": {
      "text/plain": [
       "'516-638-9966'"
      ]
     },
     "execution_count": 43,
     "metadata": {},
     "output_type": "execute_result"
    }
   ],
   "source": [
    "_.pipe(answer)"
   ]
  },
  {
   "cell_type": "markdown",
   "id": "7b74445f",
   "metadata": {},
   "source": [
    "## 9. Epilogue\n",
    "\n",
    "\"Oh yes, that magnificant Persian carpet! An absolute masterpiece, with a\n",
    "variety of interesting animals congregating around a Tree of Life. As a\n",
    "collector, I couldn't believe when it fell into my lap.\n",
    "\n",
    "\"A friend of mine had taken it off her brother's hands, and she didn't know\n",
    "what to do with it. I saw her one day, and she was about to put an old rug out\n",
    "at the curb. It looked like it had been through a lot, but it was remarkably\n",
    "not that dirty. It still took quite a bit of effort and no small amount of rug\n",
    "cleaner, but ultimately I managed to get the last bits of grime out of it.\n",
    "\n",
    "\"I actually live right down the street from Noah's Market--I'm a huge fan and\n",
    "I shop there all the time! I even have a one-of-a-kind scale model of Noah's\n",
    "Ark that makes a complete set of Noah's collectibles.\n",
    "\n",
    "\"I would love for Noah to have his rug once again to enjoy.\""
   ]
  },
  {
   "cell_type": "markdown",
   "id": "f4ad561c",
   "metadata": {},
   "source": [
    "![](tapestry.gif)"
   ]
  }
 ],
 "metadata": {
  "jupytext": {
   "cell_metadata_filter": "-all",
   "main_language": "python",
   "notebook_metadata_filter": "-all"
  },
  "language_info": {
   "codemirror_mode": {
    "name": "ipython",
    "version": 3
   },
   "file_extension": ".py",
   "mimetype": "text/x-python",
   "name": "python",
   "nbconvert_exporter": "python",
   "pygments_lexer": "ipython3",
   "version": "3.12.7"
  }
 },
 "nbformat": 4,
 "nbformat_minor": 5
}
