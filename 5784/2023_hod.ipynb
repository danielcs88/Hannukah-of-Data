{
 "cells": [
  {
   "cell_type": "code",
   "execution_count": 1,
   "id": "e968faa2",
   "metadata": {
    "execution": {
     "iopub.execute_input": "2023-12-10T20:39:24.923833Z",
     "iopub.status.busy": "2023-12-10T20:39:24.923529Z",
     "iopub.status.idle": "2023-12-10T20:39:24.932099Z",
     "shell.execute_reply": "2023-12-10T20:39:24.931581Z"
    }
   },
   "outputs": [],
   "source": [
    "# ruff: noqa: E402\n",
    "# pylint: disable=wrong-import-position missing-module-docstring invalid-name missing-function-docstring\n",
    "import os"
   ]
  },
  {
   "cell_type": "markdown",
   "id": "91839d3f",
   "metadata": {},
   "source": [
    "# Hanukkah of Data/5784\n",
    "\n",
    "## Noah’s Market\n",
    "\n",
    "Welcome to “Noah’s Market”, a bustling mom-and-pop everything store in\n",
    "Manhattan. In recent years it’s become quite an operation, but they’re still\n",
    "running on the same database your cousin Alex set up at the start of 2017.\n",
    "\n",
    "This morning, while waiting for your breakfast bagel, your Aunt Sarah pulled\n",
    "you aside in a hustle.\n",
    "\n",
    "“You know how Noah’s been talking recently about that rug we used to have?”\n",
    "\n",
    "She looked over at Noah, who was talking to a customer: “Such a beautiful\n",
    "carpet, with the most intricate design! I miss having it in my den. It has\n",
    "this vibrant beehive buzzing in the corner…”\n",
    "\n",
    "Sarah explained, “Noah entrusted me with that rug when he was remodeling his\n",
    "den a few years ago. It was so old and filthy, that I sent it to the cleaners,\n",
    "but then I completely forgot about it. Now, with Noah retiring and me taking\n",
    "over the store, he wants it back. So yesterday I freaked out and combed my\n",
    "apartment, and I finally found a claim ticket saying, ‘All items must be\n",
    "picked up within 90 days.’ At the cleaners, they didn’t have the rug, just the\n",
    "other half of the ticket.”\n",
    "\n",
    "Sarah added, “I need to find that rug before Noah comes over on the last night\n",
    "of Hanukkah. I have an idea but I need some help, and Alex will be busy for\n",
    "weeks doing those Advent of Code challenges.\n",
    "\n",
    "“Do you think you could help me track down the rug?”\n",
    "\n",
    "She hands you a [USB drive](https://hanukkah.bluebird.sh/5784/data) labeled\n",
    "“Noah’s Market Database Backup”.\n",
    "\n",
    "“Alex set up the backups to be password-protected. I can never remember the\n",
    "password itself, but it’s just the year in the Hebrew calendar when Alex set\n",
    "up the database.”\n",
    "\n",
    "What’s the password to open the .zip files on the USB drive?"
   ]
  },
  {
   "cell_type": "code",
   "execution_count": 2,
   "id": "9f3fbd4c",
   "metadata": {
    "execution": {
     "iopub.execute_input": "2023-12-10T20:39:24.935416Z",
     "iopub.status.busy": "2023-12-10T20:39:24.935190Z",
     "iopub.status.idle": "2023-12-10T20:39:24.939003Z",
     "shell.execute_reply": "2023-12-10T20:39:24.938360Z"
    }
   },
   "outputs": [
    {
     "name": "stdout",
     "output_type": "stream",
     "text": [
      "5777\n"
     ]
    }
   ],
   "source": [
    "password = 5783 - 6\n",
    "print(password)"
   ]
  },
  {
   "cell_type": "code",
   "execution_count": 3,
   "id": "75b9909e",
   "metadata": {
    "execution": {
     "iopub.execute_input": "2023-12-10T20:39:24.942431Z",
     "iopub.status.busy": "2023-12-10T20:39:24.942066Z",
     "iopub.status.idle": "2023-12-10T20:39:25.060555Z",
     "shell.execute_reply": "2023-12-10T20:39:25.060226Z"
    }
   },
   "outputs": [
    {
     "name": "stdout",
     "output_type": "stream",
     "text": [
      "Archive:  noahs-csv.zip\n",
      "   creating: 5784/\n",
      " extracting: 5784/noahs-customers.csv.zip  \n",
      "  inflating: 5784/noahs-orders.csv.zip  \n",
      "  inflating: 5784/noahs-orders_items.csv.zip  \n",
      "  inflating: 5784/noahs-products.csv.zip  \n"
     ]
    },
    {
     "data": {
      "text/plain": [
       "0"
      ]
     },
     "execution_count": 3,
     "metadata": {},
     "output_type": "execute_result"
    }
   ],
   "source": [
    "os.system(f\"unzip -P {password} noahs-csv\")"
   ]
  },
  {
   "cell_type": "markdown",
   "id": "0c285763",
   "metadata": {},
   "source": [
    "## 1. The Investigator\n",
    "\n",
    "Sarah brought a cashier over. She said, “Joe here says that one of our\n",
    "customers is a skilled private investigator.”\n",
    "\n",
    "Joe nodded, “They showed me their business card, and that’s what it said.\n",
    "Skilled Private Investigator. And their phone number was their last name\n",
    "spelled out. I didn’t know what that meant, but apparently before there were\n",
    "smartphones, people had to remember phone numbers or write them down. If you\n",
    "wanted a phone number that was easy-to-remember, you could get a number that\n",
    "spelled something using the letters printed on the phone buttons: like 2 has\n",
    "“ABC”, and 3 “DEF”, etc. And I guess this person had done that, so if you\n",
    "dialed the numbers corresponding to the letters in their name, it would call\n",
    "their phone number!\n",
    "\n",
    "“I thought that was pretty cool. But I don’t remember their name, or anything\n",
    "else about them for that matter. I couldn’t even tell you if they were male or\n",
    "female.”\n",
    "\n",
    "Sarah said, “This person seems like they are skilled at investigation. I need\n",
    "them to find Noah’s rug before the Hanukkah dinner. I don’t know how to\n",
    "contact them, but apparently they shop here at Noah’s Market.”\n",
    "\n",
    "She nodded at the [USB drive](https://hanukkah.bluebird.sh/5784/data) in your\n",
    "hand.\n",
    "\n",
    "“Can you find this investigator’s phone number?”"
   ]
  },
  {
   "cell_type": "code",
   "execution_count": 4,
   "id": "078c4185",
   "metadata": {
    "execution": {
     "iopub.execute_input": "2023-12-10T20:39:25.062313Z",
     "iopub.status.busy": "2023-12-10T20:39:25.062196Z",
     "iopub.status.idle": "2023-12-10T20:39:25.064918Z",
     "shell.execute_reply": "2023-12-10T20:39:25.064658Z"
    }
   },
   "outputs": [],
   "source": [
    "from enum import Enum\n",
    "\n",
    "import numpy as np\n",
    "import pandas as pd\n",
    "import pyperclip\n",
    "from IPython.display import display"
   ]
  },
  {
   "cell_type": "code",
   "execution_count": 5,
   "id": "a95fab86",
   "metadata": {
    "execution": {
     "iopub.execute_input": "2023-12-10T20:39:25.066517Z",
     "iopub.status.busy": "2023-12-10T20:39:25.066380Z",
     "iopub.status.idle": "2023-12-10T20:39:25.405709Z",
     "shell.execute_reply": "2023-12-10T20:39:25.405425Z"
    }
   },
   "outputs": [],
   "source": [
    "customers = pd.read_csv(\"5784/noahs-customers.csv.zip\", parse_dates=[\"birthdate\"])\n",
    "orders = pd.read_csv(\"5784/noahs-orders.csv.zip\", parse_dates=[\"ordered\", \"shipped\"])\n",
    "orders_items = pd.read_csv(\"5784/noahs-orders_items.csv.zip\")\n",
    "products = pd.read_csv(\"5784/noahs-products.csv.zip\")"
   ]
  },
  {
   "cell_type": "code",
   "execution_count": 6,
   "id": "eb27310f",
   "metadata": {
    "execution": {
     "iopub.execute_input": "2023-12-10T20:39:25.407460Z",
     "iopub.status.busy": "2023-12-10T20:39:25.407369Z",
     "iopub.status.idle": "2023-12-10T20:39:25.414320Z",
     "shell.execute_reply": "2023-12-10T20:39:25.414060Z"
    }
   },
   "outputs": [
    {
     "data": {
      "text/plain": [
       "0"
      ]
     },
     "execution_count": 6,
     "metadata": {},
     "output_type": "execute_result"
    }
   ],
   "source": [
    "os.system(\"rm -rf 5784\")"
   ]
  },
  {
   "cell_type": "code",
   "execution_count": 7,
   "id": "ed208232",
   "metadata": {
    "execution": {
     "iopub.execute_input": "2023-12-10T20:39:25.415937Z",
     "iopub.status.busy": "2023-12-10T20:39:25.415829Z",
     "iopub.status.idle": "2023-12-10T20:39:25.417896Z",
     "shell.execute_reply": "2023-12-10T20:39:25.417668Z"
    }
   },
   "outputs": [],
   "source": [
    "def answer(df: pd.DataFrame | pd.Series) -> str:\n",
    "    r\"\"\"\n",
    "    Returns answer, in this case, the phone number and copies to clipboard.\n",
    "\n",
    "    Parameters\n",
    "    ----------\n",
    "    df : Union[pd.DataFrame, pd.Series]\n",
    "\n",
    "    Returns\n",
    "    -------\n",
    "    str\n",
    "    \"\"\"\n",
    "    result = df[\"phone\"].unique()[0]\n",
    "    pyperclip.copy(result)\n",
    "    return result"
   ]
  },
  {
   "cell_type": "code",
   "execution_count": 8,
   "id": "a3803d7d",
   "metadata": {
    "execution": {
     "iopub.execute_input": "2023-12-10T20:39:25.419297Z",
     "iopub.status.busy": "2023-12-10T20:39:25.419206Z",
     "iopub.status.idle": "2023-12-10T20:39:25.421646Z",
     "shell.execute_reply": "2023-12-10T20:39:25.421379Z"
    }
   },
   "outputs": [],
   "source": [
    "def translate_char_to_phone_num(char: str) -> int:\n",
    "    r\"\"\"\n",
    "    Translate characters to phone number.\n",
    "\n",
    "    Parameters\n",
    "    ----------\n",
    "    chr : str\n",
    "\n",
    "    Returns\n",
    "    -------\n",
    "    int\n",
    "    \"\"\"\n",
    "    match char:\n",
    "        case \"a\" | \"b\" | \"c\":\n",
    "            digit = 2\n",
    "        case \"d\" | \"e\" | \"f\":\n",
    "            digit = 3\n",
    "        case \"g\" | \"h\" | \"i\":\n",
    "            digit = 4\n",
    "        case \"j\" | \"k\" | \"l\":\n",
    "            digit = 5\n",
    "        case \"m\" | \"n\" | \"o\":\n",
    "            digit = 6\n",
    "        case \"p\" | \"q\" | \"r\" | \"s\":\n",
    "            digit = 7\n",
    "        case \"t\" | \"u\" | \"v\":\n",
    "            digit = 8\n",
    "        case \"w\" | \"x\" | \"y\" | \"z\":\n",
    "            digit = 9\n",
    "    return digit"
   ]
  },
  {
   "cell_type": "code",
   "execution_count": 9,
   "id": "326ab795",
   "metadata": {
    "execution": {
     "iopub.execute_input": "2023-12-10T20:39:25.423458Z",
     "iopub.status.busy": "2023-12-10T20:39:25.423335Z",
     "iopub.status.idle": "2023-12-10T20:39:25.426575Z",
     "shell.execute_reply": "2023-12-10T20:39:25.426265Z"
    }
   },
   "outputs": [],
   "source": [
    "def one_the_investigator(df: pd.DataFrame) -> pd.DataFrame:\n",
    "    return (\n",
    "        df.loc[~df[\"name\"].str.endswith((\"II\", \"III\", \"IV\", \"Jr.\"))]\n",
    "        .assign(\n",
    "            last_name=df[\"name\"].str.split().str[-1].str.lower(),\n",
    "            last_name_len=lambda d: d[\"last_name\"].str.len(),\n",
    "        )\n",
    "        .query(\"last_name_len == 10\")\n",
    "        .assign(\n",
    "            name_char=lambda df: df[\"last_name\"].map(list),\n",
    "            phone_num=lambda df: df[\"name_char\"].map(\n",
    "                lambda _: \"\".join([str(translate_char_to_phone_num(x)) for x in _])\n",
    "            ),\n",
    "            test=lambda d: (\n",
    "                d[\"phone_num\"].str.slice(stop=3)\n",
    "                + \"-\"\n",
    "                + d[\"phone_num\"].str.slice(start=3, stop=6)\n",
    "                + \"-\"\n",
    "                + d[\"phone_num\"].str.slice(start=6)\n",
    "            ),\n",
    "        )\n",
    "        .loc[lambda d: d[\"phone\"] == d[\"test\"], customers.columns]\n",
    "        .set_index(\"customerid\")\n",
    "    )"
   ]
  },
  {
   "cell_type": "code",
   "execution_count": 10,
   "id": "13bc9454",
   "metadata": {
    "execution": {
     "iopub.execute_input": "2023-12-10T20:39:25.428100Z",
     "iopub.status.busy": "2023-12-10T20:39:25.428009Z",
     "iopub.status.idle": "2023-12-10T20:39:25.446226Z",
     "shell.execute_reply": "2023-12-10T20:39:25.445950Z"
    }
   },
   "outputs": [
    {
     "data": {
      "text/html": [
       "<div>\n",
       "<style scoped>\n",
       "    .dataframe tbody tr th:only-of-type {\n",
       "        vertical-align: middle;\n",
       "    }\n",
       "\n",
       "    .dataframe tbody tr th {\n",
       "        vertical-align: top;\n",
       "    }\n",
       "\n",
       "    .dataframe thead th {\n",
       "        text-align: right;\n",
       "    }\n",
       "</style>\n",
       "<table border=\"1\" class=\"dataframe\">\n",
       "  <thead>\n",
       "    <tr style=\"text-align: right;\">\n",
       "      <th></th>\n",
       "      <th>name</th>\n",
       "      <th>address</th>\n",
       "      <th>citystatezip</th>\n",
       "      <th>birthdate</th>\n",
       "      <th>phone</th>\n",
       "      <th>timezone</th>\n",
       "      <th>lat</th>\n",
       "      <th>long</th>\n",
       "    </tr>\n",
       "    <tr>\n",
       "      <th>customerid</th>\n",
       "      <th></th>\n",
       "      <th></th>\n",
       "      <th></th>\n",
       "      <th></th>\n",
       "      <th></th>\n",
       "      <th></th>\n",
       "      <th></th>\n",
       "      <th></th>\n",
       "    </tr>\n",
       "  </thead>\n",
       "  <tbody>\n",
       "    <tr>\n",
       "      <th>1208</th>\n",
       "      <td>Sam Tannenbaum</td>\n",
       "      <td>221 Banker St</td>\n",
       "      <td>Brooklyn, NY 11222</td>\n",
       "      <td>1994-09-13</td>\n",
       "      <td>826-636-2286</td>\n",
       "      <td>America/New_York</td>\n",
       "      <td>40.7257</td>\n",
       "      <td>-73.9555</td>\n",
       "    </tr>\n",
       "  </tbody>\n",
       "</table>\n",
       "</div>"
      ],
      "text/plain": [
       "                      name        address        citystatezip  birthdate  \\\n",
       "customerid                                                                 \n",
       "1208        Sam Tannenbaum  221 Banker St  Brooklyn, NY 11222 1994-09-13   \n",
       "\n",
       "                   phone          timezone      lat     long  \n",
       "customerid                                                    \n",
       "1208        826-636-2286  America/New_York  40.7257 -73.9555  "
      ]
     },
     "execution_count": 10,
     "metadata": {},
     "output_type": "execute_result"
    }
   ],
   "source": [
    "customers.pipe(one_the_investigator)"
   ]
  },
  {
   "cell_type": "code",
   "execution_count": 11,
   "id": "da2ba69b",
   "metadata": {
    "execution": {
     "iopub.execute_input": "2023-12-10T20:39:25.448001Z",
     "iopub.status.busy": "2023-12-10T20:39:25.447896Z",
     "iopub.status.idle": "2023-12-10T20:39:25.480994Z",
     "shell.execute_reply": "2023-12-10T20:39:25.480517Z"
    }
   },
   "outputs": [
    {
     "name": "stdout",
     "output_type": "stream",
     "text": [
      "826-636-2286\n"
     ]
    }
   ],
   "source": [
    "print(customers.pipe(one_the_investigator).pipe(answer))"
   ]
  },
  {
   "cell_type": "markdown",
   "id": "acf396f0",
   "metadata": {
    "lines_to_next_cell": 2
   },
   "source": [
    "## 2. The Contractor\n",
    "\n",
    "Thanks to your help, Sarah called the investigator that afternoon. The\n",
    "investigator went directly to the cleaners to see if they could get any more\n",
    "information about the unclaimed rug.\n",
    "\n",
    "While they were out, Sarah said, “I tried cleaning the rug myself, but there\n",
    "was this snail on it that always seemed to leave a trail of slime behind it. I\n",
    "spent a few hours cleaning it, and the next day the slime trail was back.”\n",
    "\n",
    "When the investigator returned, they said, “Apparently, this cleaner had a\n",
    "special projects program, where they outsourced challenging cleaning projects\n",
    "to industrious contractors. As they’re right across the street from Noah’s,\n",
    "they usually talked about the project over coffee and bagels at Noah’s before\n",
    "handing off the item to be cleaned. The contractors would pick up the tab and\n",
    "expense it, along with their cleaning supplies.\n",
    "\n",
    "“So this rug was apparently one of those special projects. The claim ticket\n",
    "said ‘2017 JP’. ‘2017’ is the year the item was brought in, and ‘JP’ is the\n",
    "initials of the contractor.\n",
    "\n",
    "“But they stopped outsourcing a few years ago, and don’t have contact\n",
    "information for any of these workers anymore.”\n",
    "\n",
    "Sarah first seemed hopeless, and then glanced at the [USB\n",
    "drive](https://hanukkah.bluebird.sh/5784/data) you had just put back in her\n",
    "hand. She said, “I know it’s a long shot, but is there any chance you could\n",
    "find their phone number?”"
   ]
  },
  {
   "cell_type": "code",
   "execution_count": 12,
   "id": "f06e7794",
   "metadata": {
    "execution": {
     "iopub.execute_input": "2023-12-10T20:39:25.483019Z",
     "iopub.status.busy": "2023-12-10T20:39:25.482873Z",
     "iopub.status.idle": "2023-12-10T20:39:25.486230Z",
     "shell.execute_reply": "2023-12-10T20:39:25.485966Z"
    }
   },
   "outputs": [],
   "source": [
    "def two_the_contractor(\n",
    "    customers_df: pd.DataFrame = customers,\n",
    "    orders_df: pd.DataFrame = orders,\n",
    "    orders_items_df: pd.DataFrame = orders_items,\n",
    "    products_df: pd.DataFrame = products,\n",
    ") -> pd.DataFrame:\n",
    "    return (\n",
    "        (\n",
    "            customers_df.replace([\" II\", \" III\", \" IV\", \" Jr.\"], \"\")\n",
    "            .assign(\n",
    "                initials=(\n",
    "                    customers_df[\"name\"].str.split(\" \").str[0].str[0]\n",
    "                    + customers_df[\"name\"].str.split(\" \").str[-1].str[0]\n",
    "                )\n",
    "            )\n",
    "            .merge(orders_df.set_index(\"ordered\").loc[\"2017\"], on=\"customerid\")\n",
    "            .query('initials == \"JP\"')\n",
    "            .merge(orders_items_df, on=\"orderid\")\n",
    "            .merge(\n",
    "                products_df.loc[\n",
    "                    products[\"desc\"].str.lower().str.contains(\"coffee, drip|bagel\")\n",
    "                ],\n",
    "                on=\"sku\",\n",
    "            )\n",
    "            .filter(customers.columns)\n",
    "        )\n",
    "        .drop_duplicates()\n",
    "        .set_index(\"customerid\")\n",
    "    )"
   ]
  },
  {
   "cell_type": "code",
   "execution_count": 13,
   "id": "b33a2278",
   "metadata": {
    "execution": {
     "iopub.execute_input": "2023-12-10T20:39:25.487712Z",
     "iopub.status.busy": "2023-12-10T20:39:25.487624Z",
     "iopub.status.idle": "2023-12-10T20:39:25.555342Z",
     "shell.execute_reply": "2023-12-10T20:39:25.555048Z"
    }
   },
   "outputs": [
    {
     "data": {
      "text/html": [
       "<div>\n",
       "<style scoped>\n",
       "    .dataframe tbody tr th:only-of-type {\n",
       "        vertical-align: middle;\n",
       "    }\n",
       "\n",
       "    .dataframe tbody tr th {\n",
       "        vertical-align: top;\n",
       "    }\n",
       "\n",
       "    .dataframe thead th {\n",
       "        text-align: right;\n",
       "    }\n",
       "</style>\n",
       "<table border=\"1\" class=\"dataframe\">\n",
       "  <thead>\n",
       "    <tr style=\"text-align: right;\">\n",
       "      <th></th>\n",
       "      <th>name</th>\n",
       "      <th>address</th>\n",
       "      <th>citystatezip</th>\n",
       "      <th>birthdate</th>\n",
       "      <th>phone</th>\n",
       "      <th>timezone</th>\n",
       "      <th>lat</th>\n",
       "      <th>long</th>\n",
       "    </tr>\n",
       "    <tr>\n",
       "      <th>customerid</th>\n",
       "      <th></th>\n",
       "      <th></th>\n",
       "      <th></th>\n",
       "      <th></th>\n",
       "      <th></th>\n",
       "      <th></th>\n",
       "      <th></th>\n",
       "      <th></th>\n",
       "    </tr>\n",
       "  </thead>\n",
       "  <tbody>\n",
       "    <tr>\n",
       "      <th>1475</th>\n",
       "      <td>Joshua Peterson</td>\n",
       "      <td>100-75 148th St</td>\n",
       "      <td>Jamaica, NY 11435</td>\n",
       "      <td>1947-02-05</td>\n",
       "      <td>332-274-4185</td>\n",
       "      <td>America/New_York</td>\n",
       "      <td>40.70895</td>\n",
       "      <td>-73.80856</td>\n",
       "    </tr>\n",
       "  </tbody>\n",
       "</table>\n",
       "</div>"
      ],
      "text/plain": [
       "                       name          address       citystatezip  birthdate  \\\n",
       "customerid                                                                   \n",
       "1475        Joshua Peterson  100-75 148th St  Jamaica, NY 11435 1947-02-05   \n",
       "\n",
       "                   phone          timezone       lat      long  \n",
       "customerid                                                      \n",
       "1475        332-274-4185  America/New_York  40.70895 -73.80856  "
      ]
     },
     "metadata": {},
     "output_type": "display_data"
    }
   ],
   "source": [
    "two_the_contractor().pipe(display)"
   ]
  },
  {
   "cell_type": "code",
   "execution_count": 14,
   "id": "1ba23c7d",
   "metadata": {
    "execution": {
     "iopub.execute_input": "2023-12-10T20:39:25.557154Z",
     "iopub.status.busy": "2023-12-10T20:39:25.557020Z",
     "iopub.status.idle": "2023-12-10T20:39:25.637955Z",
     "shell.execute_reply": "2023-12-10T20:39:25.637527Z"
    }
   },
   "outputs": [
    {
     "data": {
      "text/plain": [
       "'332-274-4185'"
      ]
     },
     "execution_count": 14,
     "metadata": {},
     "output_type": "execute_result"
    }
   ],
   "source": [
    "two_the_contractor().pipe(answer)"
   ]
  },
  {
   "cell_type": "markdown",
   "id": "39d60fa1",
   "metadata": {},
   "source": [
    "## 3. The Neighbor\n",
    "\n",
    "Sarah and the investigator were very impressed with your data skills, as you\n",
    "were able to figure out the phone number of the contractor. They called up the\n",
    "cleaning contractor straight away and asked about the rug.\n",
    "\n",
    "“Oh, yeah, I did some special projects for them a few years ago. I remember\n",
    "that rug unfortunately. I managed to clean one section, which revealed a giant\n",
    "spider that startled me whenever I tried to work on it.\n",
    "\n",
    "“I already had a fear of spiders before this, but this spider was so realistic\n",
    "that I had a hard time making any more progress. I kept expecting the cleaners\n",
    "would call for the rug, but they never did. I felt so bad about it, I couldn’t\n",
    "face them, and of course they never gave me another project.\n",
    "\n",
    "“At last I couldn’t deal with the rug taking up my whole bathtub, so I gave it\n",
    "to this guy who lived in my neighborhood. He said that he was naturally\n",
    "intuitive because he was a Cancer born in the year of the Rabbit, so maybe he\n",
    "was able to clean it.\n",
    "\n",
    "“I don’t remember his name. Last time I saw him, he was leaving the subway and\n",
    "carrying a bag from Noah’s. I swore I saw a spider on his hat.”\n",
    "\n",
    "Can you find the phone number of the person that the contractor gave the rug\n",
    "to?"
   ]
  },
  {
   "cell_type": "code",
   "execution_count": 15,
   "id": "36d2c079",
   "metadata": {
    "execution": {
     "iopub.execute_input": "2023-12-10T20:39:25.639939Z",
     "iopub.status.busy": "2023-12-10T20:39:25.639792Z",
     "iopub.status.idle": "2023-12-10T20:39:25.641698Z",
     "shell.execute_reply": "2023-12-10T20:39:25.641465Z"
    }
   },
   "outputs": [],
   "source": [
    "ZODIAC_LINK = \"https://en.wikipedia.org/wiki/Astrological_sign\""
   ]
  },
  {
   "cell_type": "code",
   "execution_count": 16,
   "id": "e735c3d2",
   "metadata": {
    "execution": {
     "iopub.execute_input": "2023-12-10T20:39:25.643161Z",
     "iopub.status.busy": "2023-12-10T20:39:25.643065Z",
     "iopub.status.idle": "2023-12-10T20:39:25.983329Z",
     "shell.execute_reply": "2023-12-10T20:39:25.982773Z"
    }
   },
   "outputs": [],
   "source": [
    "zodiac = pd.read_html(ZODIAC_LINK)[0]"
   ]
  },
  {
   "cell_type": "code",
   "execution_count": 17,
   "id": "f31ef22c",
   "metadata": {
    "execution": {
     "iopub.execute_input": "2023-12-10T20:39:25.986054Z",
     "iopub.status.busy": "2023-12-10T20:39:25.985819Z",
     "iopub.status.idle": "2023-12-10T20:39:25.994406Z",
     "shell.execute_reply": "2023-12-10T20:39:25.994095Z"
    }
   },
   "outputs": [
    {
     "data": {
      "text/html": [
       "<div>\n",
       "<style scoped>\n",
       "    .dataframe tbody tr th:only-of-type {\n",
       "        vertical-align: middle;\n",
       "    }\n",
       "\n",
       "    .dataframe tbody tr th {\n",
       "        vertical-align: top;\n",
       "    }\n",
       "\n",
       "    .dataframe thead th {\n",
       "        text-align: right;\n",
       "    }\n",
       "</style>\n",
       "<table border=\"1\" class=\"dataframe\">\n",
       "  <thead>\n",
       "    <tr style=\"text-align: right;\">\n",
       "      <th></th>\n",
       "      <th>Sign</th>\n",
       "      <th>Gloss</th>\n",
       "      <th>Symbol</th>\n",
       "      <th>Unicode Character</th>\n",
       "      <th>Approximate Sun Sign Start Dates[11]</th>\n",
       "      <th>Approximate Sun Sign End Dates[11]</th>\n",
       "      <th>Ecliptic Longitude (a ≤ λ &lt; b)</th>\n",
       "      <th>House</th>\n",
       "      <th>Polarity</th>\n",
       "      <th>Modality</th>\n",
       "      <th>Triplicity</th>\n",
       "      <th>Northern Hemisphere Season</th>\n",
       "      <th>Southern Hemisphere Season</th>\n",
       "      <th>Modern Ruler</th>\n",
       "      <th>Classic Ruler</th>\n",
       "    </tr>\n",
       "  </thead>\n",
       "  <tbody>\n",
       "    <tr>\n",
       "      <th>0</th>\n",
       "      <td>Aries</td>\n",
       "      <td>The Ram</td>\n",
       "      <td>NaN</td>\n",
       "      <td>♈︎</td>\n",
       "      <td>21 March</td>\n",
       "      <td>20 April</td>\n",
       "      <td>0° to 30°</td>\n",
       "      <td>1</td>\n",
       "      <td>Positive</td>\n",
       "      <td>Cardinal</td>\n",
       "      <td>Fire</td>\n",
       "      <td>Spring</td>\n",
       "      <td>Autumn</td>\n",
       "      <td>Mars</td>\n",
       "      <td>Mars</td>\n",
       "    </tr>\n",
       "    <tr>\n",
       "      <th>1</th>\n",
       "      <td>Taurus</td>\n",
       "      <td>The Bull</td>\n",
       "      <td>NaN</td>\n",
       "      <td>♉︎</td>\n",
       "      <td>21 April</td>\n",
       "      <td>21 May</td>\n",
       "      <td>30° to 60°</td>\n",
       "      <td>2</td>\n",
       "      <td>Negative</td>\n",
       "      <td>Fixed</td>\n",
       "      <td>Earth</td>\n",
       "      <td>Spring</td>\n",
       "      <td>Autumn</td>\n",
       "      <td>Venus</td>\n",
       "      <td>Venus</td>\n",
       "    </tr>\n",
       "    <tr>\n",
       "      <th>2</th>\n",
       "      <td>Gemini</td>\n",
       "      <td>The Twins</td>\n",
       "      <td>NaN</td>\n",
       "      <td>♊︎</td>\n",
       "      <td>22 May</td>\n",
       "      <td>21 June</td>\n",
       "      <td>60° to 90°</td>\n",
       "      <td>3</td>\n",
       "      <td>Positive</td>\n",
       "      <td>Mutable</td>\n",
       "      <td>Air</td>\n",
       "      <td>Spring</td>\n",
       "      <td>Autumn</td>\n",
       "      <td>Mercury</td>\n",
       "      <td>Mercury</td>\n",
       "    </tr>\n",
       "    <tr>\n",
       "      <th>3</th>\n",
       "      <td>Cancer</td>\n",
       "      <td>The Crab</td>\n",
       "      <td>NaN</td>\n",
       "      <td>♋︎</td>\n",
       "      <td>22 June</td>\n",
       "      <td>23 July</td>\n",
       "      <td>90° to 120°</td>\n",
       "      <td>4</td>\n",
       "      <td>Negative</td>\n",
       "      <td>Cardinal</td>\n",
       "      <td>Water</td>\n",
       "      <td>Summer</td>\n",
       "      <td>Winter</td>\n",
       "      <td>Moon</td>\n",
       "      <td>Moon</td>\n",
       "    </tr>\n",
       "    <tr>\n",
       "      <th>4</th>\n",
       "      <td>Leo</td>\n",
       "      <td>The Lion</td>\n",
       "      <td>NaN</td>\n",
       "      <td>♌︎</td>\n",
       "      <td>24 July</td>\n",
       "      <td>23 August</td>\n",
       "      <td>120° to 150°</td>\n",
       "      <td>5</td>\n",
       "      <td>Positive</td>\n",
       "      <td>Fixed</td>\n",
       "      <td>Fire</td>\n",
       "      <td>Summer</td>\n",
       "      <td>Winter</td>\n",
       "      <td>Sun</td>\n",
       "      <td>Sun</td>\n",
       "    </tr>\n",
       "    <tr>\n",
       "      <th>5</th>\n",
       "      <td>Virgo</td>\n",
       "      <td>The Maiden</td>\n",
       "      <td>NaN</td>\n",
       "      <td>♍︎</td>\n",
       "      <td>24 August</td>\n",
       "      <td>23 September</td>\n",
       "      <td>150° to 180°</td>\n",
       "      <td>6</td>\n",
       "      <td>Negative</td>\n",
       "      <td>Mutable</td>\n",
       "      <td>Earth</td>\n",
       "      <td>Summer</td>\n",
       "      <td>Winter</td>\n",
       "      <td>Mercury</td>\n",
       "      <td>Mercury</td>\n",
       "    </tr>\n",
       "    <tr>\n",
       "      <th>6</th>\n",
       "      <td>Libra</td>\n",
       "      <td>The Scales</td>\n",
       "      <td>NaN</td>\n",
       "      <td>♎︎</td>\n",
       "      <td>24 September</td>\n",
       "      <td>23 October</td>\n",
       "      <td>180° to 210°</td>\n",
       "      <td>7</td>\n",
       "      <td>Positive</td>\n",
       "      <td>Cardinal</td>\n",
       "      <td>Air</td>\n",
       "      <td>Autumn</td>\n",
       "      <td>Spring</td>\n",
       "      <td>Venus</td>\n",
       "      <td>Venus</td>\n",
       "    </tr>\n",
       "    <tr>\n",
       "      <th>7</th>\n",
       "      <td>Scorpio</td>\n",
       "      <td>The Scorpion</td>\n",
       "      <td>NaN</td>\n",
       "      <td>♏︎</td>\n",
       "      <td>24 October</td>\n",
       "      <td>22 November</td>\n",
       "      <td>210° to 240°</td>\n",
       "      <td>8</td>\n",
       "      <td>Negative</td>\n",
       "      <td>Fixed</td>\n",
       "      <td>Water</td>\n",
       "      <td>Autumn</td>\n",
       "      <td>Spring</td>\n",
       "      <td>Pluto (or)</td>\n",
       "      <td>Mars</td>\n",
       "    </tr>\n",
       "    <tr>\n",
       "      <th>8</th>\n",
       "      <td>Sagittarius</td>\n",
       "      <td>The Archer (Centaur)</td>\n",
       "      <td>NaN</td>\n",
       "      <td>♐︎</td>\n",
       "      <td>23 November</td>\n",
       "      <td>21 December</td>\n",
       "      <td>240° to 270°</td>\n",
       "      <td>9</td>\n",
       "      <td>Positive</td>\n",
       "      <td>Mutable</td>\n",
       "      <td>Fire</td>\n",
       "      <td>Autumn</td>\n",
       "      <td>Spring</td>\n",
       "      <td>Jupiter</td>\n",
       "      <td>Jupiter</td>\n",
       "    </tr>\n",
       "    <tr>\n",
       "      <th>9</th>\n",
       "      <td>Capricorn</td>\n",
       "      <td>The Goat</td>\n",
       "      <td>NaN</td>\n",
       "      <td>♑︎</td>\n",
       "      <td>22 December</td>\n",
       "      <td>20 January</td>\n",
       "      <td>270° to 300°</td>\n",
       "      <td>10</td>\n",
       "      <td>Negative</td>\n",
       "      <td>Cardinal</td>\n",
       "      <td>Earth</td>\n",
       "      <td>Winter</td>\n",
       "      <td>Summer</td>\n",
       "      <td>Saturn</td>\n",
       "      <td>Saturn</td>\n",
       "    </tr>\n",
       "    <tr>\n",
       "      <th>10</th>\n",
       "      <td>Aquarius</td>\n",
       "      <td>The Water-bearer</td>\n",
       "      <td>NaN</td>\n",
       "      <td>♒︎</td>\n",
       "      <td>21 January</td>\n",
       "      <td>19 February</td>\n",
       "      <td>300° to 330°</td>\n",
       "      <td>11</td>\n",
       "      <td>Positive</td>\n",
       "      <td>Fixed</td>\n",
       "      <td>Air</td>\n",
       "      <td>Winter</td>\n",
       "      <td>Summer</td>\n",
       "      <td>Uranus</td>\n",
       "      <td>Saturn</td>\n",
       "    </tr>\n",
       "    <tr>\n",
       "      <th>11</th>\n",
       "      <td>Pisces</td>\n",
       "      <td>The Fish</td>\n",
       "      <td>NaN</td>\n",
       "      <td>♓︎</td>\n",
       "      <td>20 February</td>\n",
       "      <td>20 March</td>\n",
       "      <td>330° to 360°</td>\n",
       "      <td>12</td>\n",
       "      <td>Negative</td>\n",
       "      <td>Mutable</td>\n",
       "      <td>Water</td>\n",
       "      <td>Winter</td>\n",
       "      <td>Summer</td>\n",
       "      <td>Neptune</td>\n",
       "      <td>Jupiter</td>\n",
       "    </tr>\n",
       "  </tbody>\n",
       "</table>\n",
       "</div>"
      ],
      "text/plain": [
       "           Sign                 Gloss  Symbol Unicode Character  \\\n",
       "0         Aries               The Ram     NaN                ♈︎   \n",
       "1        Taurus              The Bull     NaN                ♉︎   \n",
       "2        Gemini             The Twins     NaN                ♊︎   \n",
       "3        Cancer              The Crab     NaN                ♋︎   \n",
       "4           Leo              The Lion     NaN                ♌︎   \n",
       "5         Virgo            The Maiden     NaN                ♍︎   \n",
       "6         Libra            The Scales     NaN                ♎︎   \n",
       "7       Scorpio          The Scorpion     NaN                ♏︎   \n",
       "8   Sagittarius  The Archer (Centaur)     NaN                ♐︎   \n",
       "9     Capricorn              The Goat     NaN                ♑︎   \n",
       "10     Aquarius      The Water-bearer     NaN                ♒︎   \n",
       "11       Pisces              The Fish     NaN                ♓︎   \n",
       "\n",
       "   Approximate Sun Sign Start Dates[11] Approximate Sun Sign End Dates[11]  \\\n",
       "0                              21 March                           20 April   \n",
       "1                              21 April                             21 May   \n",
       "2                                22 May                            21 June   \n",
       "3                               22 June                            23 July   \n",
       "4                               24 July                          23 August   \n",
       "5                             24 August                       23 September   \n",
       "6                          24 September                         23 October   \n",
       "7                            24 October                        22 November   \n",
       "8                           23 November                        21 December   \n",
       "9                           22 December                         20 January   \n",
       "10                           21 January                        19 February   \n",
       "11                          20 February                           20 March   \n",
       "\n",
       "   Ecliptic Longitude (a ≤ λ < b)  House  Polarity  Modality Triplicity  \\\n",
       "0                       0° to 30°      1  Positive  Cardinal       Fire   \n",
       "1                      30° to 60°      2  Negative     Fixed      Earth   \n",
       "2                      60° to 90°      3  Positive   Mutable        Air   \n",
       "3                     90° to 120°      4  Negative  Cardinal      Water   \n",
       "4                    120° to 150°      5  Positive     Fixed       Fire   \n",
       "5                    150° to 180°      6  Negative   Mutable      Earth   \n",
       "6                    180° to 210°      7  Positive  Cardinal        Air   \n",
       "7                    210° to 240°      8  Negative     Fixed      Water   \n",
       "8                    240° to 270°      9  Positive   Mutable       Fire   \n",
       "9                    270° to 300°     10  Negative  Cardinal      Earth   \n",
       "10                   300° to 330°     11  Positive     Fixed        Air   \n",
       "11                   330° to 360°     12  Negative   Mutable      Water   \n",
       "\n",
       "   Northern Hemisphere Season Southern Hemisphere Season Modern Ruler  \\\n",
       "0                      Spring                     Autumn         Mars   \n",
       "1                      Spring                     Autumn        Venus   \n",
       "2                      Spring                     Autumn      Mercury   \n",
       "3                      Summer                     Winter         Moon   \n",
       "4                      Summer                     Winter          Sun   \n",
       "5                      Summer                     Winter      Mercury   \n",
       "6                      Autumn                     Spring        Venus   \n",
       "7                      Autumn                     Spring   Pluto (or)   \n",
       "8                      Autumn                     Spring      Jupiter   \n",
       "9                      Winter                     Summer       Saturn   \n",
       "10                     Winter                     Summer       Uranus   \n",
       "11                     Winter                     Summer      Neptune   \n",
       "\n",
       "   Classic Ruler  \n",
       "0           Mars  \n",
       "1          Venus  \n",
       "2        Mercury  \n",
       "3           Moon  \n",
       "4            Sun  \n",
       "5        Mercury  \n",
       "6          Venus  \n",
       "7           Mars  \n",
       "8        Jupiter  \n",
       "9         Saturn  \n",
       "10        Saturn  \n",
       "11       Jupiter  "
      ]
     },
     "metadata": {},
     "output_type": "display_data"
    }
   ],
   "source": [
    "display(zodiac)"
   ]
  },
  {
   "cell_type": "code",
   "execution_count": 18,
   "id": "0ecb187c",
   "metadata": {
    "execution": {
     "iopub.execute_input": "2023-12-10T20:39:25.996276Z",
     "iopub.status.busy": "2023-12-10T20:39:25.996143Z",
     "iopub.status.idle": "2023-12-10T20:39:25.998696Z",
     "shell.execute_reply": "2023-12-10T20:39:25.998380Z"
    }
   },
   "outputs": [],
   "source": [
    "class ZodiacSign(Enum):\n",
    "    \"\"\"\n",
    "    Represents the different zodiac signs.\n",
    "\n",
    "    Explanation\n",
    "    -----------\n",
    "    This class defines an enumeration of the twelve zodiac signs.\n",
    "    \"\"\"\n",
    "\n",
    "    Aries = \"Aries\"\n",
    "    Taurus = \"Taurus\"\n",
    "    Gemini = \"Gemini\"\n",
    "    Cancer = \"Cancer\"\n",
    "    Leo = \"Leo\"\n",
    "    Virgo = \"Virgo\"\n",
    "    Libra = \"Libra\"\n",
    "    Scorpio = \"Scorpio\"\n",
    "    Sagittarius = \"Sagittarius\"\n",
    "    Capricorn = \"Capricorn\"\n",
    "    Aquarius = \"Aquarius\"\n",
    "    Pisces = \"Pisces\""
   ]
  },
  {
   "cell_type": "code",
   "execution_count": 19,
   "id": "0f884723",
   "metadata": {
    "execution": {
     "iopub.execute_input": "2023-12-10T20:39:26.000387Z",
     "iopub.status.busy": "2023-12-10T20:39:26.000261Z",
     "iopub.status.idle": "2023-12-10T20:39:26.002830Z",
     "shell.execute_reply": "2023-12-10T20:39:26.002518Z"
    }
   },
   "outputs": [],
   "source": [
    "class ChineseZodiac(Enum):\n",
    "    \"\"\"\n",
    "    Represents the Chinese zodiac signs.\n",
    "\n",
    "    Explanation\n",
    "    -----------\n",
    "    This class defines an enumeration of the twelve Chinese zodiac signs and\n",
    "    return the respective Wikipedia link.\n",
    "    \"\"\"\n",
    "\n",
    "    Rat = \"https://en.wikipedia.org/wiki/Rat_(zodiac)\"\n",
    "    Ox = \"https://en.wikipedia.org/wiki/Ox_(zodiac)\"\n",
    "    Tiger = \"https://en.wikipedia.org/wiki/Tiger_(zodiac)\"\n",
    "    Rabbit = \"https://en.wikipedia.org/wiki/Rabbit_(zodiac)\"\n",
    "    Dragon = \"https://en.wikipedia.org/wiki/Dragon_(zodiac)\"\n",
    "    Snake = \"https://en.wikipedia.org/wiki/Snake_(zodiac)\"\n",
    "    Horse = \"https://en.wikipedia.org/wiki/Horse_(zodiac)\"\n",
    "    Goat = \"https://en.wikipedia.org/wiki/Goat_(zodiac)\"\n",
    "    Monkey = \"https://en.wikipedia.org/wiki/Monkey_(zodiac)\"\n",
    "    Rooster = \"https://en.wikipedia.org/wiki/Rooster_(zodiac)\"\n",
    "    Dog = \"https://en.wikipedia.org/wiki/Dog_(zodiac)\"\n",
    "    Pig = \"https://en.wikipedia.org/wiki/Pig_(zodiac)\""
   ]
  },
  {
   "cell_type": "code",
   "execution_count": 20,
   "id": "6cad9cb0",
   "metadata": {
    "execution": {
     "iopub.execute_input": "2023-12-10T20:39:26.004507Z",
     "iopub.status.busy": "2023-12-10T20:39:26.004382Z",
     "iopub.status.idle": "2023-12-10T20:39:26.007401Z",
     "shell.execute_reply": "2023-12-10T20:39:26.007108Z"
    }
   },
   "outputs": [],
   "source": [
    "def zodiac_characteristics(\n",
    "    df: pd.DataFrame = zodiac, zodiac_sign: ZodiacSign = ZodiacSign.Cancer\n",
    ") -> dict[str, list[str | int]]:\n",
    "    \"\"\"\n",
    "    Extracts zodiac characteristics from a DataFrame based on the specified\n",
    "    zodiac sign.\n",
    "\n",
    "    Parameters\n",
    "    ----------\n",
    "    df : pd.DataFrame, optional\n",
    "        The DataFrame containing zodiac information. By default, uses a\n",
    "        predefined zodiac DataFrame.\n",
    "    zodiac_sign : ZodiacSign, optional\n",
    "        The zodiac sign for which characteristics are extracted. By default,\n",
    "        uses ZodiacSign.Cancer.\n",
    "\n",
    "    Returns\n",
    "    -------\n",
    "    dict[str, list[str | int]]\n",
    "        A dictionary containing zodiac characteristics:\n",
    "        - 'dates': List of date strings.\n",
    "        - 'month': List of month values.\n",
    "        - 'days': List of day values.\n",
    "    \"\"\"\n",
    "    return (\n",
    "        (df.loc[df[\"Sign\"] == zodiac_sign.value].filter(like=\"Sun\", axis=1).T)\n",
    "        .set_axis([\"dates\"], axis=\"columns\")\n",
    "        .assign(\n",
    "            timestamp_fmt=lambda d: pd.to_datetime(d[\"dates\"], format=\"%d %B\"),\n",
    "            month=lambda d: d[\"timestamp_fmt\"].dt.month,\n",
    "            days=lambda d: d[\"timestamp_fmt\"].dt.day,\n",
    "        )\n",
    "        .filter(regex=\"^(?!.*timestamp).*$\")\n",
    "        .to_dict(\"list\")\n",
    "    )"
   ]
  },
  {
   "cell_type": "code",
   "execution_count": 21,
   "id": "7e56f7c5",
   "metadata": {
    "execution": {
     "iopub.execute_input": "2023-12-10T20:39:26.008944Z",
     "iopub.status.busy": "2023-12-10T20:39:26.008854Z",
     "iopub.status.idle": "2023-12-10T20:39:26.013965Z",
     "shell.execute_reply": "2023-12-10T20:39:26.013680Z"
    }
   },
   "outputs": [
    {
     "data": {
      "text/plain": [
       "{'dates': ['23 November', '21 December'], 'month': [11, 12], 'days': [23, 21]}"
      ]
     },
     "execution_count": 21,
     "metadata": {},
     "output_type": "execute_result"
    }
   ],
   "source": [
    "zodiac.pipe(zodiac_characteristics, ZodiacSign.Sagittarius)"
   ]
  },
  {
   "cell_type": "code",
   "execution_count": 22,
   "id": "26095400",
   "metadata": {
    "execution": {
     "iopub.execute_input": "2023-12-10T20:39:26.015597Z",
     "iopub.status.busy": "2023-12-10T20:39:26.015468Z",
     "iopub.status.idle": "2023-12-10T20:39:26.017950Z",
     "shell.execute_reply": "2023-12-10T20:39:26.017640Z"
    }
   },
   "outputs": [],
   "source": [
    "def chinese_sign_years(\n",
    "    df: pd.DataFrame = customers,\n",
    "    chinese_zodiac_animal: ChineseZodiac = ChineseZodiac.Rabbit,\n",
    ") -> set[int]:\n",
    "    \"\"\"\n",
    "    Retrieves the birth years of customers belonging to a specific Chinese\n",
    "    zodiac sign.\n",
    "\n",
    "    Parameters\n",
    "    ----------\n",
    "    df : pd.DataFrame, optional\n",
    "        The DataFrame containing customer information. By default, uses a\n",
    "        predefined 'customers' DataFrame.\n",
    "    chinese_zodiac_animal : ChineseZodiac, optional\n",
    "        The Chinese zodiac animal for which to retrieve birth years.\n",
    "        By default, uses the ChineseZodiac.Rabbit.\n",
    "\n",
    "    Returns\n",
    "    -------\n",
    "    set[int]\n",
    "        A set of birth years corresponding to customers with the specified\n",
    "        Chinese zodiac sign.\n",
    "    \"\"\"\n",
    "    return set(\n",
    "        pd.to_numeric(\n",
    "            pd.read_html(chinese_zodiac_animal.value)[2][\"Start date\"].str[-4:]\n",
    "        )\n",
    "    ) & set(df[\"birthdate\"].dt.year)"
   ]
  },
  {
   "cell_type": "code",
   "execution_count": 23,
   "id": "701dc8a7",
   "metadata": {
    "execution": {
     "iopub.execute_input": "2023-12-10T20:39:26.019663Z",
     "iopub.status.busy": "2023-12-10T20:39:26.019528Z",
     "iopub.status.idle": "2023-12-10T20:39:26.284952Z",
     "shell.execute_reply": "2023-12-10T20:39:26.284465Z"
    }
   },
   "outputs": [
    {
     "data": {
      "text/plain": [
       "{1940, 1952, 1964, 1976, 1988, 2000}"
      ]
     },
     "execution_count": 23,
     "metadata": {},
     "output_type": "execute_result"
    }
   ],
   "source": [
    "chinese_sign_years(customers, ChineseZodiac.Dragon)"
   ]
  },
  {
   "cell_type": "code",
   "execution_count": 24,
   "id": "b84621de",
   "metadata": {
    "execution": {
     "iopub.execute_input": "2023-12-10T20:39:26.287215Z",
     "iopub.status.busy": "2023-12-10T20:39:26.287060Z",
     "iopub.status.idle": "2023-12-10T20:39:26.291934Z",
     "shell.execute_reply": "2023-12-10T20:39:26.291306Z"
    }
   },
   "outputs": [],
   "source": [
    "def western_astrology_with_chinese_dates(\n",
    "    western_astrology_sign: ZodiacSign = ZodiacSign.Cancer,\n",
    "    chinese_astrology_animal: ChineseZodiac = ChineseZodiac.Rabbit,\n",
    ") -> list[pd.Timestamp]:\n",
    "    \"\"\"\n",
    "    Retrieves a list of timestamps representing the overlapping periods between\n",
    "    Western astrology sign dates and Chinese astrology birth years.\n",
    "\n",
    "    Parameters\n",
    "    ----------\n",
    "    western_astrology_sign : ZodiacSign, optional\n",
    "        The Western astrology sign for which to retrieve overlapping dates.\n",
    "        By default, uses ZodiacSign.Cancer.\n",
    "    chinese_astrology_animal : ChineseZodiac, optional\n",
    "        The Chinese astrology animal for which to retrieve overlapping dates.\n",
    "        By default, uses ChineseZodiac.Rabbit.\n",
    "\n",
    "    Returns\n",
    "    -------\n",
    "    list[pd.Timestamp]\n",
    "        A list of timestamps representing the overlapping periods between the\n",
    "        specified Western astrology sign and Chinese astrology birth years.\n",
    "    \"\"\"\n",
    "\n",
    "    sign_dict: dict[str, list[str | int]] = zodiac_characteristics(\n",
    "        zodiac_sign=western_astrology_sign\n",
    "    )\n",
    "    animal_years: set[int] = chinese_sign_years(\n",
    "        chinese_zodiac_animal=chinese_astrology_animal\n",
    "    )\n",
    "\n",
    "    months: list[int] = sign_dict[\"month\"]\n",
    "    start_month, end_month = months\n",
    "\n",
    "    days: list[int] = sign_dict[\"days\"]\n",
    "    start_day, end_day = days\n",
    "\n",
    "    return [\n",
    "        pd.Period.to_timestamp(date)\n",
    "        for date in np.concatenate(\n",
    "            [\n",
    "                pd.period_range(\n",
    "                    start=pd.Timestamp(f\"{start_month}/{start_day}/{animal_year}\"),\n",
    "                    end=pd.Timestamp(f\"{end_month}/{end_day}/{animal_year}\"),\n",
    "                )\n",
    "                for animal_year in sorted(animal_years)\n",
    "            ],\n",
    "            axis=0,\n",
    "        )\n",
    "    ]"
   ]
  },
  {
   "cell_type": "code",
   "execution_count": 25,
   "id": "4efbdadb",
   "metadata": {
    "execution": {
     "iopub.execute_input": "2023-12-10T20:39:26.295041Z",
     "iopub.status.busy": "2023-12-10T20:39:26.294863Z",
     "iopub.status.idle": "2023-12-10T20:39:26.554912Z",
     "shell.execute_reply": "2023-12-10T20:39:26.554624Z"
    }
   },
   "outputs": [
    {
     "data": {
      "text/plain": [
       "0     1940-11-23\n",
       "1     1940-11-24\n",
       "2     1940-11-25\n",
       "3     1940-11-26\n",
       "4     1940-11-27\n",
       "         ...    \n",
       "169   2000-12-17\n",
       "170   2000-12-18\n",
       "171   2000-12-19\n",
       "172   2000-12-20\n",
       "173   2000-12-21\n",
       "Length: 174, dtype: datetime64[ns]"
      ]
     },
     "execution_count": 25,
     "metadata": {},
     "output_type": "execute_result"
    }
   ],
   "source": [
    "pd.Series(\n",
    "    western_astrology_with_chinese_dates(ZodiacSign.Sagittarius, ChineseZodiac.Dragon)\n",
    ")"
   ]
  },
  {
   "cell_type": "code",
   "execution_count": 26,
   "id": "2a9a9b4e",
   "metadata": {
    "execution": {
     "iopub.execute_input": "2023-12-10T20:39:26.556805Z",
     "iopub.status.busy": "2023-12-10T20:39:26.556681Z",
     "iopub.status.idle": "2023-12-10T20:39:26.559530Z",
     "shell.execute_reply": "2023-12-10T20:39:26.559164Z"
    }
   },
   "outputs": [],
   "source": [
    "def three_the_neighbor(\n",
    "    df: pd.DataFrame = customers,\n",
    "    western_astrology_sign: ZodiacSign = ZodiacSign.Cancer,\n",
    "    chinese_astrology_animal: ChineseZodiac = ChineseZodiac.Rabbit,\n",
    ") -> pd.DataFrame:\n",
    "    dates = western_astrology_with_chinese_dates(\n",
    "        western_astrology_sign, chinese_astrology_animal\n",
    "    )\n",
    "    the_contractor = two_the_contractor()\n",
    "    return (\n",
    "        df.loc[df[\"birthdate\"].isin(dates)]\n",
    "        .assign(\n",
    "            zip_code=lambda d: d[\"citystatezip\"].str[-5:],\n",
    "            neighbor=lambda d: d[\"zip_code\"]\n",
    "            == the_contractor[\"citystatezip\"].str[-5:].iloc[0],\n",
    "        )\n",
    "        .loc[lambda d: d[\"neighbor\"]]\n",
    "        .filter(df.columns)\n",
    "    )"
   ]
  },
  {
   "cell_type": "code",
   "execution_count": 27,
   "id": "c3452e76",
   "metadata": {
    "execution": {
     "iopub.execute_input": "2023-12-10T20:39:26.562014Z",
     "iopub.status.busy": "2023-12-10T20:39:26.561842Z",
     "iopub.status.idle": "2023-12-10T20:39:26.921840Z",
     "shell.execute_reply": "2023-12-10T20:39:26.921409Z"
    }
   },
   "outputs": [
    {
     "data": {
      "text/html": [
       "<div>\n",
       "<style scoped>\n",
       "    .dataframe tbody tr th:only-of-type {\n",
       "        vertical-align: middle;\n",
       "    }\n",
       "\n",
       "    .dataframe tbody tr th {\n",
       "        vertical-align: top;\n",
       "    }\n",
       "\n",
       "    .dataframe thead th {\n",
       "        text-align: right;\n",
       "    }\n",
       "</style>\n",
       "<table border=\"1\" class=\"dataframe\">\n",
       "  <thead>\n",
       "    <tr style=\"text-align: right;\">\n",
       "      <th></th>\n",
       "      <th>customerid</th>\n",
       "      <th>name</th>\n",
       "      <th>address</th>\n",
       "      <th>citystatezip</th>\n",
       "      <th>birthdate</th>\n",
       "      <th>phone</th>\n",
       "      <th>timezone</th>\n",
       "      <th>lat</th>\n",
       "      <th>long</th>\n",
       "    </tr>\n",
       "  </thead>\n",
       "  <tbody>\n",
       "    <tr>\n",
       "      <th>1549</th>\n",
       "      <td>2550</td>\n",
       "      <td>Robert Morton</td>\n",
       "      <td>145-51 107th Ave</td>\n",
       "      <td>Jamaica, NY 11435</td>\n",
       "      <td>1999-07-08</td>\n",
       "      <td>917-288-9635</td>\n",
       "      <td>America/New_York</td>\n",
       "      <td>40.68959</td>\n",
       "      <td>-73.80487</td>\n",
       "    </tr>\n",
       "  </tbody>\n",
       "</table>\n",
       "</div>"
      ],
      "text/plain": [
       "      customerid           name           address       citystatezip  \\\n",
       "1549        2550  Robert Morton  145-51 107th Ave  Jamaica, NY 11435   \n",
       "\n",
       "      birthdate         phone          timezone       lat      long  \n",
       "1549 1999-07-08  917-288-9635  America/New_York  40.68959 -73.80487  "
      ]
     },
     "metadata": {},
     "output_type": "display_data"
    }
   ],
   "source": [
    "customers.pipe(three_the_neighbor).pipe(display)"
   ]
  },
  {
   "cell_type": "code",
   "execution_count": 28,
   "id": "bb7afd26",
   "metadata": {
    "execution": {
     "iopub.execute_input": "2023-12-10T20:39:26.924026Z",
     "iopub.status.busy": "2023-12-10T20:39:26.923831Z",
     "iopub.status.idle": "2023-12-10T20:39:27.294249Z",
     "shell.execute_reply": "2023-12-10T20:39:27.293888Z"
    },
    "lines_to_next_cell": 2
   },
   "outputs": [
    {
     "data": {
      "text/plain": [
       "'917-288-9635'"
      ]
     },
     "execution_count": 28,
     "metadata": {},
     "output_type": "execute_result"
    }
   ],
   "source": [
    "customers.pipe(three_the_neighbor).pipe(answer)"
   ]
  },
  {
   "cell_type": "markdown",
   "id": "f04662f2",
   "metadata": {
    "lines_to_next_cell": 2
   },
   "source": [
    "## 4. The Early Bird\n",
    "\n",
    "The investigator called the phone number you found and left a message, and a\n",
    "man soon called back:\n",
    "\n",
    "“Wow, that was years ago! It was quite an elegant tapestry.\n",
    "\n",
    "“It took a lot of patience, but I did manage to get the dirt out of one\n",
    "section, which uncovered a superb owl. I put it up on my wall, and sometimes\n",
    "at night I swear I could hear the owl hooting.\n",
    "\n",
    "“A few weeks later my bike chain broke on the way home, and I needed to get it\n",
    "fixed before work the next day. Thankfully, this woman I met on Tinder came\n",
    "over at 5am with her bike chain repair kit and some pastries from Noah’s.\n",
    "Apparently she liked to get up before dawn and claim the first pastries that\n",
    "came out of the oven.\n",
    "\n",
    "“I didn’t have any money or I would’ve paid her for her trouble. She really\n",
    "liked the tapestry, though, so I wound up giving it to her.\n",
    "\n",
    "“I don’t remember her name or anything else about her.”\n",
    "\n",
    "Can you find the bicycle fixer’s phone number?"
   ]
  },
  {
   "cell_type": "code",
   "execution_count": 29,
   "id": "bb9198be",
   "metadata": {
    "execution": {
     "iopub.execute_input": "2023-12-10T20:39:27.296170Z",
     "iopub.status.busy": "2023-12-10T20:39:27.296024Z",
     "iopub.status.idle": "2023-12-10T20:39:27.298896Z",
     "shell.execute_reply": "2023-12-10T20:39:27.298535Z"
    }
   },
   "outputs": [],
   "source": [
    "def earlybird_customer_id(\n",
    "    orders_df: pd.DataFrame = orders, orders_items_df: pd.DataFrame = orders_items\n",
    ") -> int:\n",
    "    return (\n",
    "        orders_df.loc[\n",
    "            (orders_df[\"ordered\"].dt.hour < 5) & (orders_df[\"shipped\"].dt.hour < 5)\n",
    "        ]\n",
    "        .merge(orders_items_df, on=\"orderid\")\n",
    "        .loc[lambda d: (d[\"sku\"].str[:3] == \"BKY\") & (d[\"qty\"] > 1), \"customerid\"]\n",
    "        .mode()\n",
    "        .iloc[0]\n",
    "    )"
   ]
  },
  {
   "cell_type": "code",
   "execution_count": 30,
   "id": "821a5001",
   "metadata": {
    "execution": {
     "iopub.execute_input": "2023-12-10T20:39:27.300739Z",
     "iopub.status.busy": "2023-12-10T20:39:27.300628Z",
     "iopub.status.idle": "2023-12-10T20:39:27.335797Z",
     "shell.execute_reply": "2023-12-10T20:39:27.335365Z"
    }
   },
   "outputs": [
    {
     "data": {
      "text/plain": [
       "2749"
      ]
     },
     "execution_count": 30,
     "metadata": {},
     "output_type": "execute_result"
    }
   ],
   "source": [
    "earlybird_customer_id()"
   ]
  },
  {
   "cell_type": "code",
   "execution_count": 31,
   "id": "d8e32eb8",
   "metadata": {
    "execution": {
     "iopub.execute_input": "2023-12-10T20:39:27.338082Z",
     "iopub.status.busy": "2023-12-10T20:39:27.337932Z",
     "iopub.status.idle": "2023-12-10T20:39:27.340388Z",
     "shell.execute_reply": "2023-12-10T20:39:27.339967Z"
    }
   },
   "outputs": [],
   "source": [
    "def four_the_early_bird(customers_df: pd.DataFrame = customers) -> pd.DataFrame:\n",
    "    earlybird_customer: int = earlybird_customer_id()\n",
    "    return customers_df.loc[customers_df[\"customerid\"] == earlybird_customer]"
   ]
  },
  {
   "cell_type": "code",
   "execution_count": 32,
   "id": "7189dd8b",
   "metadata": {
    "execution": {
     "iopub.execute_input": "2023-12-10T20:39:27.342408Z",
     "iopub.status.busy": "2023-12-10T20:39:27.342281Z",
     "iopub.status.idle": "2023-12-10T20:39:27.379692Z",
     "shell.execute_reply": "2023-12-10T20:39:27.379364Z"
    }
   },
   "outputs": [
    {
     "data": {
      "text/html": [
       "<div>\n",
       "<style scoped>\n",
       "    .dataframe tbody tr th:only-of-type {\n",
       "        vertical-align: middle;\n",
       "    }\n",
       "\n",
       "    .dataframe tbody tr th {\n",
       "        vertical-align: top;\n",
       "    }\n",
       "\n",
       "    .dataframe thead th {\n",
       "        text-align: right;\n",
       "    }\n",
       "</style>\n",
       "<table border=\"1\" class=\"dataframe\">\n",
       "  <thead>\n",
       "    <tr style=\"text-align: right;\">\n",
       "      <th></th>\n",
       "      <th>customerid</th>\n",
       "      <th>name</th>\n",
       "      <th>address</th>\n",
       "      <th>citystatezip</th>\n",
       "      <th>birthdate</th>\n",
       "      <th>phone</th>\n",
       "      <th>timezone</th>\n",
       "      <th>lat</th>\n",
       "      <th>long</th>\n",
       "    </tr>\n",
       "  </thead>\n",
       "  <tbody>\n",
       "    <tr>\n",
       "      <th>1748</th>\n",
       "      <td>2749</td>\n",
       "      <td>Renee Harmon</td>\n",
       "      <td>7A Nassau Ave</td>\n",
       "      <td>Brooklyn, NY 11222</td>\n",
       "      <td>1999-01-14</td>\n",
       "      <td>607-231-3605</td>\n",
       "      <td>America/New_York</td>\n",
       "      <td>40.72347</td>\n",
       "      <td>-73.95097</td>\n",
       "    </tr>\n",
       "  </tbody>\n",
       "</table>\n",
       "</div>"
      ],
      "text/plain": [
       "      customerid          name        address        citystatezip  birthdate  \\\n",
       "1748        2749  Renee Harmon  7A Nassau Ave  Brooklyn, NY 11222 1999-01-14   \n",
       "\n",
       "             phone          timezone       lat      long  \n",
       "1748  607-231-3605  America/New_York  40.72347 -73.95097  "
      ]
     },
     "metadata": {},
     "output_type": "display_data"
    }
   ],
   "source": [
    "customers.pipe(four_the_early_bird).pipe(display)"
   ]
  },
  {
   "cell_type": "code",
   "execution_count": 33,
   "id": "35e7acb1",
   "metadata": {
    "execution": {
     "iopub.execute_input": "2023-12-10T20:39:27.381752Z",
     "iopub.status.busy": "2023-12-10T20:39:27.381559Z",
     "iopub.status.idle": "2023-12-10T20:39:27.436419Z",
     "shell.execute_reply": "2023-12-10T20:39:27.436025Z"
    }
   },
   "outputs": [
    {
     "data": {
      "text/plain": [
       "'607-231-3605'"
      ]
     },
     "execution_count": 33,
     "metadata": {},
     "output_type": "execute_result"
    }
   ],
   "source": [
    "customers.pipe(four_the_early_bird).pipe(answer)"
   ]
  }
 ],
 "metadata": {
  "jupytext": {
   "cell_metadata_filter": "-all",
   "main_language": "python",
   "notebook_metadata_filter": "-all"
  },
  "language_info": {
   "codemirror_mode": {
    "name": "ipython",
    "version": 3
   },
   "file_extension": ".py",
   "mimetype": "text/x-python",
   "name": "python",
   "nbconvert_exporter": "python",
   "pygments_lexer": "ipython3",
   "version": "3.10.13"
  }
 },
 "nbformat": 4,
 "nbformat_minor": 5
}
