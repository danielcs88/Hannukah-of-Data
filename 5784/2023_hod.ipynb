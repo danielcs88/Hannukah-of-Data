{
 "cells": [
  {
   "cell_type": "code",
   "execution_count": 1,
   "id": "15beaff7",
   "metadata": {
    "execution": {
     "iopub.execute_input": "2023-12-17T11:29:24.763854Z",
     "iopub.status.busy": "2023-12-17T11:29:24.763555Z",
     "iopub.status.idle": "2023-12-17T11:29:24.770850Z",
     "shell.execute_reply": "2023-12-17T11:29:24.770432Z"
    }
   },
   "outputs": [],
   "source": [
    "# ruff: noqa: E402\n",
    "# pylint: disable=wrong-import-position missing-module-docstring invalid-name missing-function-docstring too-many-lines\n",
    "import os"
   ]
  },
  {
   "cell_type": "markdown",
   "id": "a9d71adf",
   "metadata": {},
   "source": [
    "# Hanukkah of Data/5784"
   ]
  },
  {
   "cell_type": "markdown",
   "id": "d986e357",
   "metadata": {},
   "source": [
    "## Noah’s Market\n",
    "\n",
    "Welcome to “Noah’s Market”, a bustling mom-and-pop everything store in\n",
    "Manhattan. In recent years it’s become quite an operation, but they’re still\n",
    "running on the same database your cousin Alex set up at the start of 2017.\n",
    "\n",
    "This morning, while waiting for your breakfast bagel, your Aunt Sarah pulled\n",
    "you aside in a hustle.\n",
    "\n",
    "“You know how Noah’s been talking recently about that rug we used to have?”\n",
    "\n",
    "She looked over at Noah, who was talking to a customer: “Such a beautiful\n",
    "carpet, with the most intricate design! I miss having it in my den. It has\n",
    "this vibrant beehive buzzing in the corner…”\n",
    "\n",
    "Sarah explained, “Noah entrusted me with that rug when he was remodeling his\n",
    "den a few years ago. It was so old and filthy, that I sent it to the cleaners,\n",
    "but then I completely forgot about it. Now, with Noah retiring and me taking\n",
    "over the store, he wants it back. So yesterday I freaked out and combed my\n",
    "apartment, and I finally found a claim ticket saying, ‘All items must be\n",
    "picked up within 90 days.’ At the cleaners, they didn’t have the rug, just the\n",
    "other half of the ticket.”\n",
    "\n",
    "Sarah added, “I need to find that rug before Noah comes over on the last night\n",
    "of Hanukkah. I have an idea but I need some help, and Alex will be busy for\n",
    "weeks doing those Advent of Code challenges.\n",
    "\n",
    "“Do you think you could help me track down the rug?”\n",
    "\n",
    "She hands you a [USB drive](https://hanukkah.bluebird.sh/5784/data) labeled\n",
    "“Noah’s Market Database Backup”.\n",
    "\n",
    "“Alex set up the backups to be password-protected. I can never remember the\n",
    "password itself, but it’s just the year in the Hebrew calendar when Alex set\n",
    "up the database.”\n",
    "\n",
    "What’s the password to open the .zip files on the USB drive?"
   ]
  },
  {
   "cell_type": "code",
   "execution_count": 2,
   "id": "77103dc2",
   "metadata": {
    "execution": {
     "iopub.execute_input": "2023-12-17T11:29:24.773570Z",
     "iopub.status.busy": "2023-12-17T11:29:24.773364Z",
     "iopub.status.idle": "2023-12-17T11:29:24.776100Z",
     "shell.execute_reply": "2023-12-17T11:29:24.775634Z"
    }
   },
   "outputs": [
    {
     "name": "stdout",
     "output_type": "stream",
     "text": [
      "5777\n"
     ]
    }
   ],
   "source": [
    "password = 5783 - 6\n",
    "print(password)"
   ]
  },
  {
   "cell_type": "code",
   "execution_count": 3,
   "id": "2689335b",
   "metadata": {
    "execution": {
     "iopub.execute_input": "2023-12-17T11:29:24.779074Z",
     "iopub.status.busy": "2023-12-17T11:29:24.778899Z",
     "iopub.status.idle": "2023-12-17T11:29:24.898931Z",
     "shell.execute_reply": "2023-12-17T11:29:24.898630Z"
    }
   },
   "outputs": [
    {
     "name": "stdout",
     "output_type": "stream",
     "text": [
      "Archive:  noahs-csv.zip\n",
      "   creating: 5784/\n",
      " extracting: 5784/noahs-customers.csv.zip  \n",
      "  inflating: 5784/noahs-orders.csv.zip  \n",
      "  inflating: 5784/noahs-orders_items.csv.zip  \n",
      "  inflating: 5784/noahs-products.csv.zip  \n"
     ]
    },
    {
     "data": {
      "text/plain": [
       "0"
      ]
     },
     "execution_count": 3,
     "metadata": {},
     "output_type": "execute_result"
    }
   ],
   "source": [
    "os.system(f\"unzip -P {password} noahs-csv\")"
   ]
  },
  {
   "cell_type": "markdown",
   "id": "4424e8dc",
   "metadata": {},
   "source": [
    "## 1. The Investigator\n",
    "\n",
    "Sarah brought a cashier over. She said, “Joe here says that one of our\n",
    "customers is a skilled private investigator.”\n",
    "\n",
    "Joe nodded, “They showed me their business card, and that’s what it said.\n",
    "Skilled Private Investigator. And their phone number was their last name\n",
    "spelled out. I didn’t know what that meant, but apparently before there were\n",
    "smartphones, people had to remember phone numbers or write them down. If you\n",
    "wanted a phone number that was easy-to-remember, you could get a number that\n",
    "spelled something using the letters printed on the phone buttons: like 2 has\n",
    "“ABC”, and 3 “DEF”, etc. And I guess this person had done that, so if you\n",
    "dialed the numbers corresponding to the letters in their name, it would call\n",
    "their phone number!\n",
    "\n",
    "“I thought that was pretty cool. But I don’t remember their name, or anything\n",
    "else about them for that matter. I couldn’t even tell you if they were male or\n",
    "female.”\n",
    "\n",
    "Sarah said, “This person seems like they are skilled at investigation. I need\n",
    "them to find Noah’s rug before the Hanukkah dinner. I don’t know how to\n",
    "contact them, but apparently they shop here at Noah’s Market.”\n",
    "\n",
    "She nodded at the [USB drive](https://hanukkah.bluebird.sh/5784/data) in your\n",
    "hand.\n",
    "\n",
    "“Can you find this investigator’s phone number?”"
   ]
  },
  {
   "cell_type": "code",
   "execution_count": 4,
   "id": "5a0d1664",
   "metadata": {
    "execution": {
     "iopub.execute_input": "2023-12-17T11:29:24.900671Z",
     "iopub.status.busy": "2023-12-17T11:29:24.900551Z",
     "iopub.status.idle": "2023-12-17T11:29:24.903126Z",
     "shell.execute_reply": "2023-12-17T11:29:24.902861Z"
    }
   },
   "outputs": [],
   "source": [
    "from enum import Enum\n",
    "\n",
    "import numpy as np\n",
    "import pandas as pd\n",
    "import pyperclip\n",
    "from IPython.display import display"
   ]
  },
  {
   "cell_type": "code",
   "execution_count": 5,
   "id": "99e986fd",
   "metadata": {
    "execution": {
     "iopub.execute_input": "2023-12-17T11:29:24.904796Z",
     "iopub.status.busy": "2023-12-17T11:29:24.904679Z",
     "iopub.status.idle": "2023-12-17T11:29:25.236149Z",
     "shell.execute_reply": "2023-12-17T11:29:25.235736Z"
    }
   },
   "outputs": [],
   "source": [
    "customers = pd.read_csv(\"5784/noahs-customers.csv.zip\", parse_dates=[\"birthdate\"])\n",
    "orders = pd.read_csv(\"5784/noahs-orders.csv.zip\", parse_dates=[\"ordered\", \"shipped\"])\n",
    "orders_items = pd.read_csv(\"5784/noahs-orders_items.csv.zip\")\n",
    "products = pd.read_csv(\"5784/noahs-products.csv.zip\")"
   ]
  },
  {
   "cell_type": "code",
   "execution_count": 6,
   "id": "9844293e",
   "metadata": {
    "execution": {
     "iopub.execute_input": "2023-12-17T11:29:25.237938Z",
     "iopub.status.busy": "2023-12-17T11:29:25.237833Z",
     "iopub.status.idle": "2023-12-17T11:29:25.244356Z",
     "shell.execute_reply": "2023-12-17T11:29:25.244109Z"
    }
   },
   "outputs": [
    {
     "data": {
      "text/plain": [
       "0"
      ]
     },
     "execution_count": 6,
     "metadata": {},
     "output_type": "execute_result"
    }
   ],
   "source": [
    "os.system(\"rm -rf 5784\")"
   ]
  },
  {
   "cell_type": "code",
   "execution_count": 7,
   "id": "508d4da8",
   "metadata": {
    "execution": {
     "iopub.execute_input": "2023-12-17T11:29:25.246096Z",
     "iopub.status.busy": "2023-12-17T11:29:25.245991Z",
     "iopub.status.idle": "2023-12-17T11:29:25.248011Z",
     "shell.execute_reply": "2023-12-17T11:29:25.247769Z"
    }
   },
   "outputs": [],
   "source": [
    "def answer(df: pd.DataFrame | pd.Series) -> str:\n",
    "    r\"\"\"\n",
    "    Returns answer, in this case, the phone number and copies to clipboard.\n",
    "\n",
    "    Parameters\n",
    "    ----------\n",
    "    df : Union[pd.DataFrame, pd.Series]\n",
    "\n",
    "    Returns\n",
    "    -------\n",
    "    str\n",
    "    \"\"\"\n",
    "    result = df[\"phone\"].unique()[0]\n",
    "    pyperclip.copy(result)\n",
    "    return result"
   ]
  },
  {
   "cell_type": "code",
   "execution_count": 8,
   "id": "09760b57",
   "metadata": {
    "execution": {
     "iopub.execute_input": "2023-12-17T11:29:25.249436Z",
     "iopub.status.busy": "2023-12-17T11:29:25.249343Z",
     "iopub.status.idle": "2023-12-17T11:29:25.251756Z",
     "shell.execute_reply": "2023-12-17T11:29:25.251538Z"
    }
   },
   "outputs": [],
   "source": [
    "def translate_char_to_phone_num(char: str) -> int:\n",
    "    r\"\"\"\n",
    "    Translate characters to phone number.\n",
    "\n",
    "    Parameters\n",
    "    ----------\n",
    "    chr : str\n",
    "\n",
    "    Returns\n",
    "    -------\n",
    "    int\n",
    "    \"\"\"\n",
    "    match char:\n",
    "        case \"a\" | \"b\" | \"c\":\n",
    "            digit = 2\n",
    "        case \"d\" | \"e\" | \"f\":\n",
    "            digit = 3\n",
    "        case \"g\" | \"h\" | \"i\":\n",
    "            digit = 4\n",
    "        case \"j\" | \"k\" | \"l\":\n",
    "            digit = 5\n",
    "        case \"m\" | \"n\" | \"o\":\n",
    "            digit = 6\n",
    "        case \"p\" | \"q\" | \"r\" | \"s\":\n",
    "            digit = 7\n",
    "        case \"t\" | \"u\" | \"v\":\n",
    "            digit = 8\n",
    "        case \"w\" | \"x\" | \"y\" | \"z\":\n",
    "            digit = 9\n",
    "    return digit"
   ]
  },
  {
   "cell_type": "code",
   "execution_count": 9,
   "id": "bbb344fd",
   "metadata": {
    "execution": {
     "iopub.execute_input": "2023-12-17T11:29:25.253203Z",
     "iopub.status.busy": "2023-12-17T11:29:25.253102Z",
     "iopub.status.idle": "2023-12-17T11:29:25.256149Z",
     "shell.execute_reply": "2023-12-17T11:29:25.255903Z"
    }
   },
   "outputs": [],
   "source": [
    "def one_the_investigator(df: pd.DataFrame) -> pd.DataFrame:\n",
    "    return (\n",
    "        df.loc[~df[\"name\"].str.endswith((\"II\", \"III\", \"IV\", \"Jr.\"))]\n",
    "        .assign(\n",
    "            last_name=df[\"name\"].str.split().str[-1].str.lower(),\n",
    "            last_name_len=lambda d: d[\"last_name\"].str.len(),\n",
    "        )\n",
    "        .query(\"last_name_len == 10\")\n",
    "        .assign(\n",
    "            name_char=lambda df: df[\"last_name\"].map(list),\n",
    "            phone_num=lambda df: df[\"name_char\"].map(\n",
    "                lambda _: \"\".join([str(translate_char_to_phone_num(x)) for x in _])\n",
    "            ),\n",
    "            test=lambda d: (\n",
    "                d[\"phone_num\"].str.slice(stop=3)\n",
    "                + \"-\"\n",
    "                + d[\"phone_num\"].str.slice(start=3, stop=6)\n",
    "                + \"-\"\n",
    "                + d[\"phone_num\"].str.slice(start=6)\n",
    "            ),\n",
    "        )\n",
    "        .loc[lambda d: d[\"phone\"] == d[\"test\"], customers.columns]\n",
    "        .set_index(\"customerid\")\n",
    "    )"
   ]
  },
  {
   "cell_type": "code",
   "execution_count": 10,
   "id": "ce1ebb14",
   "metadata": {
    "execution": {
     "iopub.execute_input": "2023-12-17T11:29:25.257733Z",
     "iopub.status.busy": "2023-12-17T11:29:25.257654Z",
     "iopub.status.idle": "2023-12-17T11:29:25.274703Z",
     "shell.execute_reply": "2023-12-17T11:29:25.274444Z"
    }
   },
   "outputs": [
    {
     "data": {
      "text/html": [
       "<div>\n",
       "<style scoped>\n",
       "    .dataframe tbody tr th:only-of-type {\n",
       "        vertical-align: middle;\n",
       "    }\n",
       "\n",
       "    .dataframe tbody tr th {\n",
       "        vertical-align: top;\n",
       "    }\n",
       "\n",
       "    .dataframe thead th {\n",
       "        text-align: right;\n",
       "    }\n",
       "</style>\n",
       "<table border=\"1\" class=\"dataframe\">\n",
       "  <thead>\n",
       "    <tr style=\"text-align: right;\">\n",
       "      <th></th>\n",
       "      <th>name</th>\n",
       "      <th>address</th>\n",
       "      <th>citystatezip</th>\n",
       "      <th>birthdate</th>\n",
       "      <th>phone</th>\n",
       "      <th>timezone</th>\n",
       "      <th>lat</th>\n",
       "      <th>long</th>\n",
       "    </tr>\n",
       "    <tr>\n",
       "      <th>customerid</th>\n",
       "      <th></th>\n",
       "      <th></th>\n",
       "      <th></th>\n",
       "      <th></th>\n",
       "      <th></th>\n",
       "      <th></th>\n",
       "      <th></th>\n",
       "      <th></th>\n",
       "    </tr>\n",
       "  </thead>\n",
       "  <tbody>\n",
       "    <tr>\n",
       "      <th>1208</th>\n",
       "      <td>Sam Tannenbaum</td>\n",
       "      <td>221 Banker St</td>\n",
       "      <td>Brooklyn, NY 11222</td>\n",
       "      <td>1994-09-13</td>\n",
       "      <td>826-636-2286</td>\n",
       "      <td>America/New_York</td>\n",
       "      <td>40.7257</td>\n",
       "      <td>-73.9555</td>\n",
       "    </tr>\n",
       "  </tbody>\n",
       "</table>\n",
       "</div>"
      ],
      "text/plain": [
       "                      name        address        citystatezip  birthdate  \\\n",
       "customerid                                                                 \n",
       "1208        Sam Tannenbaum  221 Banker St  Brooklyn, NY 11222 1994-09-13   \n",
       "\n",
       "                   phone          timezone      lat     long  \n",
       "customerid                                                    \n",
       "1208        826-636-2286  America/New_York  40.7257 -73.9555  "
      ]
     },
     "execution_count": 10,
     "metadata": {},
     "output_type": "execute_result"
    }
   ],
   "source": [
    "customers.pipe(one_the_investigator)"
   ]
  },
  {
   "cell_type": "code",
   "execution_count": 11,
   "id": "fa2c9a1b",
   "metadata": {
    "execution": {
     "iopub.execute_input": "2023-12-17T11:29:25.276583Z",
     "iopub.status.busy": "2023-12-17T11:29:25.276463Z",
     "iopub.status.idle": "2023-12-17T11:29:25.308432Z",
     "shell.execute_reply": "2023-12-17T11:29:25.308093Z"
    }
   },
   "outputs": [
    {
     "data": {
      "text/plain": [
       "'826-636-2286'"
      ]
     },
     "execution_count": 11,
     "metadata": {},
     "output_type": "execute_result"
    }
   ],
   "source": [
    "customers.pipe(one_the_investigator).pipe(answer)"
   ]
  },
  {
   "cell_type": "markdown",
   "id": "4e5ca7da",
   "metadata": {
    "lines_to_next_cell": 2
   },
   "source": [
    "## 2. The Contractor\n",
    "\n",
    "Thanks to your help, Sarah called the investigator that afternoon. The\n",
    "investigator went directly to the cleaners to see if they could get any more\n",
    "information about the unclaimed rug.\n",
    "\n",
    "While they were out, Sarah said, “I tried cleaning the rug myself, but there\n",
    "was this snail on it that always seemed to leave a trail of slime behind it. I\n",
    "spent a few hours cleaning it, and the next day the slime trail was back.”\n",
    "\n",
    "When the investigator returned, they said, “Apparently, this cleaner had a\n",
    "special projects program, where they outsourced challenging cleaning projects\n",
    "to industrious contractors. As they’re right across the street from Noah’s,\n",
    "they usually talked about the project over coffee and bagels at Noah’s before\n",
    "handing off the item to be cleaned. The contractors would pick up the tab and\n",
    "expense it, along with their cleaning supplies.\n",
    "\n",
    "“So this rug was apparently one of those special projects. The claim ticket\n",
    "said ‘2017 JP’. ‘2017’ is the year the item was brought in, and ‘JP’ is the\n",
    "initials of the contractor.\n",
    "\n",
    "“But they stopped outsourcing a few years ago, and don’t have contact\n",
    "information for any of these workers anymore.”\n",
    "\n",
    "Sarah first seemed hopeless, and then glanced at the [USB\n",
    "drive](https://hanukkah.bluebird.sh/5784/data) you had just put back in her\n",
    "hand. She said, “I know it’s a long shot, but is there any chance you could\n",
    "find their phone number?”"
   ]
  },
  {
   "cell_type": "code",
   "execution_count": 12,
   "id": "df987ac8",
   "metadata": {
    "execution": {
     "iopub.execute_input": "2023-12-17T11:29:25.310363Z",
     "iopub.status.busy": "2023-12-17T11:29:25.310231Z",
     "iopub.status.idle": "2023-12-17T11:29:25.313852Z",
     "shell.execute_reply": "2023-12-17T11:29:25.313584Z"
    }
   },
   "outputs": [],
   "source": [
    "def two_the_contractor(\n",
    "    customers_df: pd.DataFrame = customers,\n",
    "    orders_df: pd.DataFrame = orders,\n",
    "    orders_items_df: pd.DataFrame = orders_items,\n",
    "    products_df: pd.DataFrame = products,\n",
    "    initials: str = \"JP\",\n",
    ") -> pd.DataFrame:\n",
    "    return (\n",
    "        (\n",
    "            customers_df.replace([\" II\", \" III\", \" IV\", \" Jr.\"], \"\", regex=True)\n",
    "            .assign(\n",
    "                initials=lambda d: (\n",
    "                    d[\"name\"].str.split(\" \").str[0].str[0]\n",
    "                    + d[\"name\"].str.split(\" \").str[-1].str[0]\n",
    "                )\n",
    "            )\n",
    "            .merge(\n",
    "                orders_df.loc[\n",
    "                    (orders_df[\"ordered\"].dt.year == 2017)\n",
    "                    & ((orders_df[\"ordered\"] - orders_df[\"shipped\"]).dt.seconds <= 60)\n",
    "                ],\n",
    "                on=\"customerid\",\n",
    "            )\n",
    "            .loc[lambda d: d[\"initials\"] == initials]\n",
    "            .merge(orders_items_df, on=\"orderid\")\n",
    "            .merge(\n",
    "                products_df.loc[\n",
    "                    products_df[\"desc\"].str.contains(\"coffee|bagel&clean\", case=False)\n",
    "                ],\n",
    "                on=\"sku\",\n",
    "            )\n",
    "            .filter(customers.columns)\n",
    "        )\n",
    "        .drop_duplicates()\n",
    "        .set_index(\"customerid\")\n",
    "    )"
   ]
  },
  {
   "cell_type": "code",
   "execution_count": 13,
   "id": "37c92fe9",
   "metadata": {
    "execution": {
     "iopub.execute_input": "2023-12-17T11:29:25.315426Z",
     "iopub.status.busy": "2023-12-17T11:29:25.315343Z",
     "iopub.status.idle": "2023-12-17T11:29:25.434816Z",
     "shell.execute_reply": "2023-12-17T11:29:25.434419Z"
    }
   },
   "outputs": [
    {
     "data": {
      "text/html": [
       "<div>\n",
       "<style scoped>\n",
       "    .dataframe tbody tr th:only-of-type {\n",
       "        vertical-align: middle;\n",
       "    }\n",
       "\n",
       "    .dataframe tbody tr th {\n",
       "        vertical-align: top;\n",
       "    }\n",
       "\n",
       "    .dataframe thead th {\n",
       "        text-align: right;\n",
       "    }\n",
       "</style>\n",
       "<table border=\"1\" class=\"dataframe\">\n",
       "  <thead>\n",
       "    <tr style=\"text-align: right;\">\n",
       "      <th></th>\n",
       "      <th>name</th>\n",
       "      <th>address</th>\n",
       "      <th>citystatezip</th>\n",
       "      <th>birthdate</th>\n",
       "      <th>phone</th>\n",
       "      <th>timezone</th>\n",
       "      <th>lat</th>\n",
       "      <th>long</th>\n",
       "    </tr>\n",
       "    <tr>\n",
       "      <th>customerid</th>\n",
       "      <th></th>\n",
       "      <th></th>\n",
       "      <th></th>\n",
       "      <th></th>\n",
       "      <th></th>\n",
       "      <th></th>\n",
       "      <th></th>\n",
       "      <th></th>\n",
       "    </tr>\n",
       "  </thead>\n",
       "  <tbody>\n",
       "    <tr>\n",
       "      <th>1475</th>\n",
       "      <td>Joshua Peterson</td>\n",
       "      <td>100-75 148th St</td>\n",
       "      <td>Jamaica, NY 11435</td>\n",
       "      <td>1947-02-05</td>\n",
       "      <td>332-274-4185</td>\n",
       "      <td>America/New_York</td>\n",
       "      <td>40.70895</td>\n",
       "      <td>-73.80856</td>\n",
       "    </tr>\n",
       "  </tbody>\n",
       "</table>\n",
       "</div>"
      ],
      "text/plain": [
       "                       name          address       citystatezip  birthdate  \\\n",
       "customerid                                                                   \n",
       "1475        Joshua Peterson  100-75 148th St  Jamaica, NY 11435 1947-02-05   \n",
       "\n",
       "                   phone          timezone       lat      long  \n",
       "customerid                                                      \n",
       "1475        332-274-4185  America/New_York  40.70895 -73.80856  "
      ]
     },
     "metadata": {},
     "output_type": "display_data"
    }
   ],
   "source": [
    "two_the_contractor().pipe(display)"
   ]
  },
  {
   "cell_type": "code",
   "execution_count": 14,
   "id": "b51040f2",
   "metadata": {
    "execution": {
     "iopub.execute_input": "2023-12-17T11:29:25.436652Z",
     "iopub.status.busy": "2023-12-17T11:29:25.436526Z",
     "iopub.status.idle": "2023-12-17T11:29:25.573776Z",
     "shell.execute_reply": "2023-12-17T11:29:25.573376Z"
    }
   },
   "outputs": [
    {
     "data": {
      "text/plain": [
       "'332-274-4185'"
      ]
     },
     "execution_count": 14,
     "metadata": {},
     "output_type": "execute_result"
    }
   ],
   "source": [
    "two_the_contractor().pipe(answer)"
   ]
  },
  {
   "cell_type": "markdown",
   "id": "7370853c",
   "metadata": {},
   "source": [
    "## 3. The Neighbor\n",
    "\n",
    "Sarah and the investigator were very impressed with your data skills, as you\n",
    "were able to figure out the phone number of the contractor. They called up the\n",
    "cleaning contractor straight away and asked about the rug.\n",
    "\n",
    "“Oh, yeah, I did some special projects for them a few years ago. I remember\n",
    "that rug unfortunately. I managed to clean one section, which revealed a giant\n",
    "spider that startled me whenever I tried to work on it.\n",
    "\n",
    "“I already had a fear of spiders before this, but this spider was so realistic\n",
    "that I had a hard time making any more progress. I kept expecting the cleaners\n",
    "would call for the rug, but they never did. I felt so bad about it, I couldn’t\n",
    "face them, and of course they never gave me another project.\n",
    "\n",
    "“At last I couldn’t deal with the rug taking up my whole bathtub, so I gave it\n",
    "to this guy who lived in my neighborhood. He said that he was naturally\n",
    "intuitive because he was a Cancer born in the year of the Rabbit, so maybe he\n",
    "was able to clean it.\n",
    "\n",
    "“I don’t remember his name. Last time I saw him, he was leaving the subway and\n",
    "carrying a bag from Noah’s. I swore I saw a spider on his hat.”\n",
    "\n",
    "Can you find the phone number of the person that the contractor gave the rug\n",
    "to?"
   ]
  },
  {
   "cell_type": "code",
   "execution_count": 15,
   "id": "ee95e2de",
   "metadata": {
    "execution": {
     "iopub.execute_input": "2023-12-17T11:29:25.575642Z",
     "iopub.status.busy": "2023-12-17T11:29:25.575512Z",
     "iopub.status.idle": "2023-12-17T11:29:25.577511Z",
     "shell.execute_reply": "2023-12-17T11:29:25.577224Z"
    }
   },
   "outputs": [],
   "source": [
    "ZODIAC_LINK = \"https://en.wikipedia.org/wiki/Astrological_sign\""
   ]
  },
  {
   "cell_type": "code",
   "execution_count": 16,
   "id": "7062096d",
   "metadata": {
    "execution": {
     "iopub.execute_input": "2023-12-17T11:29:25.579020Z",
     "iopub.status.busy": "2023-12-17T11:29:25.578920Z",
     "iopub.status.idle": "2023-12-17T11:29:25.901506Z",
     "shell.execute_reply": "2023-12-17T11:29:25.900985Z"
    }
   },
   "outputs": [],
   "source": [
    "zodiac = pd.read_html(ZODIAC_LINK)[0]"
   ]
  },
  {
   "cell_type": "code",
   "execution_count": 17,
   "id": "c2b38006",
   "metadata": {
    "execution": {
     "iopub.execute_input": "2023-12-17T11:29:25.904577Z",
     "iopub.status.busy": "2023-12-17T11:29:25.904261Z",
     "iopub.status.idle": "2023-12-17T11:29:25.913049Z",
     "shell.execute_reply": "2023-12-17T11:29:25.912724Z"
    }
   },
   "outputs": [
    {
     "data": {
      "text/html": [
       "<div>\n",
       "<style scoped>\n",
       "    .dataframe tbody tr th:only-of-type {\n",
       "        vertical-align: middle;\n",
       "    }\n",
       "\n",
       "    .dataframe tbody tr th {\n",
       "        vertical-align: top;\n",
       "    }\n",
       "\n",
       "    .dataframe thead th {\n",
       "        text-align: right;\n",
       "    }\n",
       "</style>\n",
       "<table border=\"1\" class=\"dataframe\">\n",
       "  <thead>\n",
       "    <tr style=\"text-align: right;\">\n",
       "      <th></th>\n",
       "      <th>Sign</th>\n",
       "      <th>Gloss</th>\n",
       "      <th>Symbol</th>\n",
       "      <th>Unicode Character</th>\n",
       "      <th>Approximate Sun Sign Start Dates[11]</th>\n",
       "      <th>Approximate Sun Sign End Dates[11]</th>\n",
       "      <th>Ecliptic Longitude (a ≤ λ &lt; b)</th>\n",
       "      <th>House</th>\n",
       "      <th>Polarity</th>\n",
       "      <th>Modality</th>\n",
       "      <th>Triplicity</th>\n",
       "      <th>Northern Hemisphere Season</th>\n",
       "      <th>Southern Hemisphere Season</th>\n",
       "      <th>Modern Ruler</th>\n",
       "      <th>Classic Ruler</th>\n",
       "    </tr>\n",
       "  </thead>\n",
       "  <tbody>\n",
       "    <tr>\n",
       "      <th>0</th>\n",
       "      <td>Aries</td>\n",
       "      <td>The Ram</td>\n",
       "      <td>NaN</td>\n",
       "      <td>♈︎</td>\n",
       "      <td>21 March</td>\n",
       "      <td>20 April</td>\n",
       "      <td>0° to 30°</td>\n",
       "      <td>1</td>\n",
       "      <td>Positive</td>\n",
       "      <td>Cardinal</td>\n",
       "      <td>Fire</td>\n",
       "      <td>Spring</td>\n",
       "      <td>Autumn</td>\n",
       "      <td>Mars</td>\n",
       "      <td>Mars</td>\n",
       "    </tr>\n",
       "    <tr>\n",
       "      <th>1</th>\n",
       "      <td>Taurus</td>\n",
       "      <td>The Bull</td>\n",
       "      <td>NaN</td>\n",
       "      <td>♉︎</td>\n",
       "      <td>21 April</td>\n",
       "      <td>21 May</td>\n",
       "      <td>30° to 60°</td>\n",
       "      <td>2</td>\n",
       "      <td>Negative</td>\n",
       "      <td>Fixed</td>\n",
       "      <td>Earth</td>\n",
       "      <td>Spring</td>\n",
       "      <td>Autumn</td>\n",
       "      <td>Venus</td>\n",
       "      <td>Venus</td>\n",
       "    </tr>\n",
       "    <tr>\n",
       "      <th>2</th>\n",
       "      <td>Gemini</td>\n",
       "      <td>The Twins</td>\n",
       "      <td>NaN</td>\n",
       "      <td>♊︎</td>\n",
       "      <td>22 May</td>\n",
       "      <td>21 June</td>\n",
       "      <td>60° to 90°</td>\n",
       "      <td>3</td>\n",
       "      <td>Positive</td>\n",
       "      <td>Mutable</td>\n",
       "      <td>Air</td>\n",
       "      <td>Spring</td>\n",
       "      <td>Autumn</td>\n",
       "      <td>Mercury</td>\n",
       "      <td>Mercury</td>\n",
       "    </tr>\n",
       "    <tr>\n",
       "      <th>3</th>\n",
       "      <td>Cancer</td>\n",
       "      <td>The Crab</td>\n",
       "      <td>NaN</td>\n",
       "      <td>♋︎</td>\n",
       "      <td>22 June</td>\n",
       "      <td>23 July</td>\n",
       "      <td>90° to 120°</td>\n",
       "      <td>4</td>\n",
       "      <td>Negative</td>\n",
       "      <td>Cardinal</td>\n",
       "      <td>Water</td>\n",
       "      <td>Summer</td>\n",
       "      <td>Winter</td>\n",
       "      <td>Moon</td>\n",
       "      <td>Moon</td>\n",
       "    </tr>\n",
       "    <tr>\n",
       "      <th>4</th>\n",
       "      <td>Leo</td>\n",
       "      <td>The Lion</td>\n",
       "      <td>NaN</td>\n",
       "      <td>♌︎</td>\n",
       "      <td>24 July</td>\n",
       "      <td>23 August</td>\n",
       "      <td>120° to 150°</td>\n",
       "      <td>5</td>\n",
       "      <td>Positive</td>\n",
       "      <td>Fixed</td>\n",
       "      <td>Fire</td>\n",
       "      <td>Summer</td>\n",
       "      <td>Winter</td>\n",
       "      <td>Sun</td>\n",
       "      <td>Sun</td>\n",
       "    </tr>\n",
       "    <tr>\n",
       "      <th>5</th>\n",
       "      <td>Virgo</td>\n",
       "      <td>The Maiden</td>\n",
       "      <td>NaN</td>\n",
       "      <td>♍︎</td>\n",
       "      <td>24 August</td>\n",
       "      <td>23 September</td>\n",
       "      <td>150° to 180°</td>\n",
       "      <td>6</td>\n",
       "      <td>Negative</td>\n",
       "      <td>Mutable</td>\n",
       "      <td>Earth</td>\n",
       "      <td>Summer</td>\n",
       "      <td>Winter</td>\n",
       "      <td>Mercury</td>\n",
       "      <td>Mercury</td>\n",
       "    </tr>\n",
       "    <tr>\n",
       "      <th>6</th>\n",
       "      <td>Libra</td>\n",
       "      <td>The Scales</td>\n",
       "      <td>NaN</td>\n",
       "      <td>♎︎</td>\n",
       "      <td>24 September</td>\n",
       "      <td>23 October</td>\n",
       "      <td>180° to 210°</td>\n",
       "      <td>7</td>\n",
       "      <td>Positive</td>\n",
       "      <td>Cardinal</td>\n",
       "      <td>Air</td>\n",
       "      <td>Autumn</td>\n",
       "      <td>Spring</td>\n",
       "      <td>Venus</td>\n",
       "      <td>Venus</td>\n",
       "    </tr>\n",
       "    <tr>\n",
       "      <th>7</th>\n",
       "      <td>Scorpio</td>\n",
       "      <td>The Scorpion</td>\n",
       "      <td>NaN</td>\n",
       "      <td>♏︎</td>\n",
       "      <td>24 October</td>\n",
       "      <td>22 November</td>\n",
       "      <td>210° to 240°</td>\n",
       "      <td>8</td>\n",
       "      <td>Negative</td>\n",
       "      <td>Fixed</td>\n",
       "      <td>Water</td>\n",
       "      <td>Autumn</td>\n",
       "      <td>Spring</td>\n",
       "      <td>Pluto (or)</td>\n",
       "      <td>Mars</td>\n",
       "    </tr>\n",
       "    <tr>\n",
       "      <th>8</th>\n",
       "      <td>Sagittarius</td>\n",
       "      <td>The Archer (Centaur)</td>\n",
       "      <td>NaN</td>\n",
       "      <td>♐︎</td>\n",
       "      <td>23 November</td>\n",
       "      <td>21 December</td>\n",
       "      <td>240° to 270°</td>\n",
       "      <td>9</td>\n",
       "      <td>Positive</td>\n",
       "      <td>Mutable</td>\n",
       "      <td>Fire</td>\n",
       "      <td>Autumn</td>\n",
       "      <td>Spring</td>\n",
       "      <td>Jupiter</td>\n",
       "      <td>Jupiter</td>\n",
       "    </tr>\n",
       "    <tr>\n",
       "      <th>9</th>\n",
       "      <td>Capricorn</td>\n",
       "      <td>The Goat</td>\n",
       "      <td>NaN</td>\n",
       "      <td>♑︎</td>\n",
       "      <td>22 December</td>\n",
       "      <td>20 January</td>\n",
       "      <td>270° to 300°</td>\n",
       "      <td>10</td>\n",
       "      <td>Negative</td>\n",
       "      <td>Cardinal</td>\n",
       "      <td>Earth</td>\n",
       "      <td>Winter</td>\n",
       "      <td>Summer</td>\n",
       "      <td>Saturn</td>\n",
       "      <td>Saturn</td>\n",
       "    </tr>\n",
       "    <tr>\n",
       "      <th>10</th>\n",
       "      <td>Aquarius</td>\n",
       "      <td>The Water-bearer</td>\n",
       "      <td>NaN</td>\n",
       "      <td>♒︎</td>\n",
       "      <td>21 January</td>\n",
       "      <td>19 February</td>\n",
       "      <td>300° to 330°</td>\n",
       "      <td>11</td>\n",
       "      <td>Positive</td>\n",
       "      <td>Fixed</td>\n",
       "      <td>Air</td>\n",
       "      <td>Winter</td>\n",
       "      <td>Summer</td>\n",
       "      <td>Uranus</td>\n",
       "      <td>Saturn</td>\n",
       "    </tr>\n",
       "    <tr>\n",
       "      <th>11</th>\n",
       "      <td>Pisces</td>\n",
       "      <td>The Fish</td>\n",
       "      <td>NaN</td>\n",
       "      <td>♓︎</td>\n",
       "      <td>20 February</td>\n",
       "      <td>20 March</td>\n",
       "      <td>330° to 360°</td>\n",
       "      <td>12</td>\n",
       "      <td>Negative</td>\n",
       "      <td>Mutable</td>\n",
       "      <td>Water</td>\n",
       "      <td>Winter</td>\n",
       "      <td>Summer</td>\n",
       "      <td>Neptune</td>\n",
       "      <td>Jupiter</td>\n",
       "    </tr>\n",
       "  </tbody>\n",
       "</table>\n",
       "</div>"
      ],
      "text/plain": [
       "           Sign                 Gloss  Symbol Unicode Character  \\\n",
       "0         Aries               The Ram     NaN                ♈︎   \n",
       "1        Taurus              The Bull     NaN                ♉︎   \n",
       "2        Gemini             The Twins     NaN                ♊︎   \n",
       "3        Cancer              The Crab     NaN                ♋︎   \n",
       "4           Leo              The Lion     NaN                ♌︎   \n",
       "5         Virgo            The Maiden     NaN                ♍︎   \n",
       "6         Libra            The Scales     NaN                ♎︎   \n",
       "7       Scorpio          The Scorpion     NaN                ♏︎   \n",
       "8   Sagittarius  The Archer (Centaur)     NaN                ♐︎   \n",
       "9     Capricorn              The Goat     NaN                ♑︎   \n",
       "10     Aquarius      The Water-bearer     NaN                ♒︎   \n",
       "11       Pisces              The Fish     NaN                ♓︎   \n",
       "\n",
       "   Approximate Sun Sign Start Dates[11] Approximate Sun Sign End Dates[11]  \\\n",
       "0                              21 March                           20 April   \n",
       "1                              21 April                             21 May   \n",
       "2                                22 May                            21 June   \n",
       "3                               22 June                            23 July   \n",
       "4                               24 July                          23 August   \n",
       "5                             24 August                       23 September   \n",
       "6                          24 September                         23 October   \n",
       "7                            24 October                        22 November   \n",
       "8                           23 November                        21 December   \n",
       "9                           22 December                         20 January   \n",
       "10                           21 January                        19 February   \n",
       "11                          20 February                           20 March   \n",
       "\n",
       "   Ecliptic Longitude (a ≤ λ < b)  House  Polarity  Modality Triplicity  \\\n",
       "0                       0° to 30°      1  Positive  Cardinal       Fire   \n",
       "1                      30° to 60°      2  Negative     Fixed      Earth   \n",
       "2                      60° to 90°      3  Positive   Mutable        Air   \n",
       "3                     90° to 120°      4  Negative  Cardinal      Water   \n",
       "4                    120° to 150°      5  Positive     Fixed       Fire   \n",
       "5                    150° to 180°      6  Negative   Mutable      Earth   \n",
       "6                    180° to 210°      7  Positive  Cardinal        Air   \n",
       "7                    210° to 240°      8  Negative     Fixed      Water   \n",
       "8                    240° to 270°      9  Positive   Mutable       Fire   \n",
       "9                    270° to 300°     10  Negative  Cardinal      Earth   \n",
       "10                   300° to 330°     11  Positive     Fixed        Air   \n",
       "11                   330° to 360°     12  Negative   Mutable      Water   \n",
       "\n",
       "   Northern Hemisphere Season Southern Hemisphere Season Modern Ruler  \\\n",
       "0                      Spring                     Autumn         Mars   \n",
       "1                      Spring                     Autumn        Venus   \n",
       "2                      Spring                     Autumn      Mercury   \n",
       "3                      Summer                     Winter         Moon   \n",
       "4                      Summer                     Winter          Sun   \n",
       "5                      Summer                     Winter      Mercury   \n",
       "6                      Autumn                     Spring        Venus   \n",
       "7                      Autumn                     Spring   Pluto (or)   \n",
       "8                      Autumn                     Spring      Jupiter   \n",
       "9                      Winter                     Summer       Saturn   \n",
       "10                     Winter                     Summer       Uranus   \n",
       "11                     Winter                     Summer      Neptune   \n",
       "\n",
       "   Classic Ruler  \n",
       "0           Mars  \n",
       "1          Venus  \n",
       "2        Mercury  \n",
       "3           Moon  \n",
       "4            Sun  \n",
       "5        Mercury  \n",
       "6          Venus  \n",
       "7           Mars  \n",
       "8        Jupiter  \n",
       "9         Saturn  \n",
       "10        Saturn  \n",
       "11       Jupiter  "
      ]
     },
     "execution_count": 17,
     "metadata": {},
     "output_type": "execute_result"
    }
   ],
   "source": [
    "zodiac"
   ]
  },
  {
   "cell_type": "code",
   "execution_count": 18,
   "id": "836936b2",
   "metadata": {
    "execution": {
     "iopub.execute_input": "2023-12-17T11:29:25.914917Z",
     "iopub.status.busy": "2023-12-17T11:29:25.914768Z",
     "iopub.status.idle": "2023-12-17T11:29:25.917501Z",
     "shell.execute_reply": "2023-12-17T11:29:25.917186Z"
    }
   },
   "outputs": [],
   "source": [
    "class ZodiacSign(Enum):\n",
    "    \"\"\"\n",
    "    Represents the different zodiac signs.\n",
    "\n",
    "    Explanation\n",
    "    -----------\n",
    "    This class defines an enumeration of the twelve zodiac signs.\n",
    "    \"\"\"\n",
    "\n",
    "    Aries = \"Aries\"\n",
    "    Taurus = \"Taurus\"\n",
    "    Gemini = \"Gemini\"\n",
    "    Cancer = \"Cancer\"\n",
    "    Leo = \"Leo\"\n",
    "    Virgo = \"Virgo\"\n",
    "    Libra = \"Libra\"\n",
    "    Scorpio = \"Scorpio\"\n",
    "    Sagittarius = \"Sagittarius\"\n",
    "    Capricorn = \"Capricorn\"\n",
    "    Aquarius = \"Aquarius\"\n",
    "    Pisces = \"Pisces\""
   ]
  },
  {
   "cell_type": "code",
   "execution_count": 19,
   "id": "26a4eca0",
   "metadata": {
    "execution": {
     "iopub.execute_input": "2023-12-17T11:29:25.919220Z",
     "iopub.status.busy": "2023-12-17T11:29:25.919098Z",
     "iopub.status.idle": "2023-12-17T11:29:25.921756Z",
     "shell.execute_reply": "2023-12-17T11:29:25.921452Z"
    }
   },
   "outputs": [],
   "source": [
    "class ChineseZodiac(Enum):\n",
    "    \"\"\"\n",
    "    Represents the Chinese zodiac signs.\n",
    "\n",
    "    Explanation\n",
    "    -----------\n",
    "    This class defines an enumeration of the twelve Chinese zodiac signs and\n",
    "    return the respective Wikipedia link.\n",
    "    \"\"\"\n",
    "\n",
    "    Rat = \"https://en.wikipedia.org/wiki/Rat_(zodiac)\"\n",
    "    Ox = \"https://en.wikipedia.org/wiki/Ox_(zodiac)\"\n",
    "    Tiger = \"https://en.wikipedia.org/wiki/Tiger_(zodiac)\"\n",
    "    Rabbit = \"https://en.wikipedia.org/wiki/Rabbit_(zodiac)\"\n",
    "    Dragon = \"https://en.wikipedia.org/wiki/Dragon_(zodiac)\"\n",
    "    Snake = \"https://en.wikipedia.org/wiki/Snake_(zodiac)\"\n",
    "    Horse = \"https://en.wikipedia.org/wiki/Horse_(zodiac)\"\n",
    "    Goat = \"https://en.wikipedia.org/wiki/Goat_(zodiac)\"\n",
    "    Monkey = \"https://en.wikipedia.org/wiki/Monkey_(zodiac)\"\n",
    "    Rooster = \"https://en.wikipedia.org/wiki/Rooster_(zodiac)\"\n",
    "    Dog = \"https://en.wikipedia.org/wiki/Dog_(zodiac)\"\n",
    "    Pig = \"https://en.wikipedia.org/wiki/Pig_(zodiac)\""
   ]
  },
  {
   "cell_type": "code",
   "execution_count": 20,
   "id": "99ac5c0b",
   "metadata": {
    "execution": {
     "iopub.execute_input": "2023-12-17T11:29:25.923574Z",
     "iopub.status.busy": "2023-12-17T11:29:25.923443Z",
     "iopub.status.idle": "2023-12-17T11:29:25.926674Z",
     "shell.execute_reply": "2023-12-17T11:29:25.926390Z"
    }
   },
   "outputs": [],
   "source": [
    "def zodiac_characteristics(\n",
    "    zodiac_df: pd.DataFrame = zodiac, zodiac_sign: ZodiacSign = ZodiacSign.Cancer\n",
    ") -> dict[str, list[str | int]]:\n",
    "    \"\"\"\n",
    "    Extracts zodiac characteristics from a DataFrame based on the specified\n",
    "    zodiac sign.\n",
    "\n",
    "    Parameters\n",
    "    ----------\n",
    "    zodiac_df : pd.DataFrame, optional\n",
    "        The DataFrame containing zodiac information. By default, uses a\n",
    "        predefined zodiac DataFrame.\n",
    "    zodiac_sign : ZodiacSign, optional\n",
    "        The zodiac sign for which characteristics are extracted. By default,\n",
    "        uses ZodiacSign.Cancer.\n",
    "\n",
    "    Returns\n",
    "    -------\n",
    "    dict[str, list[str | int]]\n",
    "        A dictionary containing zodiac characteristics:\n",
    "        - 'dates': List of date strings.\n",
    "        - 'month': List of month values.\n",
    "        - 'days': List of day values.\n",
    "    \"\"\"\n",
    "    return (\n",
    "        (\n",
    "            zodiac_df.loc[zodiac_df[\"Sign\"] == zodiac_sign.value]\n",
    "            .filter(like=\"Sun\", axis=1)\n",
    "            .T\n",
    "        )\n",
    "        .set_axis([\"dates\"], axis=\"columns\")\n",
    "        .assign(\n",
    "            timestamp_fmt=lambda d: pd.to_datetime(d[\"dates\"], format=\"%d %B\"),\n",
    "            month=lambda d: d[\"timestamp_fmt\"].dt.month,\n",
    "            days=lambda d: d[\"timestamp_fmt\"].dt.day,\n",
    "        )\n",
    "        .filter(regex=\"^(?!.*timestamp).*$\")\n",
    "        .to_dict(\"list\")\n",
    "    )"
   ]
  },
  {
   "cell_type": "code",
   "execution_count": 21,
   "id": "c200da69",
   "metadata": {
    "execution": {
     "iopub.execute_input": "2023-12-17T11:29:25.928336Z",
     "iopub.status.busy": "2023-12-17T11:29:25.928240Z",
     "iopub.status.idle": "2023-12-17T11:29:25.933280Z",
     "shell.execute_reply": "2023-12-17T11:29:25.932974Z"
    }
   },
   "outputs": [
    {
     "data": {
      "text/plain": [
       "{'dates': ['23 November', '21 December'], 'month': [11, 12], 'days': [23, 21]}"
      ]
     },
     "execution_count": 21,
     "metadata": {},
     "output_type": "execute_result"
    }
   ],
   "source": [
    "zodiac.pipe(zodiac_characteristics, ZodiacSign.Sagittarius)"
   ]
  },
  {
   "cell_type": "code",
   "execution_count": 22,
   "id": "def017a3",
   "metadata": {
    "execution": {
     "iopub.execute_input": "2023-12-17T11:29:25.935062Z",
     "iopub.status.busy": "2023-12-17T11:29:25.934937Z",
     "iopub.status.idle": "2023-12-17T11:29:25.937774Z",
     "shell.execute_reply": "2023-12-17T11:29:25.937527Z"
    }
   },
   "outputs": [],
   "source": [
    "def chinese_sign_years(\n",
    "    customers_df: pd.DataFrame = customers,\n",
    "    chinese_zodiac_animal: ChineseZodiac = ChineseZodiac.Rabbit,\n",
    ") -> set[int]:\n",
    "    \"\"\"\n",
    "    Retrieves the birth years of customers belonging to a specific Chinese\n",
    "    zodiac sign.\n",
    "\n",
    "    Parameters\n",
    "    ----------\n",
    "    customers_df : pd.DataFrame, optional\n",
    "        The DataFrame containing customer information. By default, uses a\n",
    "        predefined 'customers' DataFrame.\n",
    "    chinese_zodiac_animal : ChineseZodiac, optional\n",
    "        The Chinese zodiac animal for which to retrieve birth years.\n",
    "        By default, uses the ChineseZodiac.Rabbit.\n",
    "\n",
    "    Returns\n",
    "    -------\n",
    "    set[int]\n",
    "        A set of birth years corresponding to customers with the specified\n",
    "        Chinese zodiac sign.\n",
    "    \"\"\"\n",
    "\n",
    "    tables = pd.read_html(chinese_zodiac_animal.value)\n",
    "\n",
    "    for i, d in enumerate(tables):\n",
    "        cols = list(d.columns)\n",
    "        if \"Start date\" in cols:\n",
    "            date_table_index = i\n",
    "\n",
    "    return set(pd.to_numeric(tables[date_table_index][\"Start date\"].str[-4:])) & set(\n",
    "        customers_df[\"birthdate\"].dt.year\n",
    "    )"
   ]
  },
  {
   "cell_type": "code",
   "execution_count": 23,
   "id": "956ca427",
   "metadata": {
    "execution": {
     "iopub.execute_input": "2023-12-17T11:29:25.939406Z",
     "iopub.status.busy": "2023-12-17T11:29:25.939301Z",
     "iopub.status.idle": "2023-12-17T11:29:26.188482Z",
     "shell.execute_reply": "2023-12-17T11:29:26.187979Z"
    }
   },
   "outputs": [
    {
     "data": {
      "text/plain": [
       "{1940, 1952, 1964, 1976, 1988, 2000}"
      ]
     },
     "execution_count": 23,
     "metadata": {},
     "output_type": "execute_result"
    }
   ],
   "source": [
    "chinese_sign_years(customers, ChineseZodiac.Dragon)"
   ]
  },
  {
   "cell_type": "code",
   "execution_count": 24,
   "id": "8e930741",
   "metadata": {
    "execution": {
     "iopub.execute_input": "2023-12-17T11:29:26.191310Z",
     "iopub.status.busy": "2023-12-17T11:29:26.191110Z",
     "iopub.status.idle": "2023-12-17T11:29:26.196139Z",
     "shell.execute_reply": "2023-12-17T11:29:26.195789Z"
    }
   },
   "outputs": [],
   "source": [
    "def western_astrology_with_chinese_dates(\n",
    "    western_astrology_sign: ZodiacSign = ZodiacSign.Cancer,\n",
    "    chinese_astrology_animal: ChineseZodiac = ChineseZodiac.Rabbit,\n",
    ") -> list[pd.Timestamp]:\n",
    "    \"\"\"\n",
    "    Retrieves a list of timestamps representing the overlapping periods between\n",
    "    Western astrology sign dates and Chinese astrology birth years.\n",
    "\n",
    "    Parameters\n",
    "    ----------\n",
    "    western_astrology_sign : ZodiacSign, optional\n",
    "        The Western astrology sign for which to retrieve overlapping dates.\n",
    "        By default, uses ZodiacSign.Cancer.\n",
    "    chinese_astrology_animal : ChineseZodiac, optional\n",
    "        The Chinese astrology animal for which to retrieve overlapping dates.\n",
    "        By default, uses ChineseZodiac.Rabbit.\n",
    "\n",
    "    Returns\n",
    "    -------\n",
    "    list[pd.Timestamp]\n",
    "        A list of timestamps representing the overlapping periods between the\n",
    "        specified Western astrology sign and Chinese astrology birth years.\n",
    "    \"\"\"\n",
    "\n",
    "    sign_dict: dict[str, list[str | int]] = zodiac_characteristics(\n",
    "        zodiac_sign=western_astrology_sign\n",
    "    )\n",
    "    animal_years: set[int] = chinese_sign_years(\n",
    "        chinese_zodiac_animal=chinese_astrology_animal\n",
    "    )\n",
    "\n",
    "    months: list[int] = sign_dict[\"month\"]\n",
    "    start_month, end_month = months\n",
    "\n",
    "    days: list[int] = sign_dict[\"days\"]\n",
    "    start_day, end_day = days\n",
    "\n",
    "    return [\n",
    "        pd.Period.to_timestamp(date)\n",
    "        for date in np.concatenate(\n",
    "            [\n",
    "                pd.period_range(\n",
    "                    start=pd.Timestamp(f\"{start_month}/{start_day}/{animal_year}\"),\n",
    "                    end=pd.Timestamp(f\"{end_month}/{end_day}/{animal_year}\"),\n",
    "                )\n",
    "                for animal_year in sorted(animal_years)\n",
    "            ],\n",
    "            axis=0,\n",
    "        )\n",
    "    ]"
   ]
  },
  {
   "cell_type": "code",
   "execution_count": 25,
   "id": "6d5e308c",
   "metadata": {
    "execution": {
     "iopub.execute_input": "2023-12-17T11:29:26.198217Z",
     "iopub.status.busy": "2023-12-17T11:29:26.198058Z",
     "iopub.status.idle": "2023-12-17T11:29:26.445198Z",
     "shell.execute_reply": "2023-12-17T11:29:26.444889Z"
    }
   },
   "outputs": [
    {
     "data": {
      "text/plain": [
       "0     1940-11-23\n",
       "1     1940-11-24\n",
       "2     1940-11-25\n",
       "3     1940-11-26\n",
       "4     1940-11-27\n",
       "         ...    \n",
       "169   2000-12-17\n",
       "170   2000-12-18\n",
       "171   2000-12-19\n",
       "172   2000-12-20\n",
       "173   2000-12-21\n",
       "Length: 174, dtype: datetime64[ns]"
      ]
     },
     "execution_count": 25,
     "metadata": {},
     "output_type": "execute_result"
    }
   ],
   "source": [
    "pd.Series(\n",
    "    western_astrology_with_chinese_dates(ZodiacSign.Sagittarius, ChineseZodiac.Dragon)\n",
    ")"
   ]
  },
  {
   "cell_type": "code",
   "execution_count": 26,
   "id": "7a135eb2",
   "metadata": {
    "execution": {
     "iopub.execute_input": "2023-12-17T11:29:26.447252Z",
     "iopub.status.busy": "2023-12-17T11:29:26.447113Z",
     "iopub.status.idle": "2023-12-17T11:29:26.450105Z",
     "shell.execute_reply": "2023-12-17T11:29:26.449755Z"
    }
   },
   "outputs": [],
   "source": [
    "def three_the_neighbor(\n",
    "    customers_df: pd.DataFrame = customers,\n",
    "    western_astrology_sign: ZodiacSign = ZodiacSign.Cancer,\n",
    "    chinese_astrology_animal: ChineseZodiac = ChineseZodiac.Rabbit,\n",
    ") -> pd.DataFrame:\n",
    "    dates = western_astrology_with_chinese_dates(\n",
    "        western_astrology_sign, chinese_astrology_animal\n",
    "    )\n",
    "    the_contractor = two_the_contractor()\n",
    "    return (\n",
    "        customers_df.loc[customers_df[\"birthdate\"].isin(dates)]\n",
    "        .assign(\n",
    "            zip_code=lambda d: d[\"citystatezip\"].str[-5:],\n",
    "            neighbor=lambda d: d[\"zip_code\"]\n",
    "            == the_contractor[\"citystatezip\"].str[-5:].iloc[0],\n",
    "        )\n",
    "        .loc[lambda d: d[\"neighbor\"]]\n",
    "        .filter(customers_df.columns)\n",
    "    )"
   ]
  },
  {
   "cell_type": "code",
   "execution_count": 27,
   "id": "b0a0d937",
   "metadata": {
    "execution": {
     "iopub.execute_input": "2023-12-17T11:29:26.451896Z",
     "iopub.status.busy": "2023-12-17T11:29:26.451766Z",
     "iopub.status.idle": "2023-12-17T11:29:26.859622Z",
     "shell.execute_reply": "2023-12-17T11:29:26.859328Z"
    }
   },
   "outputs": [
    {
     "data": {
      "text/html": [
       "<div>\n",
       "<style scoped>\n",
       "    .dataframe tbody tr th:only-of-type {\n",
       "        vertical-align: middle;\n",
       "    }\n",
       "\n",
       "    .dataframe tbody tr th {\n",
       "        vertical-align: top;\n",
       "    }\n",
       "\n",
       "    .dataframe thead th {\n",
       "        text-align: right;\n",
       "    }\n",
       "</style>\n",
       "<table border=\"1\" class=\"dataframe\">\n",
       "  <thead>\n",
       "    <tr style=\"text-align: right;\">\n",
       "      <th></th>\n",
       "      <th>customerid</th>\n",
       "      <th>name</th>\n",
       "      <th>address</th>\n",
       "      <th>citystatezip</th>\n",
       "      <th>birthdate</th>\n",
       "      <th>phone</th>\n",
       "      <th>timezone</th>\n",
       "      <th>lat</th>\n",
       "      <th>long</th>\n",
       "    </tr>\n",
       "  </thead>\n",
       "  <tbody>\n",
       "    <tr>\n",
       "      <th>1549</th>\n",
       "      <td>2550</td>\n",
       "      <td>Robert Morton</td>\n",
       "      <td>145-51 107th Ave</td>\n",
       "      <td>Jamaica, NY 11435</td>\n",
       "      <td>1999-07-08</td>\n",
       "      <td>917-288-9635</td>\n",
       "      <td>America/New_York</td>\n",
       "      <td>40.68959</td>\n",
       "      <td>-73.80487</td>\n",
       "    </tr>\n",
       "  </tbody>\n",
       "</table>\n",
       "</div>"
      ],
      "text/plain": [
       "      customerid           name           address       citystatezip  \\\n",
       "1549        2550  Robert Morton  145-51 107th Ave  Jamaica, NY 11435   \n",
       "\n",
       "      birthdate         phone          timezone       lat      long  \n",
       "1549 1999-07-08  917-288-9635  America/New_York  40.68959 -73.80487  "
      ]
     },
     "metadata": {},
     "output_type": "display_data"
    }
   ],
   "source": [
    "customers.pipe(three_the_neighbor).pipe(display)"
   ]
  },
  {
   "cell_type": "code",
   "execution_count": 28,
   "id": "e4c18f8e",
   "metadata": {
    "execution": {
     "iopub.execute_input": "2023-12-17T11:29:26.861311Z",
     "iopub.status.busy": "2023-12-17T11:29:26.861185Z",
     "iopub.status.idle": "2023-12-17T11:29:27.256818Z",
     "shell.execute_reply": "2023-12-17T11:29:27.256451Z"
    },
    "lines_to_next_cell": 2
   },
   "outputs": [
    {
     "data": {
      "text/plain": [
       "'917-288-9635'"
      ]
     },
     "execution_count": 28,
     "metadata": {},
     "output_type": "execute_result"
    }
   ],
   "source": [
    "customers.pipe(three_the_neighbor).pipe(answer)"
   ]
  },
  {
   "cell_type": "code",
   "execution_count": 29,
   "id": "30d993b0",
   "metadata": {
    "execution": {
     "iopub.execute_input": "2023-12-17T11:29:27.258616Z",
     "iopub.status.busy": "2023-12-17T11:29:27.258499Z",
     "iopub.status.idle": "2023-12-17T11:29:27.260324Z",
     "shell.execute_reply": "2023-12-17T11:29:27.260058Z"
    }
   },
   "outputs": [],
   "source": [
    "del zodiac"
   ]
  },
  {
   "cell_type": "markdown",
   "id": "74b7d935",
   "metadata": {
    "lines_to_next_cell": 2
   },
   "source": [
    "## 4. The Early Bird\n",
    "\n",
    "The investigator called the phone number you found and left a message, and a\n",
    "man soon called back:\n",
    "\n",
    "“Wow, that was years ago! It was quite an elegant tapestry.\n",
    "\n",
    "“It took a lot of patience, but I did manage to get the dirt out of one\n",
    "section, which uncovered a superb owl. I put it up on my wall, and sometimes\n",
    "at night I swear I could hear the owl hooting.\n",
    "\n",
    "“A few weeks later my bike chain broke on the way home, and I needed to get it\n",
    "fixed before work the next day. Thankfully, this woman I met on Tinder came\n",
    "over at 5am with her bike chain repair kit and some pastries from Noah’s.\n",
    "Apparently she liked to get up before dawn and claim the first pastries that\n",
    "came out of the oven.\n",
    "\n",
    "“I didn’t have any money or I would’ve paid her for her trouble. She really\n",
    "liked the tapestry, though, so I wound up giving it to her.\n",
    "\n",
    "“I don’t remember her name or anything else about her.”\n",
    "\n",
    "Can you find the bicycle fixer’s phone number?"
   ]
  },
  {
   "cell_type": "code",
   "execution_count": 30,
   "id": "97774fcc",
   "metadata": {
    "execution": {
     "iopub.execute_input": "2023-12-17T11:29:27.262209Z",
     "iopub.status.busy": "2023-12-17T11:29:27.262110Z",
     "iopub.status.idle": "2023-12-17T11:29:27.264369Z",
     "shell.execute_reply": "2023-12-17T11:29:27.264149Z"
    }
   },
   "outputs": [],
   "source": [
    "def earlybird_customer_id(\n",
    "    orders_df: pd.DataFrame = orders, orders_items_df: pd.DataFrame = orders_items\n",
    ") -> int:\n",
    "    return (\n",
    "        orders_df.loc[\n",
    "            (orders_df[\"ordered\"].dt.hour < 5) & (orders_df[\"shipped\"].dt.hour < 5)\n",
    "        ]\n",
    "        .merge(orders_items_df, on=\"orderid\")\n",
    "        .loc[lambda d: (d[\"sku\"].str[:3] == \"BKY\") & (d[\"qty\"] > 1), \"customerid\"]\n",
    "        .mode()\n",
    "        .iloc[0]\n",
    "    )"
   ]
  },
  {
   "cell_type": "code",
   "execution_count": 31,
   "id": "f885fa7d",
   "metadata": {
    "execution": {
     "iopub.execute_input": "2023-12-17T11:29:27.265813Z",
     "iopub.status.busy": "2023-12-17T11:29:27.265714Z",
     "iopub.status.idle": "2023-12-17T11:29:27.298466Z",
     "shell.execute_reply": "2023-12-17T11:29:27.298206Z"
    }
   },
   "outputs": [
    {
     "data": {
      "text/plain": [
       "2749"
      ]
     },
     "execution_count": 31,
     "metadata": {},
     "output_type": "execute_result"
    }
   ],
   "source": [
    "earlybird_customer_id()"
   ]
  },
  {
   "cell_type": "code",
   "execution_count": 32,
   "id": "2d7ad299",
   "metadata": {
    "execution": {
     "iopub.execute_input": "2023-12-17T11:29:27.300027Z",
     "iopub.status.busy": "2023-12-17T11:29:27.299940Z",
     "iopub.status.idle": "2023-12-17T11:29:27.301876Z",
     "shell.execute_reply": "2023-12-17T11:29:27.301623Z"
    }
   },
   "outputs": [],
   "source": [
    "def four_the_early_bird(customers_df: pd.DataFrame = customers) -> pd.DataFrame:\n",
    "    earlybird_customer: int = earlybird_customer_id()\n",
    "    return customers_df.loc[customers_df[\"customerid\"] == earlybird_customer]"
   ]
  },
  {
   "cell_type": "code",
   "execution_count": 33,
   "id": "5e1dbaee",
   "metadata": {
    "execution": {
     "iopub.execute_input": "2023-12-17T11:29:27.303269Z",
     "iopub.status.busy": "2023-12-17T11:29:27.303172Z",
     "iopub.status.idle": "2023-12-17T11:29:27.333653Z",
     "shell.execute_reply": "2023-12-17T11:29:27.333369Z"
    }
   },
   "outputs": [
    {
     "data": {
      "text/html": [
       "<div>\n",
       "<style scoped>\n",
       "    .dataframe tbody tr th:only-of-type {\n",
       "        vertical-align: middle;\n",
       "    }\n",
       "\n",
       "    .dataframe tbody tr th {\n",
       "        vertical-align: top;\n",
       "    }\n",
       "\n",
       "    .dataframe thead th {\n",
       "        text-align: right;\n",
       "    }\n",
       "</style>\n",
       "<table border=\"1\" class=\"dataframe\">\n",
       "  <thead>\n",
       "    <tr style=\"text-align: right;\">\n",
       "      <th></th>\n",
       "      <th>customerid</th>\n",
       "      <th>name</th>\n",
       "      <th>address</th>\n",
       "      <th>citystatezip</th>\n",
       "      <th>birthdate</th>\n",
       "      <th>phone</th>\n",
       "      <th>timezone</th>\n",
       "      <th>lat</th>\n",
       "      <th>long</th>\n",
       "    </tr>\n",
       "  </thead>\n",
       "  <tbody>\n",
       "    <tr>\n",
       "      <th>1748</th>\n",
       "      <td>2749</td>\n",
       "      <td>Renee Harmon</td>\n",
       "      <td>7A Nassau Ave</td>\n",
       "      <td>Brooklyn, NY 11222</td>\n",
       "      <td>1999-01-14</td>\n",
       "      <td>607-231-3605</td>\n",
       "      <td>America/New_York</td>\n",
       "      <td>40.72347</td>\n",
       "      <td>-73.95097</td>\n",
       "    </tr>\n",
       "  </tbody>\n",
       "</table>\n",
       "</div>"
      ],
      "text/plain": [
       "      customerid          name        address        citystatezip  birthdate  \\\n",
       "1748        2749  Renee Harmon  7A Nassau Ave  Brooklyn, NY 11222 1999-01-14   \n",
       "\n",
       "             phone          timezone       lat      long  \n",
       "1748  607-231-3605  America/New_York  40.72347 -73.95097  "
      ]
     },
     "metadata": {},
     "output_type": "display_data"
    }
   ],
   "source": [
    "customers.pipe(four_the_early_bird).pipe(display)"
   ]
  },
  {
   "cell_type": "code",
   "execution_count": 34,
   "id": "913ed6b1",
   "metadata": {
    "execution": {
     "iopub.execute_input": "2023-12-17T11:29:27.335250Z",
     "iopub.status.busy": "2023-12-17T11:29:27.335151Z",
     "iopub.status.idle": "2023-12-17T11:29:27.389669Z",
     "shell.execute_reply": "2023-12-17T11:29:27.389286Z"
    },
    "lines_to_next_cell": 2
   },
   "outputs": [
    {
     "data": {
      "text/plain": [
       "'607-231-3605'"
      ]
     },
     "execution_count": 34,
     "metadata": {},
     "output_type": "execute_result"
    }
   ],
   "source": [
    "customers.pipe(four_the_early_bird).pipe(answer)"
   ]
  },
  {
   "cell_type": "markdown",
   "id": "a5a24a45",
   "metadata": {
    "lines_to_next_cell": 2
   },
   "source": [
    "## 5. The Cat Lady\n",
    "\n",
    "“Yes, I did have that tapestry for a little bit. I even cleaned a blotchy\n",
    "section that turned out to be a friendly koala.\n",
    "\n",
    "“But it was still really dirty, so when I was going through a Marie Kondo\n",
    "phase, I decided it wasn’t sparking joy anymore.\n",
    "\n",
    "“I listed it on Freecycle, and a woman in Staten Island came to pick it up.\n",
    "She was wearing a ‘Noah’s Market’ sweatshirt, and it was just covered in cat\n",
    "hair. When I suggested that a clowder of cats might ruin such a fine tapestry,\n",
    "she looked at me funny. She said “I only have ten or eleven cats, and anyway\n",
    "they are getting quite old now, so I doubt they’d care about some old rug.”\n",
    "\n",
    "“It took her 20 minutes to stuff the tapestry into some plastic bags she\n",
    "brought because it was raining. I spent the evening cleaning my apartment.”\n",
    "\n",
    "What’s the phone number of the woman from Freecycle?"
   ]
  },
  {
   "cell_type": "code",
   "execution_count": 35,
   "id": "6867273b",
   "metadata": {
    "execution": {
     "iopub.execute_input": "2023-12-17T11:29:27.391616Z",
     "iopub.status.busy": "2023-12-17T11:29:27.391483Z",
     "iopub.status.idle": "2023-12-17T11:29:27.394913Z",
     "shell.execute_reply": "2023-12-17T11:29:27.394651Z"
    }
   },
   "outputs": [],
   "source": [
    "def top_customers_id_cat_products(\n",
    "    customers_df: pd.DataFrame = customers,\n",
    "    orders_df: pd.DataFrame = orders,\n",
    "    orders_items_df: pd.DataFrame = orders_items,\n",
    "    products_df: pd.DataFrame = products,\n",
    "    new_york_borough: str = \"Staten Island\",\n",
    ") -> pd.Series:\n",
    "    \"\"\"\n",
    "    Returns the mode (most frequent) customer ID of customers in a specified New\n",
    "    York borough who have purchased products containing the term \"cat\" in their\n",
    "    description.\n",
    "\n",
    "    Parameters\n",
    "    ----------\n",
    "    customers_df : pd.DataFrame, optional\n",
    "        DataFrame containing customer information, by default customers\n",
    "    orders_df : pd.DataFrame, optional\n",
    "        DataFrame containing order information, by default orders\n",
    "    orders_items_df : pd.DataFrame, optional\n",
    "        DataFrame containing order items information, by default orders_items\n",
    "    products_df : pd.DataFrame, optional\n",
    "        DataFrame containing product information, by default products\n",
    "    new_york_borough : str, optional\n",
    "        Name of the New York borough to filter customers, by default \"Staten\n",
    "        Island\"\n",
    "\n",
    "    Returns\n",
    "    -------\n",
    "    pd.Series\n",
    "        Series containing the mode customer ID of customers meeting the\n",
    "        specified criteria.\n",
    "    \"\"\"\n",
    "    return pd.Series(\n",
    "        customers_df.loc[\n",
    "            customers_df[\"citystatezip\"].str.split(\",\").str[0] == new_york_borough\n",
    "        ]\n",
    "        .merge(orders_df, on=\"customerid\")\n",
    "        .merge(orders_items_df, on=\"orderid\")\n",
    "        .merge(products_df, on=\"sku\")\n",
    "        .loc[\n",
    "            lambda d: d[\"sku\"].isin(\n",
    "                products_df.loc[\n",
    "                    products_df[\"desc\"].str.contains(\"senior cat\", case=False)\n",
    "                ]\n",
    "                .agg({\"sku\": \"unique\"})\n",
    "                .squeeze()\n",
    "            )\n",
    "        ]\n",
    "        .agg({\"customerid\": \"mode\"})\n",
    "        .squeeze()\n",
    "    )"
   ]
  },
  {
   "cell_type": "code",
   "execution_count": 36,
   "id": "7d0dbff9",
   "metadata": {
    "execution": {
     "iopub.execute_input": "2023-12-17T11:29:27.396322Z",
     "iopub.status.busy": "2023-12-17T11:29:27.396244Z",
     "iopub.status.idle": "2023-12-17T11:29:27.435428Z",
     "shell.execute_reply": "2023-12-17T11:29:27.435141Z"
    }
   },
   "outputs": [
    {
     "data": {
      "text/plain": [
       "0    3068\n",
       "dtype: int64"
      ]
     },
     "execution_count": 36,
     "metadata": {},
     "output_type": "execute_result"
    }
   ],
   "source": [
    "customers.pipe(top_customers_id_cat_products)"
   ]
  },
  {
   "cell_type": "code",
   "execution_count": 37,
   "id": "b5a4481d",
   "metadata": {
    "execution": {
     "iopub.execute_input": "2023-12-17T11:29:27.436985Z",
     "iopub.status.busy": "2023-12-17T11:29:27.436900Z",
     "iopub.status.idle": "2023-12-17T11:29:27.439155Z",
     "shell.execute_reply": "2023-12-17T11:29:27.438888Z"
    }
   },
   "outputs": [],
   "source": [
    "def five_the_cat_lady(customers_df: pd.DataFrame = customers) -> pd.DataFrame:\n",
    "    \"\"\"\n",
    "    Filters and returns a DataFrame containing information about customers who\n",
    "    are identified as top customers based on their purchase history of products\n",
    "    containing the term \"cat\" in the description.\n",
    "\n",
    "    Parameters\n",
    "    ----------\n",
    "    customers_df : pd.DataFrame, optional\n",
    "        DataFrame containing customer information, by default customers\n",
    "\n",
    "    Returns\n",
    "    -------\n",
    "    pd.DataFrame\n",
    "        DataFrame containing information about customers identified as top\n",
    "        customers based on their purchase history of \"cat\" products.\n",
    "    \"\"\"\n",
    "    top_customers_id_cat_products_series: pd.Series = top_customers_id_cat_products()\n",
    "    return customers_df.loc[\n",
    "        customers_df[\"customerid\"].isin(top_customers_id_cat_products_series)\n",
    "    ]"
   ]
  },
  {
   "cell_type": "code",
   "execution_count": 38,
   "id": "6540c279",
   "metadata": {
    "execution": {
     "iopub.execute_input": "2023-12-17T11:29:27.440552Z",
     "iopub.status.busy": "2023-12-17T11:29:27.440457Z",
     "iopub.status.idle": "2023-12-17T11:29:27.483881Z",
     "shell.execute_reply": "2023-12-17T11:29:27.483592Z"
    }
   },
   "outputs": [
    {
     "data": {
      "text/html": [
       "<div>\n",
       "<style scoped>\n",
       "    .dataframe tbody tr th:only-of-type {\n",
       "        vertical-align: middle;\n",
       "    }\n",
       "\n",
       "    .dataframe tbody tr th {\n",
       "        vertical-align: top;\n",
       "    }\n",
       "\n",
       "    .dataframe thead th {\n",
       "        text-align: right;\n",
       "    }\n",
       "</style>\n",
       "<table border=\"1\" class=\"dataframe\">\n",
       "  <thead>\n",
       "    <tr style=\"text-align: right;\">\n",
       "      <th></th>\n",
       "      <th>customerid</th>\n",
       "      <th>name</th>\n",
       "      <th>address</th>\n",
       "      <th>citystatezip</th>\n",
       "      <th>birthdate</th>\n",
       "      <th>phone</th>\n",
       "      <th>timezone</th>\n",
       "      <th>lat</th>\n",
       "      <th>long</th>\n",
       "    </tr>\n",
       "  </thead>\n",
       "  <tbody>\n",
       "    <tr>\n",
       "      <th>2067</th>\n",
       "      <td>3068</td>\n",
       "      <td>Nicole Wilson</td>\n",
       "      <td>208 Ramapo Ave</td>\n",
       "      <td>Staten Island, NY 10309</td>\n",
       "      <td>1967-06-21</td>\n",
       "      <td>631-507-6048</td>\n",
       "      <td>America/New_York</td>\n",
       "      <td>40.53984</td>\n",
       "      <td>-74.20782</td>\n",
       "    </tr>\n",
       "  </tbody>\n",
       "</table>\n",
       "</div>"
      ],
      "text/plain": [
       "      customerid           name         address             citystatezip  \\\n",
       "2067        3068  Nicole Wilson  208 Ramapo Ave  Staten Island, NY 10309   \n",
       "\n",
       "      birthdate         phone          timezone       lat      long  \n",
       "2067 1967-06-21  631-507-6048  America/New_York  40.53984 -74.20782  "
      ]
     },
     "execution_count": 38,
     "metadata": {},
     "output_type": "execute_result"
    }
   ],
   "source": [
    "customers.pipe(five_the_cat_lady)"
   ]
  },
  {
   "cell_type": "code",
   "execution_count": 39,
   "id": "f0c0d734",
   "metadata": {
    "execution": {
     "iopub.execute_input": "2023-12-17T11:29:27.485485Z",
     "iopub.status.busy": "2023-12-17T11:29:27.485377Z",
     "iopub.status.idle": "2023-12-17T11:29:27.521009Z",
     "shell.execute_reply": "2023-12-17T11:29:27.520759Z"
    }
   },
   "outputs": [
    {
     "data": {
      "text/html": [
       "<div>\n",
       "<style scoped>\n",
       "    .dataframe tbody tr th:only-of-type {\n",
       "        vertical-align: middle;\n",
       "    }\n",
       "\n",
       "    .dataframe tbody tr th {\n",
       "        vertical-align: top;\n",
       "    }\n",
       "\n",
       "    .dataframe thead th {\n",
       "        text-align: right;\n",
       "    }\n",
       "</style>\n",
       "<table border=\"1\" class=\"dataframe\">\n",
       "  <thead>\n",
       "    <tr style=\"text-align: right;\">\n",
       "      <th></th>\n",
       "      <th>customerid</th>\n",
       "      <th>name</th>\n",
       "      <th>address</th>\n",
       "      <th>citystatezip</th>\n",
       "      <th>birthdate</th>\n",
       "      <th>phone</th>\n",
       "      <th>timezone</th>\n",
       "      <th>lat</th>\n",
       "      <th>long</th>\n",
       "    </tr>\n",
       "  </thead>\n",
       "  <tbody>\n",
       "    <tr>\n",
       "      <th>2067</th>\n",
       "      <td>3068</td>\n",
       "      <td>Nicole Wilson</td>\n",
       "      <td>208 Ramapo Ave</td>\n",
       "      <td>Staten Island, NY 10309</td>\n",
       "      <td>1967-06-21</td>\n",
       "      <td>631-507-6048</td>\n",
       "      <td>America/New_York</td>\n",
       "      <td>40.53984</td>\n",
       "      <td>-74.20782</td>\n",
       "    </tr>\n",
       "  </tbody>\n",
       "</table>\n",
       "</div>"
      ],
      "text/plain": [
       "      customerid           name         address             citystatezip  \\\n",
       "2067        3068  Nicole Wilson  208 Ramapo Ave  Staten Island, NY 10309   \n",
       "\n",
       "      birthdate         phone          timezone       lat      long  \n",
       "2067 1967-06-21  631-507-6048  America/New_York  40.53984 -74.20782  "
      ]
     },
     "metadata": {},
     "output_type": "display_data"
    }
   ],
   "source": [
    "(customers.pipe(five_the_cat_lady).pipe(display))"
   ]
  },
  {
   "cell_type": "code",
   "execution_count": 40,
   "id": "a905f3b6",
   "metadata": {
    "execution": {
     "iopub.execute_input": "2023-12-17T11:29:27.522577Z",
     "iopub.status.busy": "2023-12-17T11:29:27.522478Z",
     "iopub.status.idle": "2023-12-17T11:29:27.577507Z",
     "shell.execute_reply": "2023-12-17T11:29:27.577174Z"
    },
    "lines_to_next_cell": 2
   },
   "outputs": [
    {
     "data": {
      "text/plain": [
       "'631-507-6048'"
      ]
     },
     "execution_count": 40,
     "metadata": {},
     "output_type": "execute_result"
    }
   ],
   "source": [
    "(customers.pipe(five_the_cat_lady).pipe(answer))"
   ]
  },
  {
   "cell_type": "markdown",
   "id": "a93d9e28",
   "metadata": {
    "lines_to_next_cell": 2
   },
   "source": [
    "## 6. The Bargain Hunter\n",
    "\n",
    "“Why yes, I did have that rug for a little while in my living room! My cats\n",
    "can’t see a thing but they sure chased after the squirrel on it like it was\n",
    "dancing in front of their noses.\n",
    "\n",
    "“It was a nice rug and they were surely going to ruin it, so I gave it to my\n",
    "cousin, who was moving into a new place that had wood floors.\n",
    "\n",
    "“She refused to buy a new rug for herself–she said they were way too\n",
    "expensive. She’s always been very frugal, and she clips every coupon and shops\n",
    "every sale at Noah’s Market. In fact I like to tease her that Noah actually\n",
    "loses money whenever she comes in the store.\n",
    "\n",
    "“I think she’s been taking it too far lately though. Once the subway fare\n",
    "increased, she stopped coming to visit me. And she’s really slow to respond to\n",
    "my texts. I hope she remembers to invite me to the family reunion next year.”\n",
    "\n",
    "Can you find her cousin’s phone number?"
   ]
  },
  {
   "cell_type": "code",
   "execution_count": 41,
   "id": "61edb43a",
   "metadata": {
    "execution": {
     "iopub.execute_input": "2023-12-17T11:29:27.579384Z",
     "iopub.status.busy": "2023-12-17T11:29:27.579264Z",
     "iopub.status.idle": "2023-12-17T11:29:27.582484Z",
     "shell.execute_reply": "2023-12-17T11:29:27.582190Z"
    }
   },
   "outputs": [],
   "source": [
    "def six_the_bargain_hunter(\n",
    "    customers_df: pd.DataFrame = customers,\n",
    "    orders_df: pd.DataFrame = orders,\n",
    "    orders_items_df: pd.DataFrame = orders_items,\n",
    "    products_df: pd.DataFrame = products,\n",
    ") -> pd.DataFrame:\n",
    "    \"\"\"\n",
    "    Filters a DataFrame of customers to include only those who are identified as\n",
    "    savvy bargain hunters.\n",
    "\n",
    "    Parameters\n",
    "    ----------\n",
    "    customers_df : pd.DataFrame, optional\n",
    "        DataFrame containing customer information, by default customers.\n",
    "    orders_df : pd.DataFrame, optional\n",
    "        DataFrame containing order information, by default orders.\n",
    "    orders_items_df : pd.DataFrame, optional\n",
    "        DataFrame containing order items information, by default orders_items.\n",
    "    products_df : pd.DataFrame, optional\n",
    "        DataFrame containing product information, by default products.\n",
    "\n",
    "    Returns\n",
    "    -------\n",
    "    pd.DataFrame\n",
    "        DataFrame containing information about customers identified as savvy\n",
    "        bargain hunters.\n",
    "\n",
    "    Notes\n",
    "    -----\n",
    "    This function identifies customers who are considered bargain hunters based\n",
    "    on their purchase behavior. The criteria include purchasing products at a\n",
    "    unit price less than or equal to the wholesale cost. The resulting DataFrame\n",
    "    includes customer information for those who meet the specified criteria.\n",
    "    \"\"\"\n",
    "    bh_customer_id = (\n",
    "        orders_items_df.groupby([\"sku\", \"orderid\"], as_index=False)\n",
    "        .agg({\"unit_price\": \"min\"})\n",
    "        .merge(products_df, on=\"sku\")\n",
    "        .loc[lambda d: d[\"unit_price\"] <= d[\"wholesale_cost\"]]\n",
    "        .merge(orders_df, on=\"orderid\")\n",
    "        .merge(customers_df, on=\"customerid\")\n",
    "        .agg({\"customerid\": \"mode\"})\n",
    "        .iloc[0]\n",
    "    )\n",
    "\n",
    "    return customers_df.loc[customers_df[\"customerid\"].isin(bh_customer_id)]"
   ]
  },
  {
   "cell_type": "code",
   "execution_count": 42,
   "id": "492ed0db",
   "metadata": {
    "execution": {
     "iopub.execute_input": "2023-12-17T11:29:27.583956Z",
     "iopub.status.busy": "2023-12-17T11:29:27.583869Z",
     "iopub.status.idle": "2023-12-17T11:29:27.727487Z",
     "shell.execute_reply": "2023-12-17T11:29:27.727211Z"
    }
   },
   "outputs": [
    {
     "data": {
      "text/html": [
       "<div>\n",
       "<style scoped>\n",
       "    .dataframe tbody tr th:only-of-type {\n",
       "        vertical-align: middle;\n",
       "    }\n",
       "\n",
       "    .dataframe tbody tr th {\n",
       "        vertical-align: top;\n",
       "    }\n",
       "\n",
       "    .dataframe thead th {\n",
       "        text-align: right;\n",
       "    }\n",
       "</style>\n",
       "<table border=\"1\" class=\"dataframe\">\n",
       "  <thead>\n",
       "    <tr style=\"text-align: right;\">\n",
       "      <th></th>\n",
       "      <th>customerid</th>\n",
       "      <th>name</th>\n",
       "      <th>address</th>\n",
       "      <th>citystatezip</th>\n",
       "      <th>birthdate</th>\n",
       "      <th>phone</th>\n",
       "      <th>timezone</th>\n",
       "      <th>lat</th>\n",
       "      <th>long</th>\n",
       "    </tr>\n",
       "  </thead>\n",
       "  <tbody>\n",
       "    <tr>\n",
       "      <th>3166</th>\n",
       "      <td>4167</td>\n",
       "      <td>Sherri Long</td>\n",
       "      <td>2092 Seward Ave</td>\n",
       "      <td>Bronx, NY 10473</td>\n",
       "      <td>1975-04-09</td>\n",
       "      <td>585-838-9161</td>\n",
       "      <td>America/New_York</td>\n",
       "      <td>40.8182</td>\n",
       "      <td>-73.86752</td>\n",
       "    </tr>\n",
       "  </tbody>\n",
       "</table>\n",
       "</div>"
      ],
      "text/plain": [
       "      customerid         name          address     citystatezip  birthdate  \\\n",
       "3166        4167  Sherri Long  2092 Seward Ave  Bronx, NY 10473 1975-04-09   \n",
       "\n",
       "             phone          timezone      lat      long  \n",
       "3166  585-838-9161  America/New_York  40.8182 -73.86752  "
      ]
     },
     "metadata": {},
     "output_type": "display_data"
    }
   ],
   "source": [
    "customers.pipe(six_the_bargain_hunter).pipe(display)"
   ]
  },
  {
   "cell_type": "code",
   "execution_count": 43,
   "id": "84755c75",
   "metadata": {
    "execution": {
     "iopub.execute_input": "2023-12-17T11:29:27.729085Z",
     "iopub.status.busy": "2023-12-17T11:29:27.728972Z",
     "iopub.status.idle": "2023-12-17T11:29:27.889209Z",
     "shell.execute_reply": "2023-12-17T11:29:27.888830Z"
    },
    "lines_to_next_cell": 2
   },
   "outputs": [
    {
     "data": {
      "text/plain": [
       "'585-838-9161'"
      ]
     },
     "execution_count": 43,
     "metadata": {},
     "output_type": "execute_result"
    }
   ],
   "source": [
    "customers.pipe(six_the_bargain_hunter).pipe(answer)"
   ]
  },
  {
   "cell_type": "markdown",
   "id": "7d6b0160",
   "metadata": {
    "lines_to_next_cell": 2
   },
   "source": [
    "## 7. The Meet Cute\n",
    "\n",
    "“Oh that tapestry, with the colorful toucan on it! I’ll tell you what happened\n",
    "to it.\n",
    "\n",
    "“One day, I was at Noah’s Market, and I was just about to leave when someone\n",
    "behind me said ‘Miss! You dropped something!’\n",
    "\n",
    "“Well I turned around to see this cute guy holding an item I had bought. He\n",
    "said, ‘I got the same thing!’ We laughed about it and wound up swapping items\n",
    "because I wanted the color he got. We had a moment when our eyes met and my\n",
    "heart stopped for a second. I asked him to get some food with me and we spent\n",
    "the rest of the day together.\n",
    "\n",
    "“Before long I moved into his place, but the romance faded quickly, as he\n",
    "wasn’t the prince I imagined. I left abruptly one night, forgetting the\n",
    "tapestry on his wall. But by then, it symbolized our love, and I wanted\n",
    "nothing more to do with it. For all I know, he still has it.”\n",
    "\n",
    "Can you figure out her ex-boyfriend’s phone number?"
   ]
  },
  {
   "cell_type": "code",
   "execution_count": 44,
   "id": "ba8c183b",
   "metadata": {
    "execution": {
     "iopub.execute_input": "2023-12-17T11:29:27.891008Z",
     "iopub.status.busy": "2023-12-17T11:29:27.890877Z",
     "iopub.status.idle": "2023-12-17T11:29:27.893253Z",
     "shell.execute_reply": "2023-12-17T11:29:27.893006Z"
    }
   },
   "outputs": [],
   "source": [
    "def date_hour_mm(orders_df: pd.DataFrame = orders) -> pd.DataFrame:\n",
    "    \"\"\"\n",
    "    Extracts and formats the date and hour from the 'ordered' column in a\n",
    "    DataFrame of order information.\n",
    "\n",
    "    Parameters\n",
    "    ----------\n",
    "    orders_df : pd.DataFrame, optional\n",
    "        DataFrame containing order information, by default orders.\n",
    "\n",
    "    Returns\n",
    "    -------\n",
    "    pd.DataFrame\n",
    "        DataFrame with an additional 'date_hour' column representing the\n",
    "        formatted date and hour.\n",
    "\n",
    "    Notes\n",
    "    -----\n",
    "    This function extracts the date and hour information from the 'ordered'\n",
    "    column and adds a new column 'date_hour' to the DataFrame. The 'date_hour'\n",
    "    column is formatted as 'MM/DD/YYYY HH:MM' to represent the month, day,\n",
    "    year, and hour of each order.\n",
    "    \"\"\"\n",
    "    return orders_df.assign(\n",
    "        date_hour=lambda df: df[\"ordered\"].dt.strftime(\"%m/%d/%Y %H:%M\")\n",
    "    )"
   ]
  },
  {
   "cell_type": "code",
   "execution_count": 45,
   "id": "19ff6d5f",
   "metadata": {
    "execution": {
     "iopub.execute_input": "2023-12-17T11:29:27.894765Z",
     "iopub.status.busy": "2023-12-17T11:29:27.894661Z",
     "iopub.status.idle": "2023-12-17T11:29:27.897281Z",
     "shell.execute_reply": "2023-12-17T11:29:27.897035Z"
    }
   },
   "outputs": [],
   "source": [
    "def color_agnostic_item_name(products_df: pd.DataFrame = products) -> pd.DataFrame:\n",
    "    \"\"\"\n",
    "    Generates a new column for items, removing color information to create\n",
    "    color-agnostic names.\n",
    "\n",
    "    Parameters\n",
    "    ----------\n",
    "    products_df : pd.DataFrame, optional\n",
    "        DataFrame containing product information, by default products.\n",
    "\n",
    "    Returns\n",
    "    -------\n",
    "    pd.DataFrame\n",
    "        DataFrame with an additional 'desc_color_agnostic' column representing\n",
    "        color-agnostic item names.\n",
    "\n",
    "    Notes\n",
    "    -----\n",
    "    This function creates a new column 'desc_color_agnostic' by removing color\n",
    "    information from the 'desc' column. It ensures that item names are\n",
    "    represented without specific color details.\n",
    "\n",
    "    Examples\n",
    "    --------\n",
    "    >>> color_agnostic_item_name(df)\n",
    "    # Returns a DataFrame with 'desc_color_agnostic' column:\n",
    "    # 'Manual Mixer (orange)' -> 'Manual Mixer'\n",
    "\n",
    "    \"\"\"\n",
    "    return (\n",
    "        products_df.assign(\n",
    "            color_list=lambda df: df[\"desc\"]\n",
    "            .str.split(\"(\")\n",
    "            .str[1]\n",
    "            .str.replace(\")\", \"\")\n",
    "            .str.split()\n",
    "        )\n",
    "        .assign(color=lambda df: df[\"color_list\"].str[0])\n",
    "        .dropna()\n",
    "        .loc[lambda df: df[\"color\"].str[0].str.islower()]\n",
    "        .drop(columns=[\"color_list\"])\n",
    "        .assign(desc_color_agnostic=lambda df: df[\"desc\"].str.split(r\" \\(\").str[0])\n",
    "    )"
   ]
  },
  {
   "cell_type": "code",
   "execution_count": 46,
   "id": "6e2496d3",
   "metadata": {
    "execution": {
     "iopub.execute_input": "2023-12-17T11:29:27.898721Z",
     "iopub.status.busy": "2023-12-17T11:29:27.898616Z",
     "iopub.status.idle": "2023-12-17T11:29:27.900543Z",
     "shell.execute_reply": "2023-12-17T11:29:27.900265Z"
    }
   },
   "outputs": [],
   "source": [
    "def filter_in_store_orders(orders_df: pd.DataFrame = orders) -> pd.DataFrame:\n",
    "    \"\"\"\n",
    "    Filters out in-store orders from a DataFrame of order information.\n",
    "\n",
    "    Parameters\n",
    "    ----------\n",
    "    orders_df : pd.DataFrame, optional\n",
    "        DataFrame containing order information, by default orders.\n",
    "\n",
    "    Returns\n",
    "    -------\n",
    "    pd.DataFrame\n",
    "        DataFrame with in-store orders removed.\n",
    "\n",
    "    Notes\n",
    "    -----\n",
    "    This function filters out orders that were bought in-store by comparing the\n",
    "    'ordered' and 'shipped' columns. Only orders with distinct 'ordered' and\n",
    "    'shipped' timestamps are retained.\n",
    "\n",
    "    Example\n",
    "    -------\n",
    "    >>> filter_in_store_orders(df)\n",
    "    # Returns a DataFrame with in-store orders removed.\n",
    "    \"\"\"\n",
    "    return orders_df.loc[orders_df[\"ordered\"] == orders_df[\"shipped\"]]"
   ]
  },
  {
   "cell_type": "code",
   "execution_count": 47,
   "id": "04dbd52a",
   "metadata": {
    "execution": {
     "iopub.execute_input": "2023-12-17T11:29:27.902045Z",
     "iopub.status.busy": "2023-12-17T11:29:27.901947Z",
     "iopub.status.idle": "2023-12-17T11:29:27.904124Z",
     "shell.execute_reply": "2023-12-17T11:29:27.903876Z"
    }
   },
   "outputs": [],
   "source": [
    "def bargain_hunter_in_store_color_items(\n",
    "    products_df: pd.DataFrame = products,\n",
    "    orders_items_df: pd.DataFrame = orders_items,\n",
    "    orders_df: pd.DataFrame = orders,\n",
    ") -> pd.DataFrame:\n",
    "    return (\n",
    "        products_df.pipe(color_agnostic_item_name)\n",
    "        .merge(orders_items_df, on=\"sku\")\n",
    "        .merge(orders_df, on=\"orderid\")\n",
    "        .loc[\n",
    "            lambda d: (\n",
    "                d[\"customerid\"].isin(six_the_bargain_hunter().loc[:, \"customerid\"])\n",
    "            )\n",
    "        ]\n",
    "        .pipe(filter_in_store_orders)\n",
    "        .pipe(date_hour_mm)\n",
    "    )"
   ]
  },
  {
   "cell_type": "code",
   "execution_count": 48,
   "id": "4a76a3ac",
   "metadata": {
    "execution": {
     "iopub.execute_input": "2023-12-17T11:29:27.905543Z",
     "iopub.status.busy": "2023-12-17T11:29:27.905447Z",
     "iopub.status.idle": "2023-12-17T11:29:27.908525Z",
     "shell.execute_reply": "2023-12-17T11:29:27.908302Z"
    }
   },
   "outputs": [],
   "source": [
    "def the_order_of_the_meet(\n",
    "    orders_df: pd.DataFrame = orders,\n",
    "    orders_items_df: pd.DataFrame = orders_items,\n",
    "    products_df: pd.DataFrame = products,\n",
    ") -> pd.DataFrame:\n",
    "    \"\"\"\n",
    "    Combines and filters various DataFrames to create a comprehensive dataset\n",
    "    of order information.\n",
    "\n",
    "    Parameters\n",
    "    ----------\n",
    "    orders_df : pd.DataFrame, optional\n",
    "        DataFrame containing order information, by default orders.\n",
    "    orders_items_df : pd.DataFrame, optional\n",
    "        DataFrame containing order items information, by default orders_items.\n",
    "    products_df : pd.DataFrame, optional\n",
    "        DataFrame containing product information, by default products.\n",
    "\n",
    "    Returns\n",
    "    -------\n",
    "    pd.DataFrame\n",
    "        DataFrame with a filtered and merged dataset representing comprehensive\n",
    "        order information.\n",
    "    \"\"\"\n",
    "    bargain_hunter = bargain_hunter_in_store_color_items()\n",
    "    return (\n",
    "        orders_df.pipe(filter_in_store_orders)\n",
    "        .merge(orders_items_df, on=\"orderid\")\n",
    "        .pipe(date_hour_mm)\n",
    "        .merge(products_df.pipe(color_agnostic_item_name), on=\"sku\")\n",
    "        .merge(\n",
    "            bargain_hunter.loc[:, [\"desc_color_agnostic\", \"date_hour\"]],\n",
    "            on=[\"desc_color_agnostic\", \"date_hour\"],\n",
    "        )\n",
    "        .loc[lambda df: ~df[\"customerid\"].isin(bargain_hunter[\"customerid\"])]\n",
    "        .filter(bargain_hunter.columns)\n",
    "        .pipe(\n",
    "            lambda cute_guy: pd.concat(\n",
    "                [\n",
    "                    bargain_hunter.loc[\n",
    "                        lambda b: (\n",
    "                            b[\"desc_color_agnostic\"].isin(\n",
    "                                cute_guy[\"desc_color_agnostic\"]\n",
    "                            )\n",
    "                        )\n",
    "                        & (b[\"date_hour\"].isin(cute_guy[\"date_hour\"]))\n",
    "                    ],\n",
    "                    cute_guy,\n",
    "                ]\n",
    "            )\n",
    "        )\n",
    "    )"
   ]
  },
  {
   "cell_type": "code",
   "execution_count": 49,
   "id": "c2536520",
   "metadata": {
    "execution": {
     "iopub.execute_input": "2023-12-17T11:29:27.909963Z",
     "iopub.status.busy": "2023-12-17T11:29:27.909880Z",
     "iopub.status.idle": "2023-12-17T11:29:28.571886Z",
     "shell.execute_reply": "2023-12-17T11:29:28.571626Z"
    }
   },
   "outputs": [
    {
     "data": {
      "text/html": [
       "<div>\n",
       "<style scoped>\n",
       "    .dataframe tbody tr th:only-of-type {\n",
       "        vertical-align: middle;\n",
       "    }\n",
       "\n",
       "    .dataframe tbody tr th {\n",
       "        vertical-align: top;\n",
       "    }\n",
       "\n",
       "    .dataframe thead th {\n",
       "        text-align: right;\n",
       "    }\n",
       "</style>\n",
       "<table border=\"1\" class=\"dataframe\">\n",
       "  <thead>\n",
       "    <tr style=\"text-align: right;\">\n",
       "      <th></th>\n",
       "      <th>sku</th>\n",
       "      <th>desc</th>\n",
       "      <th>wholesale_cost</th>\n",
       "      <th>dims_cm</th>\n",
       "      <th>color</th>\n",
       "      <th>desc_color_agnostic</th>\n",
       "      <th>orderid</th>\n",
       "      <th>qty</th>\n",
       "      <th>unit_price</th>\n",
       "      <th>customerid</th>\n",
       "      <th>ordered</th>\n",
       "      <th>shipped</th>\n",
       "      <th>items</th>\n",
       "      <th>total</th>\n",
       "      <th>date_hour</th>\n",
       "    </tr>\n",
       "  </thead>\n",
       "  <tbody>\n",
       "    <tr>\n",
       "      <th>18974</th>\n",
       "      <td>COL7063</td>\n",
       "      <td>Noah's Poster (azure)</td>\n",
       "      <td>4.11</td>\n",
       "      <td>17.8|15.2|1.9</td>\n",
       "      <td>azure</td>\n",
       "      <td>Noah's Poster</td>\n",
       "      <td>70503</td>\n",
       "      <td>1</td>\n",
       "      <td>2.06</td>\n",
       "      <td>4167</td>\n",
       "      <td>2018-12-31 12:26:58</td>\n",
       "      <td>2018-12-31 12:26:58</td>\n",
       "      <td>NaN</td>\n",
       "      <td>2.06</td>\n",
       "      <td>12/31/2018 12:26</td>\n",
       "    </tr>\n",
       "    <tr>\n",
       "      <th>1</th>\n",
       "      <td>COL2467</td>\n",
       "      <td>Noah's Poster (orange)</td>\n",
       "      <td>3.58</td>\n",
       "      <td>16.3|6.1|4.7</td>\n",
       "      <td>orange</td>\n",
       "      <td>Noah's Poster</td>\n",
       "      <td>70502</td>\n",
       "      <td>1</td>\n",
       "      <td>4.57</td>\n",
       "      <td>5783</td>\n",
       "      <td>2018-12-31 12:26:39</td>\n",
       "      <td>2018-12-31 12:26:39</td>\n",
       "      <td>NaN</td>\n",
       "      <td>4.57</td>\n",
       "      <td>12/31/2018 12:26</td>\n",
       "    </tr>\n",
       "  </tbody>\n",
       "</table>\n",
       "</div>"
      ],
      "text/plain": [
       "           sku                    desc  wholesale_cost        dims_cm   color  \\\n",
       "18974  COL7063   Noah's Poster (azure)            4.11  17.8|15.2|1.9   azure   \n",
       "1      COL2467  Noah's Poster (orange)            3.58   16.3|6.1|4.7  orange   \n",
       "\n",
       "      desc_color_agnostic  orderid  qty  unit_price  customerid  \\\n",
       "18974       Noah's Poster    70503    1        2.06        4167   \n",
       "1           Noah's Poster    70502    1        4.57        5783   \n",
       "\n",
       "                  ordered             shipped  items  total         date_hour  \n",
       "18974 2018-12-31 12:26:58 2018-12-31 12:26:58    NaN   2.06  12/31/2018 12:26  \n",
       "1     2018-12-31 12:26:39 2018-12-31 12:26:39    NaN   4.57  12/31/2018 12:26  "
      ]
     },
     "execution_count": 49,
     "metadata": {},
     "output_type": "execute_result"
    }
   ],
   "source": [
    "orders.pipe(the_order_of_the_meet)"
   ]
  },
  {
   "cell_type": "code",
   "execution_count": 50,
   "id": "83568ba4",
   "metadata": {
    "execution": {
     "iopub.execute_input": "2023-12-17T11:29:28.573539Z",
     "iopub.status.busy": "2023-12-17T11:29:28.573424Z",
     "iopub.status.idle": "2023-12-17T11:29:28.575467Z",
     "shell.execute_reply": "2023-12-17T11:29:28.575217Z"
    }
   },
   "outputs": [],
   "source": [
    "def seven_the_meet_cute(customers_df: pd.DataFrame = customers) -> pd.DataFrame:\n",
    "    the_meet = the_order_of_the_meet()\n",
    "    the_couple_customer_ids = the_meet[\"customerid\"]\n",
    "    the_bargain_hunter = six_the_bargain_hunter()[\"customerid\"]\n",
    "    the_meet_cute_id = set(the_couple_customer_ids) - set(the_bargain_hunter)\n",
    "    return customers_df.loc[customers_df[\"customerid\"].isin(list(the_meet_cute_id))]"
   ]
  },
  {
   "cell_type": "code",
   "execution_count": 51,
   "id": "024d044d",
   "metadata": {
    "execution": {
     "iopub.execute_input": "2023-12-17T11:29:28.576960Z",
     "iopub.status.busy": "2023-12-17T11:29:28.576857Z",
     "iopub.status.idle": "2023-12-17T11:29:29.363632Z",
     "shell.execute_reply": "2023-12-17T11:29:29.363339Z"
    }
   },
   "outputs": [
    {
     "data": {
      "text/html": [
       "<div>\n",
       "<style scoped>\n",
       "    .dataframe tbody tr th:only-of-type {\n",
       "        vertical-align: middle;\n",
       "    }\n",
       "\n",
       "    .dataframe tbody tr th {\n",
       "        vertical-align: top;\n",
       "    }\n",
       "\n",
       "    .dataframe thead th {\n",
       "        text-align: right;\n",
       "    }\n",
       "</style>\n",
       "<table border=\"1\" class=\"dataframe\">\n",
       "  <thead>\n",
       "    <tr style=\"text-align: right;\">\n",
       "      <th></th>\n",
       "      <th>customerid</th>\n",
       "      <th>name</th>\n",
       "      <th>address</th>\n",
       "      <th>citystatezip</th>\n",
       "      <th>birthdate</th>\n",
       "      <th>phone</th>\n",
       "      <th>timezone</th>\n",
       "      <th>lat</th>\n",
       "      <th>long</th>\n",
       "    </tr>\n",
       "  </thead>\n",
       "  <tbody>\n",
       "    <tr>\n",
       "      <th>4782</th>\n",
       "      <td>5783</td>\n",
       "      <td>Carlos Myers</td>\n",
       "      <td>1486 Bath Ave</td>\n",
       "      <td>Brooklyn, NY 11228</td>\n",
       "      <td>1986-04-27</td>\n",
       "      <td>838-335-7157</td>\n",
       "      <td>America/New_York</td>\n",
       "      <td>40.60826</td>\n",
       "      <td>-74.01375</td>\n",
       "    </tr>\n",
       "  </tbody>\n",
       "</table>\n",
       "</div>"
      ],
      "text/plain": [
       "      customerid          name        address        citystatezip  birthdate  \\\n",
       "4782        5783  Carlos Myers  1486 Bath Ave  Brooklyn, NY 11228 1986-04-27   \n",
       "\n",
       "             phone          timezone       lat      long  \n",
       "4782  838-335-7157  America/New_York  40.60826 -74.01375  "
      ]
     },
     "metadata": {},
     "output_type": "display_data"
    }
   ],
   "source": [
    "customers.pipe(seven_the_meet_cute).pipe(display)"
   ]
  },
  {
   "cell_type": "code",
   "execution_count": 52,
   "id": "e6faa2da",
   "metadata": {
    "execution": {
     "iopub.execute_input": "2023-12-17T11:29:29.365264Z",
     "iopub.status.busy": "2023-12-17T11:29:29.365158Z",
     "iopub.status.idle": "2023-12-17T11:29:30.165641Z",
     "shell.execute_reply": "2023-12-17T11:29:30.165288Z"
    },
    "lines_to_next_cell": 2
   },
   "outputs": [
    {
     "data": {
      "text/plain": [
       "'838-335-7157'"
      ]
     },
     "execution_count": 52,
     "metadata": {},
     "output_type": "execute_result"
    }
   ],
   "source": [
    "customers.pipe(seven_the_meet_cute).pipe(answer)"
   ]
  },
  {
   "cell_type": "markdown",
   "id": "85a0c034",
   "metadata": {
    "lines_to_next_cell": 2
   },
   "source": [
    "## 8. The Collector\n",
    "\n",
    "\n",
    "“Oh that damned woman! She moved in, clogged my bathtub, left her coupons all\n",
    "over the kitchen, and then just vanished one night without leaving so much as\n",
    "a note.\n",
    "\n",
    "Except she did leave behind that nasty carpet. I spent months cleaning one\n",
    "corner, only to discover a snake hiding in the branches! I knew then that she\n",
    "was never coming back, and I had to get it out of my sight.\n",
    "\n",
    "“Well, I don’t have any storage here, and it didn’t seem right to sell it, so\n",
    "I gave it to my sister. She wound up getting a newer and more expensive\n",
    "carpet, so she gave it to an acquaintance of hers who collects all sorts of\n",
    "junk. Apparently he owns an entire set of Noah’s collectibles! He probably\n",
    "still has the carpet, even.\n",
    "\n",
    "“My sister is away for the holidays, but I can have her call you in a few\n",
    "weeks.”\n",
    "\n",
    "The family dinner is tonight! Can you find the collector’s phone number in\n",
    "time?"
   ]
  },
  {
   "cell_type": "code",
   "execution_count": 53,
   "id": "15f7119e",
   "metadata": {
    "execution": {
     "iopub.execute_input": "2023-12-17T11:29:30.167376Z",
     "iopub.status.busy": "2023-12-17T11:29:30.167248Z",
     "iopub.status.idle": "2023-12-17T11:29:30.169675Z",
     "shell.execute_reply": "2023-12-17T11:29:30.169410Z"
    }
   },
   "outputs": [],
   "source": [
    "def eight_the_collector(\n",
    "    customers_df: pd.DataFrame = customers,\n",
    "    orders_df: pd.DataFrame = orders,\n",
    "    orders_items_df: pd.DataFrame = orders_items,\n",
    "):\n",
    "    top_buyer = (\n",
    "        orders_df.merge(orders_items_df, on=\"orderid\")[\"customerid\"]\n",
    "        .value_counts()\n",
    "        .idxmax()\n",
    "    )\n",
    "\n",
    "    return customers_df.loc[customers[\"customerid\"] == top_buyer]"
   ]
  },
  {
   "cell_type": "code",
   "execution_count": 54,
   "id": "3ba606a6",
   "metadata": {
    "execution": {
     "iopub.execute_input": "2023-12-17T11:29:30.171140Z",
     "iopub.status.busy": "2023-12-17T11:29:30.171043Z",
     "iopub.status.idle": "2023-12-17T11:29:30.216113Z",
     "shell.execute_reply": "2023-12-17T11:29:30.215821Z"
    }
   },
   "outputs": [
    {
     "data": {
      "text/html": [
       "<div>\n",
       "<style scoped>\n",
       "    .dataframe tbody tr th:only-of-type {\n",
       "        vertical-align: middle;\n",
       "    }\n",
       "\n",
       "    .dataframe tbody tr th {\n",
       "        vertical-align: top;\n",
       "    }\n",
       "\n",
       "    .dataframe thead th {\n",
       "        text-align: right;\n",
       "    }\n",
       "</style>\n",
       "<table border=\"1\" class=\"dataframe\">\n",
       "  <thead>\n",
       "    <tr style=\"text-align: right;\">\n",
       "      <th></th>\n",
       "      <th>customerid</th>\n",
       "      <th>name</th>\n",
       "      <th>address</th>\n",
       "      <th>citystatezip</th>\n",
       "      <th>birthdate</th>\n",
       "      <th>phone</th>\n",
       "      <th>timezone</th>\n",
       "      <th>lat</th>\n",
       "      <th>long</th>\n",
       "    </tr>\n",
       "  </thead>\n",
       "  <tbody>\n",
       "    <tr>\n",
       "      <th>2807</th>\n",
       "      <td>3808</td>\n",
       "      <td>James Smith</td>\n",
       "      <td>132 Spring St</td>\n",
       "      <td>Manhattan, NY 10012</td>\n",
       "      <td>1953-12-10</td>\n",
       "      <td>212-547-3518</td>\n",
       "      <td>America/New_York</td>\n",
       "      <td>40.7249</td>\n",
       "      <td>-74.00252</td>\n",
       "    </tr>\n",
       "  </tbody>\n",
       "</table>\n",
       "</div>"
      ],
      "text/plain": [
       "      customerid         name        address         citystatezip  birthdate  \\\n",
       "2807        3808  James Smith  132 Spring St  Manhattan, NY 10012 1953-12-10   \n",
       "\n",
       "             phone          timezone      lat      long  \n",
       "2807  212-547-3518  America/New_York  40.7249 -74.00252  "
      ]
     },
     "metadata": {},
     "output_type": "display_data"
    }
   ],
   "source": [
    "customers.pipe(eight_the_collector).pipe(display)"
   ]
  },
  {
   "cell_type": "code",
   "execution_count": 55,
   "id": "ebceb341",
   "metadata": {
    "execution": {
     "iopub.execute_input": "2023-12-17T11:29:30.217691Z",
     "iopub.status.busy": "2023-12-17T11:29:30.217583Z",
     "iopub.status.idle": "2023-12-17T11:29:30.277950Z",
     "shell.execute_reply": "2023-12-17T11:29:30.277615Z"
    }
   },
   "outputs": [
    {
     "data": {
      "text/plain": [
       "'212-547-3518'"
      ]
     },
     "execution_count": 55,
     "metadata": {},
     "output_type": "execute_result"
    }
   ],
   "source": [
    "customers.pipe(eight_the_collector).pipe(answer)"
   ]
  },
  {
   "cell_type": "markdown",
   "id": "d982ddd1",
   "metadata": {},
   "source": [
    "## 9. Epilogue\n",
    "\n",
    "“Oh yes, that magnificant Persian carpet! An absolute masterpiece, with a\n",
    "variety of interesting animals congregating around a Tree of Life. As a\n",
    "collector, I couldn’t believe when it fell into my lap.\n",
    "\n",
    "“A friend of mine had taken it off her brother’s hands, and she didn’t know\n",
    "what to do with it. I saw her one day, and she was about to put an old rug out\n",
    "at the curb. It looked like it had been through a lot, but it was remarkably\n",
    "not that dirty. It still took quite a bit of effort and no small amount of rug\n",
    "cleaner, but ultimately I managed to get the last bits of grime out of it.\n",
    "\n",
    "“I actually live right down the street from Noah’s Market–I’m a huge fan and I\n",
    "shop there all the time! I even have a one-of-a-kind scale model of Noah’s Ark\n",
    "that makes a complete set of Noah’s collectibles.\n",
    "\n",
    "“I would love for Noah to have his rug once again to enjoy.”\n",
    "\n",
    "[See Noah’s entire tapestry](https://hanukkah.bluebird.sh/5784/)\n",
    "\n",
    "Now try for a [speedrun](https://hanukkah.bluebird.sh/5784-speedrun) with\n",
    "a [fresh dataset](https://hanukkah.bluebird.sh/5784-speedrun/data).\n",
    "\n",
    "\n",
    "![hod_5784_finish](hod_5784_finish.gif)"
   ]
  }
 ],
 "metadata": {
  "jupytext": {
   "cell_metadata_filter": "-all",
   "main_language": "python",
   "notebook_metadata_filter": "-all"
  },
  "language_info": {
   "codemirror_mode": {
    "name": "ipython",
    "version": 3
   },
   "file_extension": ".py",
   "mimetype": "text/x-python",
   "name": "python",
   "nbconvert_exporter": "python",
   "pygments_lexer": "ipython3",
   "version": "3.10.13"
  }
 },
 "nbformat": 4,
 "nbformat_minor": 5
}
