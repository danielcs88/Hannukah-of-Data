{
 "cells": [
  {
   "cell_type": "code",
   "execution_count": 1,
   "id": "eb95c34e",
   "metadata": {
    "execution": {
     "iopub.execute_input": "2023-12-17T11:29:31.676272Z",
     "iopub.status.busy": "2023-12-17T11:29:31.676104Z",
     "iopub.status.idle": "2023-12-17T11:29:31.679957Z",
     "shell.execute_reply": "2023-12-17T11:29:31.679479Z"
    }
   },
   "outputs": [],
   "source": [
    "# ruff: noqa: E402\n",
    "# pylint: disable=wrong-import-position missing-module-docstring invalid-name missing-function-docstring too-many-lines"
   ]
  },
  {
   "cell_type": "code",
   "execution_count": 2,
   "id": "51747d6d",
   "metadata": {
    "execution": {
     "iopub.execute_input": "2023-12-17T11:29:31.682532Z",
     "iopub.status.busy": "2023-12-17T11:29:31.682369Z",
     "iopub.status.idle": "2023-12-17T11:29:31.687535Z",
     "shell.execute_reply": "2023-12-17T11:29:31.687102Z"
    }
   },
   "outputs": [],
   "source": [
    "import os"
   ]
  },
  {
   "cell_type": "markdown",
   "id": "4d8a5eb6",
   "metadata": {},
   "source": [
    "## 1. The Investigator\n",
    "\n",
    "Sarah brought a cashier over. She said, “Joe here says that one of our\n",
    "customers is a skilled private investigator.”\n",
    "\n",
    "Joe nodded, “They showed me their business card, and that’s what it said.\n",
    "Skilled Private Investigator. And their phone number was their last name\n",
    "spelled out. I didn’t know what that meant, but apparently before there were\n",
    "smartphones, people had to remember phone numbers or write them down. If you\n",
    "wanted a phone number that was easy-to-remember, you could get a number that\n",
    "spelled something using the letters printed on the phone buttons: like 2 has\n",
    "“ABC”, and 3 “DEF”, etc. And I guess this person had done that, so if you\n",
    "dialed the numbers corresponding to the letters in their name, it would call\n",
    "their phone number!\n",
    "\n",
    "“I thought that was pretty cool. But I don’t remember their name, or anything\n",
    "else about them for that matter. I couldn’t even tell you if they were male or\n",
    "female.”\n",
    "\n",
    "Sarah said, “This person seems like they are skilled at investigation. I need\n",
    "them to find Noah’s rug before the Hanukkah dinner. I don’t know how to\n",
    "contact them, but apparently they shop here at Noah’s Market.”\n",
    "\n",
    "She nodded at the [USB drive](https://hanukkah.bluebird.sh/5784-speedrun/data)\n",
    "in your hand.\n",
    "\n",
    "“Can you find this investigator’s phone number?”"
   ]
  },
  {
   "cell_type": "code",
   "execution_count": 3,
   "id": "64ea3c28",
   "metadata": {
    "execution": {
     "iopub.execute_input": "2023-12-17T11:29:31.690431Z",
     "iopub.status.busy": "2023-12-17T11:29:31.690209Z",
     "iopub.status.idle": "2023-12-17T11:29:31.692997Z",
     "shell.execute_reply": "2023-12-17T11:29:31.692583Z"
    }
   },
   "outputs": [
    {
     "name": "stdout",
     "output_type": "stream",
     "text": [
      "5777\n"
     ]
    }
   ],
   "source": [
    "password = 5783 - 6\n",
    "print(password)"
   ]
  },
  {
   "cell_type": "code",
   "execution_count": 4,
   "id": "2e03697c",
   "metadata": {
    "execution": {
     "iopub.execute_input": "2023-12-17T11:29:31.695700Z",
     "iopub.status.busy": "2023-12-17T11:29:31.695502Z",
     "iopub.status.idle": "2023-12-17T11:29:31.843999Z",
     "shell.execute_reply": "2023-12-17T11:29:31.843563Z"
    }
   },
   "outputs": [
    {
     "name": "stdout",
     "output_type": "stream",
     "text": [
      "Archive:  noahs-5784-speedrun-csv.zip\n",
      "   creating: 5784-speedrun/\n",
      " extracting: 5784-speedrun/noahs-customers.csv.zip  \n",
      " extracting: 5784-speedrun/noahs-orders.csv.zip  \n",
      " extracting: 5784-speedrun/noahs-orders_items.csv.zip  \n",
      "  inflating: 5784-speedrun/noahs-products.csv.zip  \n"
     ]
    },
    {
     "data": {
      "text/plain": [
       "0"
      ]
     },
     "execution_count": 4,
     "metadata": {},
     "output_type": "execute_result"
    }
   ],
   "source": [
    "os.system(f\"unzip -P {password} noahs-5784-speedrun-csv\")"
   ]
  },
  {
   "cell_type": "code",
   "execution_count": 5,
   "id": "26cd7d65",
   "metadata": {
    "execution": {
     "iopub.execute_input": "2023-12-17T11:29:31.846039Z",
     "iopub.status.busy": "2023-12-17T11:29:31.845875Z",
     "iopub.status.idle": "2023-12-17T11:29:31.848600Z",
     "shell.execute_reply": "2023-12-17T11:29:31.848315Z"
    }
   },
   "outputs": [],
   "source": [
    "from enum import Enum\n",
    "\n",
    "import numpy as np\n",
    "import pandas as pd\n",
    "import pyperclip\n",
    "from IPython.display import display"
   ]
  },
  {
   "cell_type": "code",
   "execution_count": 6,
   "id": "40e30fa1",
   "metadata": {
    "execution": {
     "iopub.execute_input": "2023-12-17T11:29:31.850261Z",
     "iopub.status.busy": "2023-12-17T11:29:31.850144Z",
     "iopub.status.idle": "2023-12-17T11:29:32.250607Z",
     "shell.execute_reply": "2023-12-17T11:29:32.250264Z"
    }
   },
   "outputs": [],
   "source": [
    "customers = pd.read_csv(\n",
    "    \"5784-speedrun/noahs-customers.csv.zip\", parse_dates=[\"birthdate\"]\n",
    ")\n",
    "orders = pd.read_csv(\n",
    "    \"5784-speedrun/noahs-orders.csv.zip\", parse_dates=[\"ordered\", \"shipped\"]\n",
    ")\n",
    "orders_items = pd.read_csv(\"5784-speedrun/noahs-orders_items.csv.zip\")\n",
    "products = pd.read_csv(\"5784-speedrun/noahs-products.csv.zip\")"
   ]
  },
  {
   "cell_type": "code",
   "execution_count": 7,
   "id": "5d37a54a",
   "metadata": {
    "execution": {
     "iopub.execute_input": "2023-12-17T11:29:32.252523Z",
     "iopub.status.busy": "2023-12-17T11:29:32.252415Z",
     "iopub.status.idle": "2023-12-17T11:29:32.259636Z",
     "shell.execute_reply": "2023-12-17T11:29:32.259389Z"
    }
   },
   "outputs": [
    {
     "data": {
      "text/plain": [
       "0"
      ]
     },
     "execution_count": 7,
     "metadata": {},
     "output_type": "execute_result"
    }
   ],
   "source": [
    "os.system(\"rm -rf 5784-speedrun\")"
   ]
  },
  {
   "cell_type": "code",
   "execution_count": 8,
   "id": "93105c37",
   "metadata": {
    "execution": {
     "iopub.execute_input": "2023-12-17T11:29:32.261178Z",
     "iopub.status.busy": "2023-12-17T11:29:32.261091Z",
     "iopub.status.idle": "2023-12-17T11:29:32.263193Z",
     "shell.execute_reply": "2023-12-17T11:29:32.262937Z"
    }
   },
   "outputs": [],
   "source": [
    "def answer(df: pd.DataFrame | pd.Series) -> str:\n",
    "    r\"\"\"\n",
    "    Returns answer, in this case, the phone number and copies to clipboard.\n",
    "\n",
    "    Parameters\n",
    "    ----------\n",
    "    df : Union[pd.DataFrame, pd.Series]\n",
    "\n",
    "    Returns\n",
    "    -------\n",
    "    str\n",
    "    \"\"\"\n",
    "    result = df[\"phone\"].unique()[0]\n",
    "    pyperclip.copy(result)\n",
    "    return result"
   ]
  },
  {
   "cell_type": "code",
   "execution_count": 9,
   "id": "641bd658",
   "metadata": {
    "execution": {
     "iopub.execute_input": "2023-12-17T11:29:32.264714Z",
     "iopub.status.busy": "2023-12-17T11:29:32.264617Z",
     "iopub.status.idle": "2023-12-17T11:29:32.266991Z",
     "shell.execute_reply": "2023-12-17T11:29:32.266754Z"
    }
   },
   "outputs": [],
   "source": [
    "def translate_char_to_phone_num(char: str) -> int:\n",
    "    r\"\"\"\n",
    "    Translate characters to phone number.\n",
    "\n",
    "    Parameters\n",
    "    ----------\n",
    "    chr : str\n",
    "\n",
    "    Returns\n",
    "    -------\n",
    "    int\n",
    "    \"\"\"\n",
    "    match char:\n",
    "        case \"a\" | \"b\" | \"c\":\n",
    "            digit = 2\n",
    "        case \"d\" | \"e\" | \"f\":\n",
    "            digit = 3\n",
    "        case \"g\" | \"h\" | \"i\":\n",
    "            digit = 4\n",
    "        case \"j\" | \"k\" | \"l\":\n",
    "            digit = 5\n",
    "        case \"m\" | \"n\" | \"o\":\n",
    "            digit = 6\n",
    "        case \"p\" | \"q\" | \"r\" | \"s\":\n",
    "            digit = 7\n",
    "        case \"t\" | \"u\" | \"v\":\n",
    "            digit = 8\n",
    "        case \"w\" | \"x\" | \"y\" | \"z\":\n",
    "            digit = 9\n",
    "    return digit"
   ]
  },
  {
   "cell_type": "code",
   "execution_count": 10,
   "id": "73a65a5a",
   "metadata": {
    "execution": {
     "iopub.execute_input": "2023-12-17T11:29:32.268471Z",
     "iopub.status.busy": "2023-12-17T11:29:32.268374Z",
     "iopub.status.idle": "2023-12-17T11:29:32.271389Z",
     "shell.execute_reply": "2023-12-17T11:29:32.271120Z"
    }
   },
   "outputs": [],
   "source": [
    "def one_the_investigator(df: pd.DataFrame) -> pd.DataFrame:\n",
    "    return (\n",
    "        df.loc[~df[\"name\"].str.endswith((\"II\", \"III\", \"IV\", \"Jr.\"))]\n",
    "        .assign(\n",
    "            last_name=df[\"name\"].str.split().str[-1].str.lower(),\n",
    "            last_name_len=lambda d: d[\"last_name\"].str.len(),\n",
    "        )\n",
    "        .query(\"last_name_len == 10\")\n",
    "        .assign(\n",
    "            name_char=lambda df: df[\"last_name\"].map(list),\n",
    "            phone_num=lambda df: df[\"name_char\"].map(\n",
    "                lambda _: \"\".join([str(translate_char_to_phone_num(x)) for x in _])\n",
    "            ),\n",
    "            test=lambda d: (\n",
    "                d[\"phone_num\"].str.slice(stop=3)\n",
    "                + \"-\"\n",
    "                + d[\"phone_num\"].str.slice(start=3, stop=6)\n",
    "                + \"-\"\n",
    "                + d[\"phone_num\"].str.slice(start=6)\n",
    "            ),\n",
    "        )\n",
    "        .loc[lambda d: d[\"phone\"] == d[\"test\"], customers.columns]\n",
    "        .set_index(\"customerid\")\n",
    "    )"
   ]
  },
  {
   "cell_type": "code",
   "execution_count": 11,
   "id": "ee0099c6",
   "metadata": {
    "execution": {
     "iopub.execute_input": "2023-12-17T11:29:32.272799Z",
     "iopub.status.busy": "2023-12-17T11:29:32.272718Z",
     "iopub.status.idle": "2023-12-17T11:29:32.291285Z",
     "shell.execute_reply": "2023-12-17T11:29:32.291027Z"
    }
   },
   "outputs": [
    {
     "data": {
      "text/html": [
       "<div>\n",
       "<style scoped>\n",
       "    .dataframe tbody tr th:only-of-type {\n",
       "        vertical-align: middle;\n",
       "    }\n",
       "\n",
       "    .dataframe tbody tr th {\n",
       "        vertical-align: top;\n",
       "    }\n",
       "\n",
       "    .dataframe thead th {\n",
       "        text-align: right;\n",
       "    }\n",
       "</style>\n",
       "<table border=\"1\" class=\"dataframe\">\n",
       "  <thead>\n",
       "    <tr style=\"text-align: right;\">\n",
       "      <th></th>\n",
       "      <th>name</th>\n",
       "      <th>address</th>\n",
       "      <th>citystatezip</th>\n",
       "      <th>birthdate</th>\n",
       "      <th>phone</th>\n",
       "      <th>timezone</th>\n",
       "      <th>lat</th>\n",
       "      <th>long</th>\n",
       "    </tr>\n",
       "    <tr>\n",
       "      <th>customerid</th>\n",
       "      <th></th>\n",
       "      <th></th>\n",
       "      <th></th>\n",
       "      <th></th>\n",
       "      <th></th>\n",
       "      <th></th>\n",
       "      <th></th>\n",
       "      <th></th>\n",
       "    </tr>\n",
       "  </thead>\n",
       "  <tbody>\n",
       "    <tr>\n",
       "      <th>4249</th>\n",
       "      <td>Tracy Rosenkranz</td>\n",
       "      <td>221 Banker St</td>\n",
       "      <td>Brooklyn, NY 11222</td>\n",
       "      <td>1954-06-12</td>\n",
       "      <td>767-365-7269</td>\n",
       "      <td>America/New_York</td>\n",
       "      <td>40.7257</td>\n",
       "      <td>-73.9555</td>\n",
       "    </tr>\n",
       "  </tbody>\n",
       "</table>\n",
       "</div>"
      ],
      "text/plain": [
       "                        name        address        citystatezip  birthdate  \\\n",
       "customerid                                                                   \n",
       "4249        Tracy Rosenkranz  221 Banker St  Brooklyn, NY 11222 1954-06-12   \n",
       "\n",
       "                   phone          timezone      lat     long  \n",
       "customerid                                                    \n",
       "4249        767-365-7269  America/New_York  40.7257 -73.9555  "
      ]
     },
     "execution_count": 11,
     "metadata": {},
     "output_type": "execute_result"
    }
   ],
   "source": [
    "customers.pipe(one_the_investigator)"
   ]
  },
  {
   "cell_type": "code",
   "execution_count": 12,
   "id": "0c166678",
   "metadata": {
    "execution": {
     "iopub.execute_input": "2023-12-17T11:29:32.292846Z",
     "iopub.status.busy": "2023-12-17T11:29:32.292761Z",
     "iopub.status.idle": "2023-12-17T11:29:32.326213Z",
     "shell.execute_reply": "2023-12-17T11:29:32.325857Z"
    },
    "lines_to_next_cell": 2
   },
   "outputs": [
    {
     "data": {
      "text/plain": [
       "'767-365-7269'"
      ]
     },
     "execution_count": 12,
     "metadata": {},
     "output_type": "execute_result"
    }
   ],
   "source": [
    "customers.pipe(one_the_investigator).pipe(answer)"
   ]
  },
  {
   "cell_type": "markdown",
   "id": "af6b875e",
   "metadata": {
    "lines_to_next_cell": 2
   },
   "source": [
    "## 2. The Contractor\n",
    "\n",
    "Thanks to your help, Sarah called the investigator that afternoon. The\n",
    "investigator went directly to the cleaners to see if they could get any more\n",
    "information about the unclaimed rug.\n",
    "\n",
    "While they were out, Sarah said, “I tried cleaning the rug myself, but there\n",
    "was this snail on it that always seemed to leave a trail of slime behind it. I\n",
    "spent a few hours cleaning it, and the next day the slime trail was back.”\n",
    "\n",
    "When the investigator returned, they said, “Apparently, this cleaner had a\n",
    "special projects program, where they outsourced challenging cleaning projects\n",
    "to industrious contractors. As they’re right across the street from Noah’s,\n",
    "they usually talked about the project over coffee and bagels at Noah’s before\n",
    "handing off the item to be cleaned. The contractors would pick up the tab and\n",
    "expense it, along with their cleaning supplies.\n",
    "\n",
    "“So this rug was apparently one of those special projects. The claim ticket\n",
    "said ‘2017 DS’. ‘2017’ is the year the item was brought in, and ‘DS’ is the\n",
    "initials of the contractor.\n",
    "\n",
    "“But they stopped outsourcing a few years ago, and don’t have contact\n",
    "information for any of these workers anymore.”\n",
    "\n",
    "Sarah first seemed hopeless, and then glanced at the [USB\n",
    "drive](https://hanukkah.bluebird.sh/5784-speedrun/data) you had just put back\n",
    "in her hand. She said, “I know it’s a long shot, but is there any chance you\n",
    "could find their phone number?”"
   ]
  },
  {
   "cell_type": "code",
   "execution_count": 13,
   "id": "e2e35530",
   "metadata": {
    "execution": {
     "iopub.execute_input": "2023-12-17T11:29:32.328224Z",
     "iopub.status.busy": "2023-12-17T11:29:32.327997Z",
     "iopub.status.idle": "2023-12-17T11:29:32.331612Z",
     "shell.execute_reply": "2023-12-17T11:29:32.331324Z"
    }
   },
   "outputs": [],
   "source": [
    "def two_the_contractor(\n",
    "    customers_df: pd.DataFrame = customers,\n",
    "    orders_df: pd.DataFrame = orders,\n",
    "    orders_items_df: pd.DataFrame = orders_items,\n",
    "    products_df: pd.DataFrame = products,\n",
    "    initials: str = \"DS\",\n",
    ") -> pd.DataFrame:\n",
    "    return (\n",
    "        (\n",
    "            customers_df.replace([\" II\", \" III\", \" IV\", \" Jr.\"], \"\", regex=True)\n",
    "            .assign(\n",
    "                initials=lambda d: (\n",
    "                    d[\"name\"].str.split(\" \").str[0].str[0]\n",
    "                    + d[\"name\"].str.split(\" \").str[-1].str[0]\n",
    "                )\n",
    "            )\n",
    "            .merge(\n",
    "                orders_df.loc[\n",
    "                    (orders_df[\"ordered\"].dt.year == 2017)\n",
    "                    & ((orders_df[\"ordered\"] - orders_df[\"shipped\"]).dt.seconds <= 60)\n",
    "                ],\n",
    "                on=\"customerid\",\n",
    "            )\n",
    "            .loc[lambda d: d[\"initials\"] == initials]\n",
    "            .merge(orders_items_df, on=\"orderid\")\n",
    "            .merge(\n",
    "                products_df.loc[\n",
    "                    products_df[\"desc\"].str.contains(\"coffee|bagel&clean\", case=False)\n",
    "                ],\n",
    "                on=\"sku\",\n",
    "            )\n",
    "            .filter(customers.columns)\n",
    "        )\n",
    "        .drop_duplicates()\n",
    "        .set_index(\"customerid\")\n",
    "    )"
   ]
  },
  {
   "cell_type": "code",
   "execution_count": 14,
   "id": "de56ef12",
   "metadata": {
    "execution": {
     "iopub.execute_input": "2023-12-17T11:29:32.333044Z",
     "iopub.status.busy": "2023-12-17T11:29:32.332964Z",
     "iopub.status.idle": "2023-12-17T11:29:32.476707Z",
     "shell.execute_reply": "2023-12-17T11:29:32.476427Z"
    }
   },
   "outputs": [
    {
     "data": {
      "text/html": [
       "<div>\n",
       "<style scoped>\n",
       "    .dataframe tbody tr th:only-of-type {\n",
       "        vertical-align: middle;\n",
       "    }\n",
       "\n",
       "    .dataframe tbody tr th {\n",
       "        vertical-align: top;\n",
       "    }\n",
       "\n",
       "    .dataframe thead th {\n",
       "        text-align: right;\n",
       "    }\n",
       "</style>\n",
       "<table border=\"1\" class=\"dataframe\">\n",
       "  <thead>\n",
       "    <tr style=\"text-align: right;\">\n",
       "      <th></th>\n",
       "      <th>name</th>\n",
       "      <th>address</th>\n",
       "      <th>citystatezip</th>\n",
       "      <th>birthdate</th>\n",
       "      <th>phone</th>\n",
       "      <th>timezone</th>\n",
       "      <th>lat</th>\n",
       "      <th>long</th>\n",
       "    </tr>\n",
       "    <tr>\n",
       "      <th>customerid</th>\n",
       "      <th></th>\n",
       "      <th></th>\n",
       "      <th></th>\n",
       "      <th></th>\n",
       "      <th></th>\n",
       "      <th></th>\n",
       "      <th></th>\n",
       "      <th></th>\n",
       "    </tr>\n",
       "  </thead>\n",
       "  <tbody>\n",
       "    <tr>\n",
       "      <th>5745</th>\n",
       "      <td>David Swanson</td>\n",
       "      <td>86-84 214th St</td>\n",
       "      <td>Queens Village, NY 11427</td>\n",
       "      <td>1958-10-29</td>\n",
       "      <td>838-351-0370</td>\n",
       "      <td>America/New_York</td>\n",
       "      <td>40.73007</td>\n",
       "      <td>-73.74856</td>\n",
       "    </tr>\n",
       "  </tbody>\n",
       "</table>\n",
       "</div>"
      ],
      "text/plain": [
       "                     name         address              citystatezip  \\\n",
       "customerid                                                            \n",
       "5745        David Swanson  86-84 214th St  Queens Village, NY 11427   \n",
       "\n",
       "            birthdate         phone          timezone       lat      long  \n",
       "customerid                                                                 \n",
       "5745       1958-10-29  838-351-0370  America/New_York  40.73007 -73.74856  "
      ]
     },
     "execution_count": 14,
     "metadata": {},
     "output_type": "execute_result"
    }
   ],
   "source": [
    "customers.pipe(two_the_contractor)"
   ]
  },
  {
   "cell_type": "code",
   "execution_count": 15,
   "id": "9924034b",
   "metadata": {
    "execution": {
     "iopub.execute_input": "2023-12-17T11:29:32.478354Z",
     "iopub.status.busy": "2023-12-17T11:29:32.478244Z",
     "iopub.status.idle": "2023-12-17T11:29:32.630840Z",
     "shell.execute_reply": "2023-12-17T11:29:32.630514Z"
    }
   },
   "outputs": [
    {
     "data": {
      "text/plain": [
       "'838-351-0370'"
      ]
     },
     "execution_count": 15,
     "metadata": {},
     "output_type": "execute_result"
    }
   ],
   "source": [
    "customers.pipe(two_the_contractor).pipe(answer)"
   ]
  },
  {
   "cell_type": "markdown",
   "id": "9685656a",
   "metadata": {},
   "source": [
    "## 3. The Neighbor\n",
    "\n",
    "Sarah and the investigator were very impressed with your data skills, as you\n",
    "were able to figure out the phone number of the contractor. They called up the\n",
    "cleaning contractor straight away and asked about the rug.\n",
    "\n",
    "“Oh, yeah, I did some special projects for them a few years ago. I remember\n",
    "that rug unfortunately. I managed to clean one section, which revealed a giant\n",
    "spider that startled me whenever I tried to work on it.\n",
    "\n",
    "“I already had a fear of spiders before this, but this spider was so realistic\n",
    "that I had a hard time making any more progress. I kept expecting the cleaners\n",
    "would call for the rug, but they never did. I felt so bad about it, I couldn’t\n",
    "face them, and of course they never gave me another project.\n",
    "\n",
    "“At last I couldn’t deal with the rug taking up my whole bathtub, so I gave it\n",
    "to this guy who lived in my neighborhood. He said that he was naturally\n",
    "balanced because he was a Libra born in the year of the Goat, so maybe he was\n",
    "able to clean it.\n",
    "\n",
    "“I don’t remember his name. Last time I saw him, he was leaving the subway and\n",
    "carrying a bag from Noah’s. I swore I saw a spider on his hat.”\n",
    "\n",
    "Can you find the phone number of the person that the contractor gave the rug\n",
    "to?"
   ]
  },
  {
   "cell_type": "code",
   "execution_count": 16,
   "id": "64942af4",
   "metadata": {
    "execution": {
     "iopub.execute_input": "2023-12-17T11:29:32.632750Z",
     "iopub.status.busy": "2023-12-17T11:29:32.632617Z",
     "iopub.status.idle": "2023-12-17T11:29:32.634388Z",
     "shell.execute_reply": "2023-12-17T11:29:32.634131Z"
    }
   },
   "outputs": [],
   "source": [
    "ZODIAC_LINK = \"https://en.wikipedia.org/wiki/Astrological_sign\""
   ]
  },
  {
   "cell_type": "code",
   "execution_count": 17,
   "id": "2da24edb",
   "metadata": {
    "execution": {
     "iopub.execute_input": "2023-12-17T11:29:32.635813Z",
     "iopub.status.busy": "2023-12-17T11:29:32.635714Z",
     "iopub.status.idle": "2023-12-17T11:29:32.972334Z",
     "shell.execute_reply": "2023-12-17T11:29:32.971958Z"
    }
   },
   "outputs": [],
   "source": [
    "zodiac = pd.read_html(ZODIAC_LINK)[0]"
   ]
  },
  {
   "cell_type": "code",
   "execution_count": 18,
   "id": "e1c92764",
   "metadata": {
    "execution": {
     "iopub.execute_input": "2023-12-17T11:29:32.974299Z",
     "iopub.status.busy": "2023-12-17T11:29:32.974133Z",
     "iopub.status.idle": "2023-12-17T11:29:32.982611Z",
     "shell.execute_reply": "2023-12-17T11:29:32.982179Z"
    }
   },
   "outputs": [
    {
     "data": {
      "text/html": [
       "<div>\n",
       "<style scoped>\n",
       "    .dataframe tbody tr th:only-of-type {\n",
       "        vertical-align: middle;\n",
       "    }\n",
       "\n",
       "    .dataframe tbody tr th {\n",
       "        vertical-align: top;\n",
       "    }\n",
       "\n",
       "    .dataframe thead th {\n",
       "        text-align: right;\n",
       "    }\n",
       "</style>\n",
       "<table border=\"1\" class=\"dataframe\">\n",
       "  <thead>\n",
       "    <tr style=\"text-align: right;\">\n",
       "      <th></th>\n",
       "      <th>Sign</th>\n",
       "      <th>Gloss</th>\n",
       "      <th>Symbol</th>\n",
       "      <th>Unicode Character</th>\n",
       "      <th>Approximate Sun Sign Start Dates[11]</th>\n",
       "      <th>Approximate Sun Sign End Dates[11]</th>\n",
       "      <th>Ecliptic Longitude (a ≤ λ &lt; b)</th>\n",
       "      <th>House</th>\n",
       "      <th>Polarity</th>\n",
       "      <th>Modality</th>\n",
       "      <th>Triplicity</th>\n",
       "      <th>Northern Hemisphere Season</th>\n",
       "      <th>Southern Hemisphere Season</th>\n",
       "      <th>Modern Ruler</th>\n",
       "      <th>Classic Ruler</th>\n",
       "    </tr>\n",
       "  </thead>\n",
       "  <tbody>\n",
       "    <tr>\n",
       "      <th>0</th>\n",
       "      <td>Aries</td>\n",
       "      <td>The Ram</td>\n",
       "      <td>NaN</td>\n",
       "      <td>♈︎</td>\n",
       "      <td>21 March</td>\n",
       "      <td>20 April</td>\n",
       "      <td>0° to 30°</td>\n",
       "      <td>1</td>\n",
       "      <td>Positive</td>\n",
       "      <td>Cardinal</td>\n",
       "      <td>Fire</td>\n",
       "      <td>Spring</td>\n",
       "      <td>Autumn</td>\n",
       "      <td>Mars</td>\n",
       "      <td>Mars</td>\n",
       "    </tr>\n",
       "    <tr>\n",
       "      <th>1</th>\n",
       "      <td>Taurus</td>\n",
       "      <td>The Bull</td>\n",
       "      <td>NaN</td>\n",
       "      <td>♉︎</td>\n",
       "      <td>21 April</td>\n",
       "      <td>21 May</td>\n",
       "      <td>30° to 60°</td>\n",
       "      <td>2</td>\n",
       "      <td>Negative</td>\n",
       "      <td>Fixed</td>\n",
       "      <td>Earth</td>\n",
       "      <td>Spring</td>\n",
       "      <td>Autumn</td>\n",
       "      <td>Venus</td>\n",
       "      <td>Venus</td>\n",
       "    </tr>\n",
       "    <tr>\n",
       "      <th>2</th>\n",
       "      <td>Gemini</td>\n",
       "      <td>The Twins</td>\n",
       "      <td>NaN</td>\n",
       "      <td>♊︎</td>\n",
       "      <td>22 May</td>\n",
       "      <td>21 June</td>\n",
       "      <td>60° to 90°</td>\n",
       "      <td>3</td>\n",
       "      <td>Positive</td>\n",
       "      <td>Mutable</td>\n",
       "      <td>Air</td>\n",
       "      <td>Spring</td>\n",
       "      <td>Autumn</td>\n",
       "      <td>Mercury</td>\n",
       "      <td>Mercury</td>\n",
       "    </tr>\n",
       "    <tr>\n",
       "      <th>3</th>\n",
       "      <td>Cancer</td>\n",
       "      <td>The Crab</td>\n",
       "      <td>NaN</td>\n",
       "      <td>♋︎</td>\n",
       "      <td>22 June</td>\n",
       "      <td>23 July</td>\n",
       "      <td>90° to 120°</td>\n",
       "      <td>4</td>\n",
       "      <td>Negative</td>\n",
       "      <td>Cardinal</td>\n",
       "      <td>Water</td>\n",
       "      <td>Summer</td>\n",
       "      <td>Winter</td>\n",
       "      <td>Moon</td>\n",
       "      <td>Moon</td>\n",
       "    </tr>\n",
       "    <tr>\n",
       "      <th>4</th>\n",
       "      <td>Leo</td>\n",
       "      <td>The Lion</td>\n",
       "      <td>NaN</td>\n",
       "      <td>♌︎</td>\n",
       "      <td>24 July</td>\n",
       "      <td>23 August</td>\n",
       "      <td>120° to 150°</td>\n",
       "      <td>5</td>\n",
       "      <td>Positive</td>\n",
       "      <td>Fixed</td>\n",
       "      <td>Fire</td>\n",
       "      <td>Summer</td>\n",
       "      <td>Winter</td>\n",
       "      <td>Sun</td>\n",
       "      <td>Sun</td>\n",
       "    </tr>\n",
       "    <tr>\n",
       "      <th>5</th>\n",
       "      <td>Virgo</td>\n",
       "      <td>The Maiden</td>\n",
       "      <td>NaN</td>\n",
       "      <td>♍︎</td>\n",
       "      <td>24 August</td>\n",
       "      <td>23 September</td>\n",
       "      <td>150° to 180°</td>\n",
       "      <td>6</td>\n",
       "      <td>Negative</td>\n",
       "      <td>Mutable</td>\n",
       "      <td>Earth</td>\n",
       "      <td>Summer</td>\n",
       "      <td>Winter</td>\n",
       "      <td>Mercury</td>\n",
       "      <td>Mercury</td>\n",
       "    </tr>\n",
       "    <tr>\n",
       "      <th>6</th>\n",
       "      <td>Libra</td>\n",
       "      <td>The Scales</td>\n",
       "      <td>NaN</td>\n",
       "      <td>♎︎</td>\n",
       "      <td>24 September</td>\n",
       "      <td>23 October</td>\n",
       "      <td>180° to 210°</td>\n",
       "      <td>7</td>\n",
       "      <td>Positive</td>\n",
       "      <td>Cardinal</td>\n",
       "      <td>Air</td>\n",
       "      <td>Autumn</td>\n",
       "      <td>Spring</td>\n",
       "      <td>Venus</td>\n",
       "      <td>Venus</td>\n",
       "    </tr>\n",
       "    <tr>\n",
       "      <th>7</th>\n",
       "      <td>Scorpio</td>\n",
       "      <td>The Scorpion</td>\n",
       "      <td>NaN</td>\n",
       "      <td>♏︎</td>\n",
       "      <td>24 October</td>\n",
       "      <td>22 November</td>\n",
       "      <td>210° to 240°</td>\n",
       "      <td>8</td>\n",
       "      <td>Negative</td>\n",
       "      <td>Fixed</td>\n",
       "      <td>Water</td>\n",
       "      <td>Autumn</td>\n",
       "      <td>Spring</td>\n",
       "      <td>Pluto (or)</td>\n",
       "      <td>Mars</td>\n",
       "    </tr>\n",
       "    <tr>\n",
       "      <th>8</th>\n",
       "      <td>Sagittarius</td>\n",
       "      <td>The Archer (Centaur)</td>\n",
       "      <td>NaN</td>\n",
       "      <td>♐︎</td>\n",
       "      <td>23 November</td>\n",
       "      <td>21 December</td>\n",
       "      <td>240° to 270°</td>\n",
       "      <td>9</td>\n",
       "      <td>Positive</td>\n",
       "      <td>Mutable</td>\n",
       "      <td>Fire</td>\n",
       "      <td>Autumn</td>\n",
       "      <td>Spring</td>\n",
       "      <td>Jupiter</td>\n",
       "      <td>Jupiter</td>\n",
       "    </tr>\n",
       "    <tr>\n",
       "      <th>9</th>\n",
       "      <td>Capricorn</td>\n",
       "      <td>The Goat</td>\n",
       "      <td>NaN</td>\n",
       "      <td>♑︎</td>\n",
       "      <td>22 December</td>\n",
       "      <td>20 January</td>\n",
       "      <td>270° to 300°</td>\n",
       "      <td>10</td>\n",
       "      <td>Negative</td>\n",
       "      <td>Cardinal</td>\n",
       "      <td>Earth</td>\n",
       "      <td>Winter</td>\n",
       "      <td>Summer</td>\n",
       "      <td>Saturn</td>\n",
       "      <td>Saturn</td>\n",
       "    </tr>\n",
       "    <tr>\n",
       "      <th>10</th>\n",
       "      <td>Aquarius</td>\n",
       "      <td>The Water-bearer</td>\n",
       "      <td>NaN</td>\n",
       "      <td>♒︎</td>\n",
       "      <td>21 January</td>\n",
       "      <td>19 February</td>\n",
       "      <td>300° to 330°</td>\n",
       "      <td>11</td>\n",
       "      <td>Positive</td>\n",
       "      <td>Fixed</td>\n",
       "      <td>Air</td>\n",
       "      <td>Winter</td>\n",
       "      <td>Summer</td>\n",
       "      <td>Uranus</td>\n",
       "      <td>Saturn</td>\n",
       "    </tr>\n",
       "    <tr>\n",
       "      <th>11</th>\n",
       "      <td>Pisces</td>\n",
       "      <td>The Fish</td>\n",
       "      <td>NaN</td>\n",
       "      <td>♓︎</td>\n",
       "      <td>20 February</td>\n",
       "      <td>20 March</td>\n",
       "      <td>330° to 360°</td>\n",
       "      <td>12</td>\n",
       "      <td>Negative</td>\n",
       "      <td>Mutable</td>\n",
       "      <td>Water</td>\n",
       "      <td>Winter</td>\n",
       "      <td>Summer</td>\n",
       "      <td>Neptune</td>\n",
       "      <td>Jupiter</td>\n",
       "    </tr>\n",
       "  </tbody>\n",
       "</table>\n",
       "</div>"
      ],
      "text/plain": [
       "           Sign                 Gloss  Symbol Unicode Character  \\\n",
       "0         Aries               The Ram     NaN                ♈︎   \n",
       "1        Taurus              The Bull     NaN                ♉︎   \n",
       "2        Gemini             The Twins     NaN                ♊︎   \n",
       "3        Cancer              The Crab     NaN                ♋︎   \n",
       "4           Leo              The Lion     NaN                ♌︎   \n",
       "5         Virgo            The Maiden     NaN                ♍︎   \n",
       "6         Libra            The Scales     NaN                ♎︎   \n",
       "7       Scorpio          The Scorpion     NaN                ♏︎   \n",
       "8   Sagittarius  The Archer (Centaur)     NaN                ♐︎   \n",
       "9     Capricorn              The Goat     NaN                ♑︎   \n",
       "10     Aquarius      The Water-bearer     NaN                ♒︎   \n",
       "11       Pisces              The Fish     NaN                ♓︎   \n",
       "\n",
       "   Approximate Sun Sign Start Dates[11] Approximate Sun Sign End Dates[11]  \\\n",
       "0                              21 March                           20 April   \n",
       "1                              21 April                             21 May   \n",
       "2                                22 May                            21 June   \n",
       "3                               22 June                            23 July   \n",
       "4                               24 July                          23 August   \n",
       "5                             24 August                       23 September   \n",
       "6                          24 September                         23 October   \n",
       "7                            24 October                        22 November   \n",
       "8                           23 November                        21 December   \n",
       "9                           22 December                         20 January   \n",
       "10                           21 January                        19 February   \n",
       "11                          20 February                           20 March   \n",
       "\n",
       "   Ecliptic Longitude (a ≤ λ < b)  House  Polarity  Modality Triplicity  \\\n",
       "0                       0° to 30°      1  Positive  Cardinal       Fire   \n",
       "1                      30° to 60°      2  Negative     Fixed      Earth   \n",
       "2                      60° to 90°      3  Positive   Mutable        Air   \n",
       "3                     90° to 120°      4  Negative  Cardinal      Water   \n",
       "4                    120° to 150°      5  Positive     Fixed       Fire   \n",
       "5                    150° to 180°      6  Negative   Mutable      Earth   \n",
       "6                    180° to 210°      7  Positive  Cardinal        Air   \n",
       "7                    210° to 240°      8  Negative     Fixed      Water   \n",
       "8                    240° to 270°      9  Positive   Mutable       Fire   \n",
       "9                    270° to 300°     10  Negative  Cardinal      Earth   \n",
       "10                   300° to 330°     11  Positive     Fixed        Air   \n",
       "11                   330° to 360°     12  Negative   Mutable      Water   \n",
       "\n",
       "   Northern Hemisphere Season Southern Hemisphere Season Modern Ruler  \\\n",
       "0                      Spring                     Autumn         Mars   \n",
       "1                      Spring                     Autumn        Venus   \n",
       "2                      Spring                     Autumn      Mercury   \n",
       "3                      Summer                     Winter         Moon   \n",
       "4                      Summer                     Winter          Sun   \n",
       "5                      Summer                     Winter      Mercury   \n",
       "6                      Autumn                     Spring        Venus   \n",
       "7                      Autumn                     Spring   Pluto (or)   \n",
       "8                      Autumn                     Spring      Jupiter   \n",
       "9                      Winter                     Summer       Saturn   \n",
       "10                     Winter                     Summer       Uranus   \n",
       "11                     Winter                     Summer      Neptune   \n",
       "\n",
       "   Classic Ruler  \n",
       "0           Mars  \n",
       "1          Venus  \n",
       "2        Mercury  \n",
       "3           Moon  \n",
       "4            Sun  \n",
       "5        Mercury  \n",
       "6          Venus  \n",
       "7           Mars  \n",
       "8        Jupiter  \n",
       "9         Saturn  \n",
       "10        Saturn  \n",
       "11       Jupiter  "
      ]
     },
     "execution_count": 18,
     "metadata": {},
     "output_type": "execute_result"
    }
   ],
   "source": [
    "zodiac"
   ]
  },
  {
   "cell_type": "code",
   "execution_count": 19,
   "id": "c20140c8",
   "metadata": {
    "execution": {
     "iopub.execute_input": "2023-12-17T11:29:32.984830Z",
     "iopub.status.busy": "2023-12-17T11:29:32.984683Z",
     "iopub.status.idle": "2023-12-17T11:29:32.987524Z",
     "shell.execute_reply": "2023-12-17T11:29:32.987123Z"
    }
   },
   "outputs": [],
   "source": [
    "class ZodiacSign(Enum):\n",
    "    \"\"\"\n",
    "    Represents the different zodiac signs.\n",
    "\n",
    "    Explanation\n",
    "    -----------\n",
    "    This class defines an enumeration of the twelve zodiac signs.\n",
    "    \"\"\"\n",
    "\n",
    "    Aries = \"Aries\"\n",
    "    Taurus = \"Taurus\"\n",
    "    Gemini = \"Gemini\"\n",
    "    Cancer = \"Cancer\"\n",
    "    Leo = \"Leo\"\n",
    "    Virgo = \"Virgo\"\n",
    "    Libra = \"Libra\"\n",
    "    Scorpio = \"Scorpio\"\n",
    "    Sagittarius = \"Sagittarius\"\n",
    "    Capricorn = \"Capricorn\"\n",
    "    Aquarius = \"Aquarius\"\n",
    "    Pisces = \"Pisces\""
   ]
  },
  {
   "cell_type": "code",
   "execution_count": 20,
   "id": "acd4067d",
   "metadata": {
    "execution": {
     "iopub.execute_input": "2023-12-17T11:29:32.989387Z",
     "iopub.status.busy": "2023-12-17T11:29:32.989234Z",
     "iopub.status.idle": "2023-12-17T11:29:32.992091Z",
     "shell.execute_reply": "2023-12-17T11:29:32.991753Z"
    }
   },
   "outputs": [],
   "source": [
    "class ChineseZodiac(Enum):\n",
    "    \"\"\"\n",
    "    Represents the Chinese zodiac signs.\n",
    "\n",
    "    Explanation\n",
    "    -----------\n",
    "    This class defines an enumeration of the twelve Chinese zodiac signs and\n",
    "    return the respective Wikipedia link.\n",
    "    \"\"\"\n",
    "\n",
    "    Rat = \"https://en.wikipedia.org/wiki/Rat_(zodiac)\"\n",
    "    Ox = \"https://en.wikipedia.org/wiki/Ox_(zodiac)\"\n",
    "    Tiger = \"https://en.wikipedia.org/wiki/Tiger_(zodiac)\"\n",
    "    Rabbit = \"https://en.wikipedia.org/wiki/Rabbit_(zodiac)\"\n",
    "    Dragon = \"https://en.wikipedia.org/wiki/Dragon_(zodiac)\"\n",
    "    Snake = \"https://en.wikipedia.org/wiki/Snake_(zodiac)\"\n",
    "    Horse = \"https://en.wikipedia.org/wiki/Horse_(zodiac)\"\n",
    "    Goat = \"https://en.wikipedia.org/wiki/Goat_(zodiac)\"\n",
    "    Monkey = \"https://en.wikipedia.org/wiki/Monkey_(zodiac)\"\n",
    "    Rooster = \"https://en.wikipedia.org/wiki/Rooster_(zodiac)\"\n",
    "    Dog = \"https://en.wikipedia.org/wiki/Dog_(zodiac)\"\n",
    "    Pig = \"https://en.wikipedia.org/wiki/Pig_(zodiac)\""
   ]
  },
  {
   "cell_type": "code",
   "execution_count": 21,
   "id": "da6d5f88",
   "metadata": {
    "execution": {
     "iopub.execute_input": "2023-12-17T11:29:32.993922Z",
     "iopub.status.busy": "2023-12-17T11:29:32.993772Z",
     "iopub.status.idle": "2023-12-17T11:29:32.997504Z",
     "shell.execute_reply": "2023-12-17T11:29:32.997165Z"
    }
   },
   "outputs": [],
   "source": [
    "def zodiac_characteristics(\n",
    "    zodiac_df: pd.DataFrame = zodiac, zodiac_sign: ZodiacSign = ZodiacSign.Cancer\n",
    ") -> dict[str, list[str | int]]:\n",
    "    \"\"\"\n",
    "    Extracts zodiac characteristics from a DataFrame based on the specified\n",
    "    zodiac sign.\n",
    "\n",
    "    Parameters\n",
    "    ----------\n",
    "    zodiac_df : pd.DataFrame, optional\n",
    "        The DataFrame containing zodiac information. By default, uses a\n",
    "        predefined zodiac DataFrame.\n",
    "    zodiac_sign : ZodiacSign, optional\n",
    "        The zodiac sign for which characteristics are extracted. By default,\n",
    "        uses ZodiacSign.Cancer.\n",
    "\n",
    "    Returns\n",
    "    -------\n",
    "    dict[str, list[str | int]]\n",
    "        A dictionary containing zodiac characteristics:\n",
    "        - 'dates': List of date strings.\n",
    "        - 'month': List of month values.\n",
    "        - 'days': List of day values.\n",
    "    \"\"\"\n",
    "    return (\n",
    "        (\n",
    "            zodiac_df.loc[zodiac_df[\"Sign\"] == zodiac_sign.value]\n",
    "            .filter(like=\"Sun\", axis=1)\n",
    "            .T\n",
    "        )\n",
    "        .set_axis([\"dates\"], axis=\"columns\")\n",
    "        .assign(\n",
    "            timestamp_fmt=lambda d: pd.to_datetime(d[\"dates\"], format=\"%d %B\"),\n",
    "            month=lambda d: d[\"timestamp_fmt\"].dt.month,\n",
    "            days=lambda d: d[\"timestamp_fmt\"].dt.day,\n",
    "        )\n",
    "        .filter(regex=\"^(?!.*timestamp).*$\")\n",
    "        .to_dict(\"list\")\n",
    "    )"
   ]
  },
  {
   "cell_type": "code",
   "execution_count": 22,
   "id": "3b1767a6",
   "metadata": {
    "execution": {
     "iopub.execute_input": "2023-12-17T11:29:32.999183Z",
     "iopub.status.busy": "2023-12-17T11:29:32.999086Z",
     "iopub.status.idle": "2023-12-17T11:29:33.004492Z",
     "shell.execute_reply": "2023-12-17T11:29:33.004152Z"
    }
   },
   "outputs": [
    {
     "data": {
      "text/plain": [
       "{'dates': ['23 November', '21 December'], 'month': [11, 12], 'days': [23, 21]}"
      ]
     },
     "execution_count": 22,
     "metadata": {},
     "output_type": "execute_result"
    }
   ],
   "source": [
    "zodiac.pipe(zodiac_characteristics, ZodiacSign.Sagittarius)"
   ]
  },
  {
   "cell_type": "code",
   "execution_count": 23,
   "id": "97544d0f",
   "metadata": {
    "execution": {
     "iopub.execute_input": "2023-12-17T11:29:33.006515Z",
     "iopub.status.busy": "2023-12-17T11:29:33.006363Z",
     "iopub.status.idle": "2023-12-17T11:29:33.009321Z",
     "shell.execute_reply": "2023-12-17T11:29:33.009039Z"
    }
   },
   "outputs": [],
   "source": [
    "def chinese_sign_years(\n",
    "    customers_df: pd.DataFrame = customers,\n",
    "    chinese_zodiac_animal: ChineseZodiac = ChineseZodiac.Rabbit,\n",
    ") -> set[int]:\n",
    "    \"\"\"\n",
    "    Retrieves the birth years of customers belonging to a specific Chinese\n",
    "    zodiac sign.\n",
    "\n",
    "    Parameters\n",
    "    ----------\n",
    "    customers_df : pd.DataFrame, optional\n",
    "        The DataFrame containing customer information. By default, uses a\n",
    "        predefined 'customers' DataFrame.\n",
    "    chinese_zodiac_animal : ChineseZodiac, optional\n",
    "        The Chinese zodiac animal for which to retrieve birth years.\n",
    "        By default, uses the ChineseZodiac.Rabbit.\n",
    "\n",
    "    Returns\n",
    "    -------\n",
    "    set[int]\n",
    "        A set of birth years corresponding to customers with the specified\n",
    "        Chinese zodiac sign.\n",
    "    \"\"\"\n",
    "\n",
    "    tables = pd.read_html(chinese_zodiac_animal.value)\n",
    "\n",
    "    for i, d in enumerate(tables):\n",
    "        cols = list(d.columns)\n",
    "        if \"Start date\" in cols:\n",
    "            date_table_index = i\n",
    "\n",
    "    return set(pd.to_numeric(tables[date_table_index][\"Start date\"].str[-4:])) & set(\n",
    "        customers_df[\"birthdate\"].dt.year\n",
    "    )"
   ]
  },
  {
   "cell_type": "code",
   "execution_count": 24,
   "id": "dfd8d6d8",
   "metadata": {
    "execution": {
     "iopub.execute_input": "2023-12-17T11:29:33.010872Z",
     "iopub.status.busy": "2023-12-17T11:29:33.010754Z",
     "iopub.status.idle": "2023-12-17T11:29:33.265948Z",
     "shell.execute_reply": "2023-12-17T11:29:33.265612Z"
    }
   },
   "outputs": [
    {
     "data": {
      "text/plain": [
       "{1943, 1955, 1967, 1979, 1991}"
      ]
     },
     "execution_count": 24,
     "metadata": {},
     "output_type": "execute_result"
    }
   ],
   "source": [
    "chinese_sign_years(customers, ChineseZodiac.Goat)"
   ]
  },
  {
   "cell_type": "code",
   "execution_count": 25,
   "id": "07182bab",
   "metadata": {
    "execution": {
     "iopub.execute_input": "2023-12-17T11:29:33.267980Z",
     "iopub.status.busy": "2023-12-17T11:29:33.267832Z",
     "iopub.status.idle": "2023-12-17T11:29:33.271395Z",
     "shell.execute_reply": "2023-12-17T11:29:33.271089Z"
    }
   },
   "outputs": [],
   "source": [
    "def western_astrology_with_chinese_dates(\n",
    "    western_astrology_sign: ZodiacSign = ZodiacSign.Cancer,\n",
    "    chinese_astrology_animal: ChineseZodiac = ChineseZodiac.Rabbit,\n",
    ") -> list[pd.Timestamp]:\n",
    "    \"\"\"\n",
    "    Retrieves a list of timestamps representing the overlapping periods between\n",
    "    Western astrology sign dates and Chinese astrology birth years.\n",
    "\n",
    "    Parameters\n",
    "    ----------\n",
    "    western_astrology_sign : ZodiacSign, optional\n",
    "        The Western astrology sign for which to retrieve overlapping dates.\n",
    "        By default, uses ZodiacSign.Cancer.\n",
    "    chinese_astrology_animal : ChineseZodiac, optional\n",
    "        The Chinese astrology animal for which to retrieve overlapping dates.\n",
    "        By default, uses ChineseZodiac.Rabbit.\n",
    "\n",
    "    Returns\n",
    "    -------\n",
    "    list[pd.Timestamp]\n",
    "        A list of timestamps representing the overlapping periods between the\n",
    "        specified Western astrology sign and Chinese astrology birth years.\n",
    "    \"\"\"\n",
    "\n",
    "    sign_dict: dict[str, list[str | int]] = zodiac_characteristics(\n",
    "        zodiac_sign=western_astrology_sign\n",
    "    )\n",
    "    animal_years: set[int] = chinese_sign_years(\n",
    "        chinese_zodiac_animal=chinese_astrology_animal\n",
    "    )\n",
    "\n",
    "    months: list[int] = sign_dict[\"month\"]\n",
    "    start_month, end_month = months\n",
    "\n",
    "    days: list[int] = sign_dict[\"days\"]\n",
    "    start_day, end_day = days\n",
    "\n",
    "    return [\n",
    "        pd.Period.to_timestamp(date)\n",
    "        for date in np.concatenate(\n",
    "            [\n",
    "                pd.period_range(\n",
    "                    start=pd.Timestamp(f\"{start_month}/{start_day}/{animal_year}\"),\n",
    "                    end=pd.Timestamp(f\"{end_month}/{end_day}/{animal_year}\"),\n",
    "                )\n",
    "                for animal_year in sorted(animal_years)\n",
    "            ],\n",
    "            axis=0,\n",
    "        )\n",
    "    ]"
   ]
  },
  {
   "cell_type": "code",
   "execution_count": 26,
   "id": "ad29390f",
   "metadata": {
    "execution": {
     "iopub.execute_input": "2023-12-17T11:29:33.273045Z",
     "iopub.status.busy": "2023-12-17T11:29:33.272942Z",
     "iopub.status.idle": "2023-12-17T11:29:33.275740Z",
     "shell.execute_reply": "2023-12-17T11:29:33.275466Z"
    }
   },
   "outputs": [],
   "source": [
    "def three_the_neighbor(\n",
    "    customers_df: pd.DataFrame = customers,\n",
    "    western_astrology_sign: ZodiacSign = ZodiacSign.Libra,\n",
    "    chinese_astrology_animal: ChineseZodiac = ChineseZodiac.Goat,\n",
    ") -> pd.DataFrame:\n",
    "    dates = western_astrology_with_chinese_dates(\n",
    "        western_astrology_sign, chinese_astrology_animal\n",
    "    )\n",
    "    the_contractor = two_the_contractor()\n",
    "    return (\n",
    "        customers_df.loc[customers_df[\"birthdate\"].isin(dates)]\n",
    "        .assign(\n",
    "            zip_code=lambda d: d[\"citystatezip\"].str[-5:],\n",
    "            neighbor=lambda d: d[\"zip_code\"]\n",
    "            == the_contractor[\"citystatezip\"].str[-5:].iloc[0],\n",
    "        )\n",
    "        .loc[lambda d: d[\"neighbor\"]]\n",
    "        .filter(customers_df.columns)\n",
    "    )"
   ]
  },
  {
   "cell_type": "code",
   "execution_count": 27,
   "id": "0b09fd0a",
   "metadata": {
    "execution": {
     "iopub.execute_input": "2023-12-17T11:29:33.277376Z",
     "iopub.status.busy": "2023-12-17T11:29:33.277258Z",
     "iopub.status.idle": "2023-12-17T11:29:33.685755Z",
     "shell.execute_reply": "2023-12-17T11:29:33.685475Z"
    }
   },
   "outputs": [
    {
     "data": {
      "text/html": [
       "<div>\n",
       "<style scoped>\n",
       "    .dataframe tbody tr th:only-of-type {\n",
       "        vertical-align: middle;\n",
       "    }\n",
       "\n",
       "    .dataframe tbody tr th {\n",
       "        vertical-align: top;\n",
       "    }\n",
       "\n",
       "    .dataframe thead th {\n",
       "        text-align: right;\n",
       "    }\n",
       "</style>\n",
       "<table border=\"1\" class=\"dataframe\">\n",
       "  <thead>\n",
       "    <tr style=\"text-align: right;\">\n",
       "      <th></th>\n",
       "      <th>customerid</th>\n",
       "      <th>name</th>\n",
       "      <th>address</th>\n",
       "      <th>citystatezip</th>\n",
       "      <th>birthdate</th>\n",
       "      <th>phone</th>\n",
       "      <th>timezone</th>\n",
       "      <th>lat</th>\n",
       "      <th>long</th>\n",
       "    </tr>\n",
       "  </thead>\n",
       "  <tbody>\n",
       "    <tr>\n",
       "      <th>2863</th>\n",
       "      <td>3864</td>\n",
       "      <td>David Perez</td>\n",
       "      <td>86-79 211th St</td>\n",
       "      <td>Queens Village, NY 11427</td>\n",
       "      <td>1979-09-29</td>\n",
       "      <td>914-594-5535</td>\n",
       "      <td>America/New_York</td>\n",
       "      <td>40.72626</td>\n",
       "      <td>-73.75752</td>\n",
       "    </tr>\n",
       "  </tbody>\n",
       "</table>\n",
       "</div>"
      ],
      "text/plain": [
       "      customerid         name         address              citystatezip  \\\n",
       "2863        3864  David Perez  86-79 211th St  Queens Village, NY 11427   \n",
       "\n",
       "      birthdate         phone          timezone       lat      long  \n",
       "2863 1979-09-29  914-594-5535  America/New_York  40.72626 -73.75752  "
      ]
     },
     "metadata": {},
     "output_type": "display_data"
    }
   ],
   "source": [
    "customers.pipe(three_the_neighbor).pipe(display)"
   ]
  },
  {
   "cell_type": "code",
   "execution_count": 28,
   "id": "ff2934b1",
   "metadata": {
    "execution": {
     "iopub.execute_input": "2023-12-17T11:29:33.687327Z",
     "iopub.status.busy": "2023-12-17T11:29:33.687223Z",
     "iopub.status.idle": "2023-12-17T11:29:34.121997Z",
     "shell.execute_reply": "2023-12-17T11:29:34.121582Z"
    },
    "lines_to_next_cell": 2
   },
   "outputs": [
    {
     "data": {
      "text/plain": [
       "'914-594-5535'"
      ]
     },
     "execution_count": 28,
     "metadata": {},
     "output_type": "execute_result"
    }
   ],
   "source": [
    "customers.pipe(three_the_neighbor).pipe(answer)"
   ]
  },
  {
   "cell_type": "code",
   "execution_count": 29,
   "id": "1bfb43ef",
   "metadata": {
    "execution": {
     "iopub.execute_input": "2023-12-17T11:29:34.123928Z",
     "iopub.status.busy": "2023-12-17T11:29:34.123742Z",
     "iopub.status.idle": "2023-12-17T11:29:34.125756Z",
     "shell.execute_reply": "2023-12-17T11:29:34.125507Z"
    },
    "lines_to_next_cell": 2
   },
   "outputs": [],
   "source": [
    "del zodiac"
   ]
  },
  {
   "cell_type": "markdown",
   "id": "73d9c825",
   "metadata": {
    "lines_to_next_cell": 2
   },
   "source": [
    "## 4. The Early Bird\n",
    "\n",
    "The investigator called the phone number you found and left a message, and a\n",
    "man soon called back:\n",
    "\n",
    "“Wow, that was years ago! It was quite an elegant tapestry.\n",
    "\n",
    "“It took a lot of patience, but I did manage to get the dirt out of one\n",
    "section, which uncovered a superb owl. I put it up on my wall, and sometimes\n",
    "at night I swear I could hear the owl hooting.\n",
    "\n",
    "“A few weeks later my bike chain broke on the way home, and I needed to get it\n",
    "fixed before work the next day. Thankfully, this woman I met on Tinder came\n",
    "over at 5am with her bike chain repair kit and some pastries from Noah’s.\n",
    "Apparently she liked to get up before dawn and claim the first pastries that\n",
    "came out of the oven.\n",
    "\n",
    "“I didn’t have any money or I would’ve paid her for her trouble. She really\n",
    "liked the tapestry, though, so I wound up giving it to her.\n",
    "\n",
    "“I don’t remember her name or anything else about her.”\n",
    "\n",
    "Can you find the bicycle fixer’s phone number?"
   ]
  },
  {
   "cell_type": "code",
   "execution_count": 30,
   "id": "c32b16d1",
   "metadata": {
    "execution": {
     "iopub.execute_input": "2023-12-17T11:29:34.127298Z",
     "iopub.status.busy": "2023-12-17T11:29:34.127202Z",
     "iopub.status.idle": "2023-12-17T11:29:34.129821Z",
     "shell.execute_reply": "2023-12-17T11:29:34.129572Z"
    }
   },
   "outputs": [],
   "source": [
    "def earlybird_customer_id(\n",
    "    orders_df: pd.DataFrame = orders, orders_items_df: pd.DataFrame = orders_items\n",
    ") -> int:\n",
    "    \"\"\"\n",
    "    Find the customer ID who placed an early-bird order.\n",
    "\n",
    "    Parameters\n",
    "    ----------\n",
    "    orders_df : pd.DataFrame, optional\n",
    "        DataFrame containing order information, by default orders.\n",
    "    orders_items_df : pd.DataFrame, optional\n",
    "        DataFrame containing order items information, by default orders_items.\n",
    "\n",
    "    Returns\n",
    "    -------\n",
    "    int\n",
    "        The customer ID who placed the early-bird order meeting the specified\n",
    "        criteria.\n",
    "    \"\"\"\n",
    "    return (\n",
    "        orders_df.loc[\n",
    "            (orders_df[\"ordered\"].dt.hour < 5) & (orders_df[\"shipped\"].dt.hour < 5)\n",
    "        ]\n",
    "        .merge(orders_items_df, on=\"orderid\")\n",
    "        .loc[lambda d: (d[\"sku\"].str[:3] == \"BKY\") & (d[\"qty\"] > 1), \"customerid\"]\n",
    "        .mode()\n",
    "        .iloc[0]\n",
    "    )"
   ]
  },
  {
   "cell_type": "code",
   "execution_count": 31,
   "id": "5b14215d",
   "metadata": {
    "execution": {
     "iopub.execute_input": "2023-12-17T11:29:34.131229Z",
     "iopub.status.busy": "2023-12-17T11:29:34.131131Z",
     "iopub.status.idle": "2023-12-17T11:29:34.171398Z",
     "shell.execute_reply": "2023-12-17T11:29:34.171113Z"
    }
   },
   "outputs": [
    {
     "data": {
      "text/plain": [
       "6455"
      ]
     },
     "execution_count": 31,
     "metadata": {},
     "output_type": "execute_result"
    }
   ],
   "source": [
    "orders.pipe(earlybird_customer_id)"
   ]
  },
  {
   "cell_type": "code",
   "execution_count": 32,
   "id": "bab7f032",
   "metadata": {
    "execution": {
     "iopub.execute_input": "2023-12-17T11:29:34.172952Z",
     "iopub.status.busy": "2023-12-17T11:29:34.172846Z",
     "iopub.status.idle": "2023-12-17T11:29:34.174755Z",
     "shell.execute_reply": "2023-12-17T11:29:34.174526Z"
    }
   },
   "outputs": [],
   "source": [
    "def four_the_early_bird(customers_df: pd.DataFrame = customers) -> pd.DataFrame:\n",
    "    earlybird_customer: int = earlybird_customer_id()\n",
    "    return customers_df.loc[customers_df[\"customerid\"] == earlybird_customer]"
   ]
  },
  {
   "cell_type": "code",
   "execution_count": 33,
   "id": "55ebfd02",
   "metadata": {
    "execution": {
     "iopub.execute_input": "2023-12-17T11:29:34.176250Z",
     "iopub.status.busy": "2023-12-17T11:29:34.176150Z",
     "iopub.status.idle": "2023-12-17T11:29:34.216747Z",
     "shell.execute_reply": "2023-12-17T11:29:34.216461Z"
    }
   },
   "outputs": [
    {
     "data": {
      "text/html": [
       "<div>\n",
       "<style scoped>\n",
       "    .dataframe tbody tr th:only-of-type {\n",
       "        vertical-align: middle;\n",
       "    }\n",
       "\n",
       "    .dataframe tbody tr th {\n",
       "        vertical-align: top;\n",
       "    }\n",
       "\n",
       "    .dataframe thead th {\n",
       "        text-align: right;\n",
       "    }\n",
       "</style>\n",
       "<table border=\"1\" class=\"dataframe\">\n",
       "  <thead>\n",
       "    <tr style=\"text-align: right;\">\n",
       "      <th></th>\n",
       "      <th>customerid</th>\n",
       "      <th>name</th>\n",
       "      <th>address</th>\n",
       "      <th>citystatezip</th>\n",
       "      <th>birthdate</th>\n",
       "      <th>phone</th>\n",
       "      <th>timezone</th>\n",
       "      <th>lat</th>\n",
       "      <th>long</th>\n",
       "    </tr>\n",
       "  </thead>\n",
       "  <tbody>\n",
       "    <tr>\n",
       "      <th>5454</th>\n",
       "      <td>6455</td>\n",
       "      <td>Brittany Harmon</td>\n",
       "      <td>8892A Shore Rd</td>\n",
       "      <td>Brooklyn, NY 11209</td>\n",
       "      <td>1967-01-12</td>\n",
       "      <td>716-789-4433</td>\n",
       "      <td>America/New_York</td>\n",
       "      <td>40.63201</td>\n",
       "      <td>-74.03621</td>\n",
       "    </tr>\n",
       "  </tbody>\n",
       "</table>\n",
       "</div>"
      ],
      "text/plain": [
       "      customerid             name         address        citystatezip  \\\n",
       "5454        6455  Brittany Harmon  8892A Shore Rd  Brooklyn, NY 11209   \n",
       "\n",
       "      birthdate         phone          timezone       lat      long  \n",
       "5454 1967-01-12  716-789-4433  America/New_York  40.63201 -74.03621  "
      ]
     },
     "metadata": {},
     "output_type": "display_data"
    }
   ],
   "source": [
    "customers.pipe(four_the_early_bird).pipe(display)"
   ]
  },
  {
   "cell_type": "code",
   "execution_count": 34,
   "id": "af80b1c6",
   "metadata": {
    "execution": {
     "iopub.execute_input": "2023-12-17T11:29:34.218762Z",
     "iopub.status.busy": "2023-12-17T11:29:34.218632Z",
     "iopub.status.idle": "2023-12-17T11:29:34.271937Z",
     "shell.execute_reply": "2023-12-17T11:29:34.271623Z"
    }
   },
   "outputs": [
    {
     "data": {
      "text/plain": [
       "'716-789-4433'"
      ]
     },
     "execution_count": 34,
     "metadata": {},
     "output_type": "execute_result"
    }
   ],
   "source": [
    "customers.pipe(four_the_early_bird).pipe(answer)"
   ]
  },
  {
   "cell_type": "markdown",
   "id": "b5292be3",
   "metadata": {
    "lines_to_next_cell": 2
   },
   "source": [
    "## 5. The Cat Lady\n",
    "\n",
    "“Yes, I did have that tapestry for a little bit. I even cleaned a blotchy\n",
    "section that turned out to be a friendly koala.\n",
    "\n",
    "“But it was still really dirty, so when I was going through a Marie Kondo\n",
    "phase, I decided it wasn’t sparking joy anymore.\n",
    "\n",
    "“I listed it on Freecycle, and a woman came to pick it up. She was wearing a\n",
    "‘Noah’s Market’ sweatshirt, and it was just covered in cat hair. When I\n",
    "suggested that a clowder of cats might ruin such a fine tapestry, she looked\n",
    "at me funny. She said “I only have ten or eleven cats, and anyway they are\n",
    "getting quite old now, so I doubt they’d care about some old rug.”\n",
    "\n",
    "“It took her 20 minutes to stuff the tapestry into some plastic bags she\n",
    "brought because it was raining. I spent the evening cleaning my apartment.”\n",
    "\n",
    "What’s the phone number of the woman from Freecycle?"
   ]
  },
  {
   "cell_type": "code",
   "execution_count": 35,
   "id": "0055473c",
   "metadata": {
    "execution": {
     "iopub.execute_input": "2023-12-17T11:29:34.273688Z",
     "iopub.status.busy": "2023-12-17T11:29:34.273563Z",
     "iopub.status.idle": "2023-12-17T11:29:34.276910Z",
     "shell.execute_reply": "2023-12-17T11:29:34.276623Z"
    }
   },
   "outputs": [],
   "source": [
    "def top_customers_id_cat_products(\n",
    "    customers_df: pd.DataFrame = customers,\n",
    "    orders_df: pd.DataFrame = orders,\n",
    "    orders_items_df: pd.DataFrame = orders_items,\n",
    "    products_df: pd.DataFrame = products,\n",
    "    # new_york_borough: str = \"Staten Island\",\n",
    ") -> pd.Series:\n",
    "    \"\"\"\n",
    "    Returns the mode (most frequent) customer ID of customers in a specified New\n",
    "    York borough who have purchased products containing the term \"cat\" in their\n",
    "    description.\n",
    "\n",
    "    Parameters\n",
    "    ----------\n",
    "    customers_df : pd.DataFrame, optional\n",
    "        DataFrame containing customer information, by default customers\n",
    "    orders_df : pd.DataFrame, optional\n",
    "        DataFrame containing order information, by default orders\n",
    "    orders_items_df : pd.DataFrame, optional\n",
    "        DataFrame containing order items information, by default orders_items\n",
    "    products_df : pd.DataFrame, optional\n",
    "        DataFrame containing product information, by default products\n",
    "    new_york_borough : str, optional\n",
    "        Name of the New York borough to filter customers, by default \"Staten\n",
    "        Island\"\n",
    "\n",
    "    Returns\n",
    "    -------\n",
    "    pd.Series\n",
    "        Series containing the mode customer ID of customers meeting the\n",
    "        specified criteria.\n",
    "    \"\"\"\n",
    "    return pd.Series(\n",
    "        customers_df.merge(orders_df, on=\"customerid\")\n",
    "        .merge(orders_items_df, on=\"orderid\")\n",
    "        .merge(products_df, on=\"sku\")\n",
    "        .loc[\n",
    "            lambda d: d[\"sku\"].isin(\n",
    "                products_df.loc[\n",
    "                    products_df[\"desc\"].str.contains(\"senior cat\", case=False)\n",
    "                ]\n",
    "                .agg({\"sku\": \"unique\"})\n",
    "                .squeeze()\n",
    "            )\n",
    "        ]\n",
    "        .agg({\"customerid\": \"mode\"})\n",
    "        .squeeze()\n",
    "    )"
   ]
  },
  {
   "cell_type": "code",
   "execution_count": 36,
   "id": "4ddc79c8",
   "metadata": {
    "execution": {
     "iopub.execute_input": "2023-12-17T11:29:34.278460Z",
     "iopub.status.busy": "2023-12-17T11:29:34.278367Z",
     "iopub.status.idle": "2023-12-17T11:29:34.280529Z",
     "shell.execute_reply": "2023-12-17T11:29:34.280259Z"
    }
   },
   "outputs": [],
   "source": [
    "def five_the_cat_lady(customers_df: pd.DataFrame = customers) -> pd.DataFrame:\n",
    "    \"\"\"\n",
    "    Filters and returns a DataFrame containing information about customers who\n",
    "    are identified as top customers based on their purchase history of products\n",
    "    containing the term \"cat\" in the description.\n",
    "\n",
    "    Parameters\n",
    "    ----------\n",
    "    customers_df : pd.DataFrame, optional\n",
    "        DataFrame containing customer information, by default customers\n",
    "\n",
    "    Returns\n",
    "    -------\n",
    "    pd.DataFrame\n",
    "        DataFrame containing information about customers identified as top\n",
    "        customers based on their purchase history of \"cat\" products.\n",
    "    \"\"\"\n",
    "    top_customers_id_cat_products_series: pd.Series = top_customers_id_cat_products()\n",
    "    return customers_df.loc[\n",
    "        customers_df[\"customerid\"].isin(top_customers_id_cat_products_series)\n",
    "    ]"
   ]
  },
  {
   "cell_type": "code",
   "execution_count": 37,
   "id": "911535c1",
   "metadata": {
    "execution": {
     "iopub.execute_input": "2023-12-17T11:29:34.281921Z",
     "iopub.status.busy": "2023-12-17T11:29:34.281834Z",
     "iopub.status.idle": "2023-12-17T11:29:34.618865Z",
     "shell.execute_reply": "2023-12-17T11:29:34.618555Z"
    }
   },
   "outputs": [
    {
     "data": {
      "text/html": [
       "<div>\n",
       "<style scoped>\n",
       "    .dataframe tbody tr th:only-of-type {\n",
       "        vertical-align: middle;\n",
       "    }\n",
       "\n",
       "    .dataframe tbody tr th {\n",
       "        vertical-align: top;\n",
       "    }\n",
       "\n",
       "    .dataframe thead th {\n",
       "        text-align: right;\n",
       "    }\n",
       "</style>\n",
       "<table border=\"1\" class=\"dataframe\">\n",
       "  <thead>\n",
       "    <tr style=\"text-align: right;\">\n",
       "      <th></th>\n",
       "      <th>customerid</th>\n",
       "      <th>name</th>\n",
       "      <th>address</th>\n",
       "      <th>citystatezip</th>\n",
       "      <th>birthdate</th>\n",
       "      <th>phone</th>\n",
       "      <th>timezone</th>\n",
       "      <th>lat</th>\n",
       "      <th>long</th>\n",
       "    </tr>\n",
       "  </thead>\n",
       "  <tbody>\n",
       "    <tr>\n",
       "      <th>6956</th>\n",
       "      <td>7957</td>\n",
       "      <td>Theresa Carter</td>\n",
       "      <td>1503 Plymouth Ave</td>\n",
       "      <td>Bronx, NY 10461</td>\n",
       "      <td>1961-12-13</td>\n",
       "      <td>347-835-2358</td>\n",
       "      <td>America/New_York</td>\n",
       "      <td>40.84315</td>\n",
       "      <td>-73.83169</td>\n",
       "    </tr>\n",
       "  </tbody>\n",
       "</table>\n",
       "</div>"
      ],
      "text/plain": [
       "      customerid            name            address     citystatezip  \\\n",
       "6956        7957  Theresa Carter  1503 Plymouth Ave  Bronx, NY 10461   \n",
       "\n",
       "      birthdate         phone          timezone       lat      long  \n",
       "6956 1961-12-13  347-835-2358  America/New_York  40.84315 -73.83169  "
      ]
     },
     "metadata": {},
     "output_type": "display_data"
    }
   ],
   "source": [
    "customers.pipe(five_the_cat_lady).pipe(display)"
   ]
  },
  {
   "cell_type": "code",
   "execution_count": 38,
   "id": "8f63981e",
   "metadata": {
    "execution": {
     "iopub.execute_input": "2023-12-17T11:29:34.620709Z",
     "iopub.status.busy": "2023-12-17T11:29:34.620588Z",
     "iopub.status.idle": "2023-12-17T11:29:34.927669Z",
     "shell.execute_reply": "2023-12-17T11:29:34.927285Z"
    },
    "lines_to_next_cell": 2
   },
   "outputs": [
    {
     "data": {
      "text/plain": [
       "'347-835-2358'"
      ]
     },
     "execution_count": 38,
     "metadata": {},
     "output_type": "execute_result"
    }
   ],
   "source": [
    "customers.pipe(five_the_cat_lady).pipe(answer)"
   ]
  },
  {
   "cell_type": "markdown",
   "id": "9be808b4",
   "metadata": {
    "lines_to_next_cell": 2
   },
   "source": [
    "## 6. The Bargain Hunter\n",
    "\n",
    "“Why yes, I did have that rug for a little while in my living room! My cats\n",
    "can’t see a thing but they sure chased after the squirrel on it like it was\n",
    "dancing in front of their noses.\n",
    "\n",
    "“It was a nice rug and they were surely going to ruin it, so I gave it to my\n",
    "cousin, who was moving into a new place that had wood floors.\n",
    "\n",
    "“She refused to buy a new rug for herself–she said they were way too\n",
    "expensive. She’s always been very frugal, and she clips every coupon and shops\n",
    "every sale at Noah’s Market. In fact I like to tease her that Noah actually\n",
    "loses money whenever she comes in the store.\n",
    "\n",
    "“I think she’s been taking it too far lately though. Once the subway fare\n",
    "increased, she stopped coming to visit me. And she’s really slow to respond to\n",
    "my texts. I hope she remembers to invite me to the family reunion next year.”\n",
    "\n",
    "Can you find her cousin’s phone number?"
   ]
  },
  {
   "cell_type": "code",
   "execution_count": 39,
   "id": "f19f6e0c",
   "metadata": {
    "execution": {
     "iopub.execute_input": "2023-12-17T11:29:34.929515Z",
     "iopub.status.busy": "2023-12-17T11:29:34.929334Z",
     "iopub.status.idle": "2023-12-17T11:29:34.932825Z",
     "shell.execute_reply": "2023-12-17T11:29:34.932566Z"
    }
   },
   "outputs": [],
   "source": [
    "def six_the_bargain_hunter(\n",
    "    customers_df: pd.DataFrame = customers,\n",
    "    products_df: pd.DataFrame = products,\n",
    "    orders_df: pd.DataFrame = orders,\n",
    "    orders_items_df: pd.DataFrame = orders_items,\n",
    ") -> pd.DataFrame:\n",
    "    \"\"\"\n",
    "    Filters a DataFrame of customers to include only those who are identified as\n",
    "    savvy bargain hunters.\n",
    "\n",
    "    Parameters\n",
    "    ----------\n",
    "    customers_df : pd.DataFrame, optional\n",
    "        DataFrame containing customer information, by default customers.\n",
    "    products_df : pd.DataFrame, optional\n",
    "        DataFrame containing product information, by default products.\n",
    "    orders_df : pd.DataFrame, optional\n",
    "        DataFrame containing order information, by default orders.\n",
    "    orders_items_df : pd.DataFrame, optional\n",
    "        DataFrame containing order items information, by default orders_items.\n",
    "\n",
    "    Returns\n",
    "    -------\n",
    "    pd.DataFrame\n",
    "        DataFrame containing information about customers identified as savvy\n",
    "        bargain hunters.\n",
    "\n",
    "    Notes\n",
    "    -----\n",
    "    This function identifies customers who are considered bargain hunters based\n",
    "    on their purchase behavior. The criteria include purchasing products at a\n",
    "    unit price less than or equal to the wholesale cost. The resulting DataFrame\n",
    "    includes customer information for those who meet the specified criteria.\n",
    "    \"\"\"\n",
    "    bh_customer_id = (\n",
    "        orders_items_df.groupby([\"sku\", \"orderid\"], as_index=False)\n",
    "        .agg({\"unit_price\": \"min\"})\n",
    "        .merge(products_df, on=\"sku\")\n",
    "        .loc[lambda d: d[\"unit_price\"] <= d[\"wholesale_cost\"]]\n",
    "        .merge(orders_df, on=\"orderid\")\n",
    "        .merge(customers_df, on=\"customerid\")\n",
    "        .agg({\"customerid\": \"mode\"})\n",
    "        .iloc[0]\n",
    "    )\n",
    "\n",
    "    return customers_df.loc[customers_df[\"customerid\"].isin(bh_customer_id)]"
   ]
  },
  {
   "cell_type": "code",
   "execution_count": 40,
   "id": "bd58bf89",
   "metadata": {
    "execution": {
     "iopub.execute_input": "2023-12-17T11:29:34.934262Z",
     "iopub.status.busy": "2023-12-17T11:29:34.934186Z",
     "iopub.status.idle": "2023-12-17T11:29:35.106980Z",
     "shell.execute_reply": "2023-12-17T11:29:35.106681Z"
    }
   },
   "outputs": [
    {
     "data": {
      "text/html": [
       "<div>\n",
       "<style scoped>\n",
       "    .dataframe tbody tr th:only-of-type {\n",
       "        vertical-align: middle;\n",
       "    }\n",
       "\n",
       "    .dataframe tbody tr th {\n",
       "        vertical-align: top;\n",
       "    }\n",
       "\n",
       "    .dataframe thead th {\n",
       "        text-align: right;\n",
       "    }\n",
       "</style>\n",
       "<table border=\"1\" class=\"dataframe\">\n",
       "  <thead>\n",
       "    <tr style=\"text-align: right;\">\n",
       "      <th></th>\n",
       "      <th>customerid</th>\n",
       "      <th>name</th>\n",
       "      <th>address</th>\n",
       "      <th>citystatezip</th>\n",
       "      <th>birthdate</th>\n",
       "      <th>phone</th>\n",
       "      <th>timezone</th>\n",
       "      <th>lat</th>\n",
       "      <th>long</th>\n",
       "    </tr>\n",
       "  </thead>\n",
       "  <tbody>\n",
       "    <tr>\n",
       "      <th>7883</th>\n",
       "      <td>8884</td>\n",
       "      <td>Deborah Green</td>\n",
       "      <td>1095B Simpson St</td>\n",
       "      <td>Bronx, NY 10459</td>\n",
       "      <td>1987-05-16</td>\n",
       "      <td>838-295-7143</td>\n",
       "      <td>America/New_York</td>\n",
       "      <td>40.82314</td>\n",
       "      <td>-73.89254</td>\n",
       "    </tr>\n",
       "  </tbody>\n",
       "</table>\n",
       "</div>"
      ],
      "text/plain": [
       "      customerid           name           address     citystatezip  birthdate  \\\n",
       "7883        8884  Deborah Green  1095B Simpson St  Bronx, NY 10459 1987-05-16   \n",
       "\n",
       "             phone          timezone       lat      long  \n",
       "7883  838-295-7143  America/New_York  40.82314 -73.89254  "
      ]
     },
     "metadata": {},
     "output_type": "display_data"
    }
   ],
   "source": [
    "customers.pipe(six_the_bargain_hunter).pipe(display)"
   ]
  },
  {
   "cell_type": "code",
   "execution_count": 41,
   "id": "a4b045c3",
   "metadata": {
    "execution": {
     "iopub.execute_input": "2023-12-17T11:29:35.108643Z",
     "iopub.status.busy": "2023-12-17T11:29:35.108529Z",
     "iopub.status.idle": "2023-12-17T11:29:35.289524Z",
     "shell.execute_reply": "2023-12-17T11:29:35.289189Z"
    }
   },
   "outputs": [
    {
     "data": {
      "text/plain": [
       "'838-295-7143'"
      ]
     },
     "execution_count": 41,
     "metadata": {},
     "output_type": "execute_result"
    }
   ],
   "source": [
    "customers.pipe(six_the_bargain_hunter).pipe(answer)"
   ]
  },
  {
   "cell_type": "markdown",
   "id": "15a5d57f",
   "metadata": {
    "lines_to_next_cell": 2
   },
   "source": [
    "## 7. The Meet Cute\n",
    "\n",
    "“Oh that tapestry, with the colorful toucan on it! I’ll tell you what happened\n",
    "to it.\n",
    "\n",
    "“One day, I was at Noah’s Market, and I was just about to leave when someone\n",
    "behind me said ‘Miss! You dropped something!’\n",
    "\n",
    "“Well I turned around to see this cute guy holding an item I had bought. He\n",
    "said, ‘I got the same thing!’ We laughed about it and wound up swapping items\n",
    "because I wanted the color he got. We had a moment when our eyes met and my\n",
    "heart stopped for a second. I asked him to get some food with me and we spent\n",
    "the rest of the day together.\n",
    "\n",
    "“Before long I moved into his place, but the romance faded quickly, as he\n",
    "wasn’t the prince I imagined. I left abruptly one night, forgetting the\n",
    "tapestry on his wall. But by then, it symbolized our love, and I wanted\n",
    "nothing more to do with it. For all I know, he still has it.”\n",
    "\n",
    "Can you figure out her ex-boyfriend’s phone number?"
   ]
  },
  {
   "cell_type": "code",
   "execution_count": 42,
   "id": "5231b973",
   "metadata": {
    "execution": {
     "iopub.execute_input": "2023-12-17T11:29:35.291415Z",
     "iopub.status.busy": "2023-12-17T11:29:35.291289Z",
     "iopub.status.idle": "2023-12-17T11:29:35.293718Z",
     "shell.execute_reply": "2023-12-17T11:29:35.293444Z"
    }
   },
   "outputs": [],
   "source": [
    "def date_hour_mm(orders_df: pd.DataFrame = orders) -> pd.DataFrame:\n",
    "    \"\"\"\n",
    "    Extracts and formats the date and hour from the 'ordered' column in a\n",
    "    DataFrame of order information.\n",
    "\n",
    "    Parameters\n",
    "    ----------\n",
    "    orders_df : pd.DataFrame, optional\n",
    "        DataFrame containing order information, by default orders.\n",
    "\n",
    "    Returns\n",
    "    -------\n",
    "    pd.DataFrame\n",
    "        DataFrame with an additional 'date_hour' column representing the\n",
    "        formatted date and hour.\n",
    "\n",
    "    Notes\n",
    "    -----\n",
    "    This function extracts the date and hour information from the 'ordered'\n",
    "    column and adds a new column 'date_hour' to the DataFrame. The 'date_hour'\n",
    "    column is formatted as 'MM/DD/YYYY HH MM' to represent the month, day,\n",
    "    year, and hour of each order.\n",
    "    \"\"\"\n",
    "    return orders_df.assign(\n",
    "        date_hour=lambda df: df[\"ordered\"].dt.strftime(\"%m/%d/%Y %H:%M\")\n",
    "    )"
   ]
  },
  {
   "cell_type": "code",
   "execution_count": 43,
   "id": "4cb5ecec",
   "metadata": {
    "execution": {
     "iopub.execute_input": "2023-12-17T11:29:35.295176Z",
     "iopub.status.busy": "2023-12-17T11:29:35.295077Z",
     "iopub.status.idle": "2023-12-17T11:29:35.297835Z",
     "shell.execute_reply": "2023-12-17T11:29:35.297571Z"
    }
   },
   "outputs": [],
   "source": [
    "def color_agnostic_item_name(products_df: pd.DataFrame = products) -> pd.DataFrame:\n",
    "    \"\"\"\n",
    "    Generates a new column for items, removing color information to create\n",
    "    color-agnostic names.\n",
    "\n",
    "    Parameters\n",
    "    ----------\n",
    "    products_df : pd.DataFrame, optional\n",
    "        DataFrame containing product information, by default products.\n",
    "\n",
    "    Returns\n",
    "    -------\n",
    "    pd.DataFrame\n",
    "        DataFrame with an additional 'desc_color_agnostic' column representing\n",
    "        color-agnostic item names.\n",
    "\n",
    "    Notes\n",
    "    -----\n",
    "    This function creates a new column 'desc_color_agnostic' by removing color\n",
    "    information from the 'desc' column. It ensures that item names are\n",
    "    represented without specific color details.\n",
    "\n",
    "    Examples\n",
    "    --------\n",
    "    >>> color_agnostic_item_name(df)\n",
    "    # Returns a DataFrame with 'desc_color_agnostic' column:\n",
    "    # 'Manual Mixer (orange)' -> 'Manual Mixer'\n",
    "\n",
    "    \"\"\"\n",
    "    return (\n",
    "        products_df.assign(\n",
    "            color_list=lambda df: df[\"desc\"]\n",
    "            .str.split(\"(\")\n",
    "            .str[1]\n",
    "            .str.replace(\")\", \"\")\n",
    "            .str.split()\n",
    "        )\n",
    "        .assign(color=lambda df: df[\"color_list\"].str[0])\n",
    "        .dropna()\n",
    "        .loc[lambda df: df[\"color\"].str[0].str.islower()]\n",
    "        .drop(columns=[\"color_list\"])\n",
    "        .assign(desc_color_agnostic=lambda df: df[\"desc\"].str.split(r\" \\(\").str[0])\n",
    "    )"
   ]
  },
  {
   "cell_type": "code",
   "execution_count": 44,
   "id": "497c6cdd",
   "metadata": {
    "execution": {
     "iopub.execute_input": "2023-12-17T11:29:35.299268Z",
     "iopub.status.busy": "2023-12-17T11:29:35.299164Z",
     "iopub.status.idle": "2023-12-17T11:29:35.301118Z",
     "shell.execute_reply": "2023-12-17T11:29:35.300876Z"
    }
   },
   "outputs": [],
   "source": [
    "def filter_in_store_orders(orders_df: pd.DataFrame = orders) -> pd.DataFrame:\n",
    "    \"\"\"\n",
    "    Filters out in-store orders from a DataFrame of order information.\n",
    "\n",
    "    Parameters\n",
    "    ----------\n",
    "    orders_df : pd.DataFrame, optional\n",
    "        DataFrame containing order information, by default orders.\n",
    "\n",
    "    Returns\n",
    "    -------\n",
    "    pd.DataFrame\n",
    "        DataFrame with in-store orders removed.\n",
    "\n",
    "    Notes\n",
    "    -----\n",
    "    This function filters out orders that were bought in-store by comparing the\n",
    "    'ordered' and 'shipped' columns. Only orders with distinct 'ordered' and\n",
    "    'shipped' timestamps are retained.\n",
    "\n",
    "    Example\n",
    "    -------\n",
    "    >>> filter_in_store_orders(df)\n",
    "    # Returns a DataFrame with in-store orders removed.\n",
    "    \"\"\"\n",
    "    return orders_df.loc[orders_df[\"ordered\"] == orders_df[\"shipped\"]]"
   ]
  },
  {
   "cell_type": "code",
   "execution_count": 45,
   "id": "0a4993c8",
   "metadata": {
    "execution": {
     "iopub.execute_input": "2023-12-17T11:29:35.302521Z",
     "iopub.status.busy": "2023-12-17T11:29:35.302426Z",
     "iopub.status.idle": "2023-12-17T11:29:35.304516Z",
     "shell.execute_reply": "2023-12-17T11:29:35.304279Z"
    }
   },
   "outputs": [],
   "source": [
    "def bargain_hunter_in_store_color_items(\n",
    "    products_df: pd.DataFrame = products,\n",
    "    orders_items_df: pd.DataFrame = orders_items,\n",
    "    orders_df: pd.DataFrame = orders,\n",
    ") -> pd.DataFrame:\n",
    "    return (\n",
    "        products_df.pipe(color_agnostic_item_name)\n",
    "        .merge(orders_items_df, on=\"sku\")\n",
    "        .merge(orders_df, on=\"orderid\")\n",
    "        .loc[\n",
    "            lambda d: (\n",
    "                d[\"customerid\"].isin(six_the_bargain_hunter().loc[:, \"customerid\"])\n",
    "            )\n",
    "        ]\n",
    "        .pipe(filter_in_store_orders)\n",
    "        .pipe(date_hour_mm)\n",
    "    )"
   ]
  },
  {
   "cell_type": "code",
   "execution_count": 46,
   "id": "902cbcb8",
   "metadata": {
    "execution": {
     "iopub.execute_input": "2023-12-17T11:29:35.305922Z",
     "iopub.status.busy": "2023-12-17T11:29:35.305830Z",
     "iopub.status.idle": "2023-12-17T11:29:35.308749Z",
     "shell.execute_reply": "2023-12-17T11:29:35.308511Z"
    }
   },
   "outputs": [],
   "source": [
    "def the_order_of_the_meet(\n",
    "    orders_df: pd.DataFrame = orders,\n",
    "    orders_items_df: pd.DataFrame = orders_items,\n",
    "    products_df: pd.DataFrame = products,\n",
    ") -> pd.DataFrame:\n",
    "    \"\"\"\n",
    "    Combines and filters various DataFrames to create a comprehensive dataset\n",
    "    of order information.\n",
    "\n",
    "    Parameters\n",
    "    ----------\n",
    "    orders_df : pd.DataFrame, optional\n",
    "        DataFrame containing order information, by default orders.\n",
    "    orders_items_df : pd.DataFrame, optional\n",
    "        DataFrame containing order items information, by default orders_items.\n",
    "    products_df : pd.DataFrame, optional\n",
    "        DataFrame containing product information, by default products.\n",
    "\n",
    "    Returns\n",
    "    -------\n",
    "    pd.DataFrame\n",
    "        DataFrame with a filtered and merged dataset representing comprehensive\n",
    "        order information.\n",
    "    \"\"\"\n",
    "    bargain_hunter = bargain_hunter_in_store_color_items()\n",
    "    return (\n",
    "        orders_df.pipe(filter_in_store_orders)\n",
    "        .merge(orders_items_df, on=\"orderid\")\n",
    "        .pipe(date_hour_mm)\n",
    "        .merge(products_df.pipe(color_agnostic_item_name), on=\"sku\")\n",
    "        .merge(\n",
    "            bargain_hunter.loc[:, [\"desc_color_agnostic\", \"date_hour\"]],\n",
    "            on=[\"desc_color_agnostic\", \"date_hour\"],\n",
    "        )\n",
    "        .loc[lambda df: ~df[\"customerid\"].isin(bargain_hunter[\"customerid\"])]\n",
    "        .filter(bargain_hunter.columns)\n",
    "        .pipe(\n",
    "            lambda cute_guy: pd.concat(\n",
    "                [\n",
    "                    bargain_hunter.loc[\n",
    "                        lambda b: (\n",
    "                            b[\"desc_color_agnostic\"].isin(\n",
    "                                cute_guy[\"desc_color_agnostic\"]\n",
    "                            )\n",
    "                        )\n",
    "                        & (b[\"date_hour\"].isin(cute_guy[\"date_hour\"]))\n",
    "                    ],\n",
    "                    cute_guy,\n",
    "                ]\n",
    "            )\n",
    "        )\n",
    "    )"
   ]
  },
  {
   "cell_type": "code",
   "execution_count": 47,
   "id": "317582bc",
   "metadata": {
    "execution": {
     "iopub.execute_input": "2023-12-17T11:29:35.310195Z",
     "iopub.status.busy": "2023-12-17T11:29:35.310099Z",
     "iopub.status.idle": "2023-12-17T11:29:36.165423Z",
     "shell.execute_reply": "2023-12-17T11:29:36.165128Z"
    }
   },
   "outputs": [
    {
     "data": {
      "text/html": [
       "<div>\n",
       "<style scoped>\n",
       "    .dataframe tbody tr th:only-of-type {\n",
       "        vertical-align: middle;\n",
       "    }\n",
       "\n",
       "    .dataframe tbody tr th {\n",
       "        vertical-align: top;\n",
       "    }\n",
       "\n",
       "    .dataframe thead th {\n",
       "        text-align: right;\n",
       "    }\n",
       "</style>\n",
       "<table border=\"1\" class=\"dataframe\">\n",
       "  <thead>\n",
       "    <tr style=\"text-align: right;\">\n",
       "      <th></th>\n",
       "      <th>sku</th>\n",
       "      <th>desc</th>\n",
       "      <th>wholesale_cost</th>\n",
       "      <th>dims_cm</th>\n",
       "      <th>color</th>\n",
       "      <th>desc_color_agnostic</th>\n",
       "      <th>orderid</th>\n",
       "      <th>qty</th>\n",
       "      <th>unit_price</th>\n",
       "      <th>customerid</th>\n",
       "      <th>ordered</th>\n",
       "      <th>shipped</th>\n",
       "      <th>items</th>\n",
       "      <th>total</th>\n",
       "      <th>date_hour</th>\n",
       "    </tr>\n",
       "  </thead>\n",
       "  <tbody>\n",
       "    <tr>\n",
       "      <th>128513</th>\n",
       "      <td>HOM5135</td>\n",
       "      <td>Mini Machine (blue)</td>\n",
       "      <td>32.51</td>\n",
       "      <td>16.8|9.7|3.0</td>\n",
       "      <td>blue</td>\n",
       "      <td>Mini Machine</td>\n",
       "      <td>73257</td>\n",
       "      <td>1</td>\n",
       "      <td>16.25</td>\n",
       "      <td>8884</td>\n",
       "      <td>2019-01-25 12:01:41</td>\n",
       "      <td>2019-01-25 12:01:41</td>\n",
       "      <td>NaN</td>\n",
       "      <td>16.25</td>\n",
       "      <td>01/25/2019 12:01</td>\n",
       "    </tr>\n",
       "    <tr>\n",
       "      <th>0</th>\n",
       "      <td>HOM6259</td>\n",
       "      <td>Mini Machine (magenta)</td>\n",
       "      <td>34.07</td>\n",
       "      <td>18.1|13.5|4.7</td>\n",
       "      <td>magenta</td>\n",
       "      <td>Mini Machine</td>\n",
       "      <td>73256</td>\n",
       "      <td>1</td>\n",
       "      <td>46.52</td>\n",
       "      <td>9931</td>\n",
       "      <td>2019-01-25 12:01:30</td>\n",
       "      <td>2019-01-25 12:01:30</td>\n",
       "      <td>NaN</td>\n",
       "      <td>46.52</td>\n",
       "      <td>01/25/2019 12:01</td>\n",
       "    </tr>\n",
       "  </tbody>\n",
       "</table>\n",
       "</div>"
      ],
      "text/plain": [
       "            sku                    desc  wholesale_cost        dims_cm  \\\n",
       "128513  HOM5135     Mini Machine (blue)           32.51   16.8|9.7|3.0   \n",
       "0       HOM6259  Mini Machine (magenta)           34.07  18.1|13.5|4.7   \n",
       "\n",
       "          color desc_color_agnostic  orderid  qty  unit_price  customerid  \\\n",
       "128513     blue        Mini Machine    73257    1       16.25        8884   \n",
       "0       magenta        Mini Machine    73256    1       46.52        9931   \n",
       "\n",
       "                   ordered             shipped  items  total         date_hour  \n",
       "128513 2019-01-25 12:01:41 2019-01-25 12:01:41    NaN  16.25  01/25/2019 12:01  \n",
       "0      2019-01-25 12:01:30 2019-01-25 12:01:30    NaN  46.52  01/25/2019 12:01  "
      ]
     },
     "execution_count": 47,
     "metadata": {},
     "output_type": "execute_result"
    }
   ],
   "source": [
    "orders.pipe(the_order_of_the_meet)"
   ]
  },
  {
   "cell_type": "code",
   "execution_count": 48,
   "id": "9d15a26b",
   "metadata": {
    "execution": {
     "iopub.execute_input": "2023-12-17T11:29:36.167009Z",
     "iopub.status.busy": "2023-12-17T11:29:36.166897Z",
     "iopub.status.idle": "2023-12-17T11:29:36.169081Z",
     "shell.execute_reply": "2023-12-17T11:29:36.168818Z"
    }
   },
   "outputs": [],
   "source": [
    "def seven_the_meet_cute(customers_df: pd.DataFrame = customers) -> pd.DataFrame:\n",
    "    the_meet = the_order_of_the_meet()\n",
    "    the_couple_customer_ids = the_meet[\"customerid\"]\n",
    "    the_bargain_hunter = six_the_bargain_hunter()[\"customerid\"]\n",
    "    the_meet_cute_id = set(the_couple_customer_ids) - set(the_bargain_hunter)\n",
    "    return customers_df.loc[customers_df[\"customerid\"].isin(list(the_meet_cute_id))]"
   ]
  },
  {
   "cell_type": "code",
   "execution_count": 49,
   "id": "ed1bda34",
   "metadata": {
    "execution": {
     "iopub.execute_input": "2023-12-17T11:29:36.170529Z",
     "iopub.status.busy": "2023-12-17T11:29:36.170433Z",
     "iopub.status.idle": "2023-12-17T11:29:37.170288Z",
     "shell.execute_reply": "2023-12-17T11:29:37.169958Z"
    }
   },
   "outputs": [
    {
     "data": {
      "text/html": [
       "<div>\n",
       "<style scoped>\n",
       "    .dataframe tbody tr th:only-of-type {\n",
       "        vertical-align: middle;\n",
       "    }\n",
       "\n",
       "    .dataframe tbody tr th {\n",
       "        vertical-align: top;\n",
       "    }\n",
       "\n",
       "    .dataframe thead th {\n",
       "        text-align: right;\n",
       "    }\n",
       "</style>\n",
       "<table border=\"1\" class=\"dataframe\">\n",
       "  <thead>\n",
       "    <tr style=\"text-align: right;\">\n",
       "      <th></th>\n",
       "      <th>customerid</th>\n",
       "      <th>name</th>\n",
       "      <th>address</th>\n",
       "      <th>citystatezip</th>\n",
       "      <th>birthdate</th>\n",
       "      <th>phone</th>\n",
       "      <th>timezone</th>\n",
       "      <th>lat</th>\n",
       "      <th>long</th>\n",
       "    </tr>\n",
       "  </thead>\n",
       "  <tbody>\n",
       "    <tr>\n",
       "      <th>8930</th>\n",
       "      <td>9931</td>\n",
       "      <td>Jeremy Burch</td>\n",
       "      <td>28-83 36th St</td>\n",
       "      <td>Astoria, NY 11103</td>\n",
       "      <td>1973-05-22</td>\n",
       "      <td>516-544-4187</td>\n",
       "      <td>America/New_York</td>\n",
       "      <td>40.76774</td>\n",
       "      <td>-73.91405</td>\n",
       "    </tr>\n",
       "  </tbody>\n",
       "</table>\n",
       "</div>"
      ],
      "text/plain": [
       "      customerid          name        address       citystatezip  birthdate  \\\n",
       "8930        9931  Jeremy Burch  28-83 36th St  Astoria, NY 11103 1973-05-22   \n",
       "\n",
       "             phone          timezone       lat      long  \n",
       "8930  516-544-4187  America/New_York  40.76774 -73.91405  "
      ]
     },
     "metadata": {},
     "output_type": "display_data"
    }
   ],
   "source": [
    "customers.pipe(seven_the_meet_cute).pipe(display)"
   ]
  },
  {
   "cell_type": "code",
   "execution_count": 50,
   "id": "259816c5",
   "metadata": {
    "execution": {
     "iopub.execute_input": "2023-12-17T11:29:37.171899Z",
     "iopub.status.busy": "2023-12-17T11:29:37.171797Z",
     "iopub.status.idle": "2023-12-17T11:29:38.183611Z",
     "shell.execute_reply": "2023-12-17T11:29:38.183220Z"
    },
    "lines_to_next_cell": 2
   },
   "outputs": [
    {
     "data": {
      "text/plain": [
       "'516-544-4187'"
      ]
     },
     "execution_count": 50,
     "metadata": {},
     "output_type": "execute_result"
    }
   ],
   "source": [
    "customers.pipe(seven_the_meet_cute).pipe(answer)"
   ]
  },
  {
   "cell_type": "markdown",
   "id": "7ad75354",
   "metadata": {
    "lines_to_next_cell": 2
   },
   "source": [
    "## 8. The Collector\n",
    "\n",
    "“Oh that damned woman! She moved in, clogged my bathtub, left her coupons all\n",
    "over the kitchen, and then just vanished one night without leaving so much as\n",
    "a note.\n",
    "\n",
    "Except she did leave behind that nasty carpet. I spent months cleaning one\n",
    "corner, only to discover a snake hiding in the branches! I knew then that she\n",
    "was never coming back, and I had to get it out of my sight.\n",
    "\n",
    "“Well, I don’t have any storage here, and it didn’t seem right to sell it, so\n",
    "I gave it to my sister. She wound up getting a newer and more expensive\n",
    "carpet, so she gave it to an acquaintance of hers who collects all sorts of\n",
    "junk. Apparently he owns an entire set of Noah’s collectibles! He probably\n",
    "still has the carpet, even.\n",
    "\n",
    "“My sister is away for the holidays, but I can have her call you in a few\n",
    "weeks.”\n",
    "\n",
    "The family dinner is tonight! Can you find the collector’s phone number in\n",
    "time?"
   ]
  },
  {
   "cell_type": "code",
   "execution_count": 51,
   "id": "f0e5f7d7",
   "metadata": {
    "execution": {
     "iopub.execute_input": "2023-12-17T11:29:38.185516Z",
     "iopub.status.busy": "2023-12-17T11:29:38.185375Z",
     "iopub.status.idle": "2023-12-17T11:29:38.187803Z",
     "shell.execute_reply": "2023-12-17T11:29:38.187559Z"
    }
   },
   "outputs": [],
   "source": [
    "def eight_the_collector(\n",
    "    customers_df: pd.DataFrame = customers,\n",
    "    orders_df: pd.DataFrame = orders,\n",
    "    orders_items_df: pd.DataFrame = orders_items,\n",
    "):\n",
    "    top_buyer = (\n",
    "        orders_df.merge(orders_items_df, on=\"orderid\")[\"customerid\"]\n",
    "        .value_counts()\n",
    "        .idxmax()\n",
    "    )\n",
    "\n",
    "    return customers_df.loc[customers_df[\"customerid\"] == top_buyer]"
   ]
  },
  {
   "cell_type": "code",
   "execution_count": 52,
   "id": "6cbebf0b",
   "metadata": {
    "execution": {
     "iopub.execute_input": "2023-12-17T11:29:38.189302Z",
     "iopub.status.busy": "2023-12-17T11:29:38.189142Z",
     "iopub.status.idle": "2023-12-17T11:29:38.250366Z",
     "shell.execute_reply": "2023-12-17T11:29:38.250055Z"
    }
   },
   "outputs": [
    {
     "data": {
      "text/html": [
       "<div>\n",
       "<style scoped>\n",
       "    .dataframe tbody tr th:only-of-type {\n",
       "        vertical-align: middle;\n",
       "    }\n",
       "\n",
       "    .dataframe tbody tr th {\n",
       "        vertical-align: top;\n",
       "    }\n",
       "\n",
       "    .dataframe thead th {\n",
       "        text-align: right;\n",
       "    }\n",
       "</style>\n",
       "<table border=\"1\" class=\"dataframe\">\n",
       "  <thead>\n",
       "    <tr style=\"text-align: right;\">\n",
       "      <th></th>\n",
       "      <th>customerid</th>\n",
       "      <th>name</th>\n",
       "      <th>address</th>\n",
       "      <th>citystatezip</th>\n",
       "      <th>birthdate</th>\n",
       "      <th>phone</th>\n",
       "      <th>timezone</th>\n",
       "      <th>lat</th>\n",
       "      <th>long</th>\n",
       "    </tr>\n",
       "  </thead>\n",
       "  <tbody>\n",
       "    <tr>\n",
       "      <th>1601</th>\n",
       "      <td>2602</td>\n",
       "      <td>Daniel Wilson</td>\n",
       "      <td>376A E 89th St</td>\n",
       "      <td>Manhattan, NY 10128</td>\n",
       "      <td>1966-08-18</td>\n",
       "      <td>516-638-9966</td>\n",
       "      <td>America/New_York</td>\n",
       "      <td>40.77864</td>\n",
       "      <td>-73.94972</td>\n",
       "    </tr>\n",
       "  </tbody>\n",
       "</table>\n",
       "</div>"
      ],
      "text/plain": [
       "      customerid           name         address         citystatezip  \\\n",
       "1601        2602  Daniel Wilson  376A E 89th St  Manhattan, NY 10128   \n",
       "\n",
       "      birthdate         phone          timezone       lat      long  \n",
       "1601 1966-08-18  516-638-9966  America/New_York  40.77864 -73.94972  "
      ]
     },
     "metadata": {},
     "output_type": "display_data"
    }
   ],
   "source": [
    "customers.pipe(eight_the_collector).pipe(display)"
   ]
  },
  {
   "cell_type": "code",
   "execution_count": 53,
   "id": "f4ac93e8",
   "metadata": {
    "execution": {
     "iopub.execute_input": "2023-12-17T11:29:38.251982Z",
     "iopub.status.busy": "2023-12-17T11:29:38.251875Z",
     "iopub.status.idle": "2023-12-17T11:29:38.320976Z",
     "shell.execute_reply": "2023-12-17T11:29:38.320615Z"
    }
   },
   "outputs": [
    {
     "data": {
      "text/plain": [
       "'516-638-9966'"
      ]
     },
     "execution_count": 53,
     "metadata": {},
     "output_type": "execute_result"
    }
   ],
   "source": [
    "customers.pipe(eight_the_collector).pipe(answer)"
   ]
  },
  {
   "cell_type": "markdown",
   "id": "3e021bff",
   "metadata": {},
   "source": [
    "## 9. Epilogue\n",
    "\n",
    "“Oh yes, that magnificant Persian carpet! An absolute masterpiece, with a\n",
    "variety of interesting animals congregating around a Tree of Life. As a\n",
    "collector, I couldn’t believe when it fell into my lap.\n",
    "\n",
    "“A friend of mine had taken it off her brother’s hands, and she didn’t know\n",
    "what to do with it. I saw her one day, and she was about to put an old rug out\n",
    "at the curb. It looked like it had been through a lot, but it was remarkably\n",
    "not that dirty. It still took quite a bit of effort and no small amount of rug\n",
    "cleaner, but ultimately I managed to get the last bits of grime out of it.\n",
    "\n",
    "“I actually live right down the street from Noah’s Market–I’m a huge fan and I\n",
    "shop there all the time! I even have a one-of-a-kind scale model of Noah’s Ark\n",
    "that makes a complete set of Noah’s collectibles.\n",
    "\n",
    "“I would love for Noah to have his rug once again to enjoy.”\n",
    "\n",
    "![](hod_finish_speedrun.gif)"
   ]
  }
 ],
 "metadata": {
  "jupytext": {
   "cell_metadata_filter": "-all",
   "main_language": "python",
   "notebook_metadata_filter": "-all"
  },
  "language_info": {
   "codemirror_mode": {
    "name": "ipython",
    "version": 3
   },
   "file_extension": ".py",
   "mimetype": "text/x-python",
   "name": "python",
   "nbconvert_exporter": "python",
   "pygments_lexer": "ipython3",
   "version": "3.10.13"
  }
 },
 "nbformat": 4,
 "nbformat_minor": 5
}
